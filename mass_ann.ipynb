{
  "nbformat": 4,
  "nbformat_minor": 0,
  "metadata": {
    "colab": {
      "provenance": [],
      "authorship_tag": "ABX9TyMsuebk+aK60/ow6wPaaU8Y",
      "include_colab_link": true
    },
    "kernelspec": {
      "name": "python3",
      "display_name": "Python 3"
    },
    "language_info": {
      "name": "python"
    }
  },
  "cells": [
    {
      "cell_type": "markdown",
      "metadata": {
        "id": "view-in-github",
        "colab_type": "text"
      },
      "source": [
        "<a href=\"https://colab.research.google.com/github/tsp00/mass/blob/master/mass_ann.ipynb\" target=\"_parent\"><img src=\"https://colab.research.google.com/assets/colab-badge.svg\" alt=\"Open In Colab\"/></a>"
      ]
    },
    {
      "cell_type": "markdown",
      "source": [
        "chrome-extension://efaidnbmnnnibpcajpcglclefindmkaj/http://contents2.kocw.or.kr/KOCW/data/document/2020/edu1/bdu/hongseungwook1118/023.pdf"
      ],
      "metadata": {
        "id": "dnf6HnA2qXHW"
      }
    },
    {
      "cell_type": "code",
      "execution_count": 157,
      "metadata": {
        "id": "wyMHpgEOkQiy"
      },
      "outputs": [],
      "source": [
        "import numpy as np\n",
        "from keras import layers,models\n",
        "from sklearn import preprocessing"
      ]
    },
    {
      "cell_type": "code",
      "source": [
        "# Duflo-Zuker mass model dz10\n",
        "\n",
        "#_______________________________________________________________________________\n",
        "# dz10 parameters\n",
        "b_def = np.array([0.7043, 17.7418, 16.2562, 37.5562, 53.9017, 0.4711, 2.1307, 0.0210, 40.5356, 6.0632])\n",
        "\n",
        "\n",
        "#_______________________________________________________________________________\n",
        "def dz10_op (Z, N):\n",
        "# DZ 10 operators, returns dyda2(shape=(2,10)), 2 is for spherical/deformed\n",
        "\n",
        "   op=np.zeros(2)\n",
        "   dx=np.zeros(2)\n",
        "   qx=np.zeros(2)\n",
        "   os=np.zeros(2)\n",
        "   oei=np.zeros(2)\n",
        "   dei=np.zeros(2)\n",
        "   pp=np.zeros(2)\n",
        "   # c*********\n",
        "   nn= np.array([N, Z])\n",
        "   A = N + Z\n",
        "   t = np.abs(N-Z)\n",
        "   r = np.power(A, 1./3.)\n",
        "   #       !s=r*r\n",
        "   rc = r*(1. - 0.25*np.power(t/A, 2)) \t# !      Charge radius\n",
        "   ra = (rc*rc)/r\n",
        "   # c--------\n",
        "   z2 = Z*(Z - 1)\n",
        "\n",
        "   # c********                          ! beginning of main loop\n",
        "   dyda= np.zeros(10)\n",
        "   y=np.zeros(2)\n",
        "   dyda_table= np.zeros(shape=(2,10))\n",
        "   for ndef in range(2): #= 0  ndef <= 1  ndef++) {\t# !      ndef=0  spherical\n",
        "      noc= np.zeros(shape=(2,18))\n",
        "      onp= np.zeros(shape=(2,2,9))\n",
        "      y[ndef] = 0.\n",
        "      ju = 4 if (ndef == 1) else 0  \t# !      nucleons associated to deform.\n",
        "      for kk in range(10): #(int kk = 2  kk <= 10  kk++) {\n",
        "         dyda[kk] = 0.\n",
        "      #}\n",
        "      dyda[0] = ra * (-z2 + 0.76*np.power(z2, 2./3.))/rc \t# ! ra times of Coulomb energy\n",
        "      # c--------                          ! beginning of loop over N and Z\n",
        "      for j in range (2): #(int j = 0  j <= 1  j++) {\n",
        "         ncum = 0\n",
        "         for i in range (100): #(int i = 0  i <= 100  i++) {\n",
        "            id = i+2 if (i%2 == 0) else (i + 1)*(i - 1)//4 # sub-shells (ssh) j and r filli\n",
        "            if (ncum + id >= nn[j]): # {\n",
        "               ie=i\n",
        "               break\n",
        "            ncum += id\n",
        "            noc[j][i] = id \t# !     nb of nucleons in each ssh\n",
        "         # c--------\n",
        "         ip = ie//2 \t# !     HO number (p)\n",
        "         pp[j] = ip\n",
        "         moc = nn[j] - ncum \t# !+id\n",
        "         noc[j][ie] = moc - ju \t# !     nb of nucleons in last ssh\n",
        "         noc[j][ie + 1] = ju\n",
        "         oei[j] = moc + ip*(ip - 1) if (ie%2 == 0) else moc - ju              # nb of nucleons in last EI she\n",
        "         dei[j] = ip*(ip + 1) + 2   if (ie%2 == 0) else (ip + 1)*(ip + 2) + 2 # size of the EI shell\n",
        "\n",
        "         qx[j] = oei[j]*(dei[j] - oei[j] - ju)/dei[j] \t# ! n*(D-n)/D        S3(j)\n",
        "         dx[j] = qx[j]*(2*oei[j] - dei[j]) \t# ! n*(D-n)*(2n-D)/D  Q\n",
        "         if (ndef == 1): qx[j] /= np.sqrt(dei[j]) \t# ! scaling for deformed\n",
        "         # c--------\n",
        "         for i in range (ie+2): #(int i = 0  i <= ie + 1  i++) {\t# ! imax-1                             ! Amplitudes\n",
        "            ip = i//2\n",
        "            onp[j][0][ip] += noc[j][i]/np.sqrt((ip+1.)*(ip+2.)) \t# !    for FM term\n",
        "            vm= 0.5*ip if (i%2 == 0) else -1. # for spin-orbit ter\n",
        "            onp[j][1][ip] += noc[j][i]*vm\n",
        "         # c--------\n",
        "         op[j] = 0.\n",
        "         os[j] = 0.\n",
        "         for ip in range ((ie + 1)//2 +1): #(int ip = 0  ip <= (ie + 1)/2  ip++) {\t# !ipm                !       FM and SO terms\n",
        "            pi = ip\n",
        "            den = np.power((pi + 1)*(pi + 2), 3./2.)\n",
        "            op[j] += onp[j][0][ip] \t# ! FM\n",
        "            os[j] += onp[j][1][ip]*((1. + onp[j][0][ip])*(pi*pi) + (1. - onp[j][0][ip])*(4*pi - 5))/den \t# ! SO\n",
        "\n",
        "         op[j] *= op[j]\n",
        "\n",
        "      # c--------                          ! end of loop over  N and Z\n",
        "      dyda[1] = op[0] + op[1] \t# !   Master term (FM): volume\n",
        "      dyda[2] = -dyda[1]/ra \t# !                     surface\n",
        "      dyda[1] = dyda[1] + os[0] + os[1] \t# !   FM + SO\n",
        "      dyda[3] = -t*(t + 2)/(r*r) \t# !   isospin term : volume\n",
        "      dyda[4] = -dyda[3]/ra \t# !                : surface\n",
        "      if (ndef == 0): # {\t# ! sph.\n",
        "         dyda[5] = dx[0] + dx[1] \t# !   S3  volume\n",
        "         dyda[6] = -dyda[5]/ra \t# !       surface\n",
        "         px = np.sqrt(pp[0]) + np.sqrt(pp[1])\n",
        "         dyda[7] = qx[0]*qx[1]*(np.power(2, px)) \t# !   QQ sph.\n",
        "      else: # {\t# ! def.\n",
        "         dyda[8] = qx[0]*qx[1] \t# !   QQ deform.\n",
        "\n",
        "      dyda[4] += t*(1 - t)/(A*np.power(ra, 3)) \t# !   \"Wigner term\"\n",
        "      # c--------                                 !   PAIRING\n",
        "      if ((N%2==1) and (Z%2==1)): dyda[9] = t/A\n",
        "      if (N > Z): # {\n",
        "         if ((N%2==0) and (Z%2==1)): dyda[9] = 1 - t/A\n",
        "         if ((N%2==1) and (Z%2==0)): dyda[9] = 1\n",
        "      else: # {\n",
        "         if ((N%2==0) and (Z%2==1)): dyda[9] = 1\n",
        "         if ((N%2==1) and (Z%2==0)): dyda[9] = 1 - t/A\n",
        "\n",
        "      if ((N%2==0) and (Z%2==0)): dyda[9] = 2 - t/A\n",
        "\n",
        "      for mss in range(10): #(int mss = 1  mss <= 10  mss++) {\n",
        "         dyda_table[ndef,mss]=  dyda[mss]/ra\n",
        "      # c--------                            ! end of main loop\n",
        "   return dyda_table\n",
        "\n",
        "\n",
        "#_______________________________________________________________________________\n",
        "def dz10 (Z, N, b = b_def, verbosity = 0, opfun = dz10_op):\n",
        "   dyda_table= opfun (Z, N)\n",
        "   y= np.zeros(2)\n",
        "   for ndef in range(2): #= 0  ndef <= 1  ndef++) {\t# !      ndef=0  spherical\n",
        "      for mss in range(10): #(int mss = 1  mss <= 10  mss++) {\n",
        "         y[ndef] += dyda_table[ndef,mss]*b[mss]\n",
        "\n",
        "   is_deformed = 0\n",
        "   be= y[0]\n",
        "   if (y[1] > y[0] and Z > 50):\n",
        "      is_deformed = 1\n",
        "      be= y[1]\n",
        "\n",
        "   if verbosity <= 0 : return be\n",
        "   if verbosity == 1 : return be, is_deformed\n",
        "\n",
        "   return be, is_deformed,dyda_table[is_deformed]"
      ],
      "metadata": {
        "id": "RTXTGOZPhsl2"
      },
      "execution_count": 158,
      "outputs": []
    },
    {
      "cell_type": "code",
      "source": [
        "dz10(50, 81)"
      ],
      "metadata": {
        "colab": {
          "base_uri": "https://localhost:8080/"
        },
        "id": "njEByBE1yfZO",
        "outputId": "d7e8a790-0d60-4497-8e1c-15a01d5e7670"
      },
      "execution_count": 159,
      "outputs": [
        {
          "output_type": "execute_result",
          "data": {
            "text/plain": [
              "1095.0984200112887"
            ]
          },
          "metadata": {},
          "execution_count": 159
        }
      ]
    },
    {
      "cell_type": "code",
      "source": [
        "dz10(38,53)"
      ],
      "metadata": {
        "colab": {
          "base_uri": "https://localhost:8080/"
        },
        "id": "zXCbhcfhzCmY",
        "outputId": "e96933b4-eafa-472c-ddb6-6b8b281dfeb5"
      },
      "execution_count": 160,
      "outputs": [
        {
          "output_type": "execute_result",
          "data": {
            "text/plain": [
              "787.8845069732481"
            ]
          },
          "metadata": {},
          "execution_count": 160
        }
      ]
    },
    {
      "cell_type": "code",
      "source": [
        "# Duflo-Zuker mass model dz33\n",
        "\n",
        "#_______________________________________________________________________________\n",
        "# dz33 parameters\n",
        "a_28=np.array([\n",
        "   9.0914*2, 6.3355*2, 4.5791, 19.8946, 1.7325, 7.5247,\n",
        "   -7.1953, -39.9787, -0.3976, 0.8131, -0.7435, -3.7291,\n",
        "   -0.1305, -0.6387, 0.4534, 2.0605, 0.3449, 1.4727,\n",
        "   -1.0433, 0.0000, 5.2495, 0.0000, -32.1007, -151.1164,\n",
        "   -4.6103, -32.4238, 37.3226*4, 52.1673*4, 0.9597, 3.0024,\n",
        "   0.6977, 6.0390, 17.7960 ])\n",
        "\n",
        "a_fit_1=np.array([\n",
        "    18.3823114678441, 14.9654647147403, 5.16043547913969, 23.6791652365813, 1.69198437698102, 7.70752795386154,          # FM+, FS+, FS-\n",
        "    -4.89968997566140, -41.9546818849829, -0.452541072665594, -0.115672475977305, -0.841966943307345, -4.26430263634212, # FC+, PM+, PS+\n",
        "    -0.106021683952664, -0.562161540801153, 0.427309092386025, 1.96420799950015, 0.334218482733298, 1.31955010861289,    # PS-, S3,  SQ-\n",
        "    -8.103099200805119/100, 8.20516288043133, 6.14976974664344, 5.32159824150776, -33.1968387296639, -158.618534804942,  # D3,  QQ+, D0\n",
        "    -2.77690717089939, -24.5189516535313, 149.743976383871, 209.350547986690, 1.15196960067461, 3.72823843532976,        # QQ-, asym,SS\n",
        "    0.702321263796662, 6.19508179596490, 9.74100193880679])                                                              # EC,  P1,  P2\n",
        "\n",
        "a_fit_2=np.array([\n",
        "    18.3221122504656, 14.5224438086702, 5.38508401938650, 24.8228141400897, 1.74698778464929, 7.91311926171185,\n",
        "    -5.48565655334926, -42.8968460273137, -0.435917749563838, 3.908547722336988/100, -0.872068966794544, -4.42502282169325,\n",
        "    -0.127419381208396, -0.668296738146491, 0.435870298399898, 2.00690509793684, 0.345745626292599, 1.40096007168900,\n",
        "    1.28594442409618, 16.2884201477635, 5.79492771834656, 1.73923193482831, -33.4964972193808, -159.670174045318,\n",
        "    -2.03517005308097, -18.7256526429027, 149.992913856565, 210.699329582436, 1.22681220517222, 4.06350605475340,\n",
        "    0.701672917012658, 6.25922079319403, 8.99509716404338])\n",
        "\n",
        "a_fit_3=np.array([\n",
        "    18.6228397521178, 15.8127576459535, 3.41694534980079, 14.5804580920230, 1.35692505906094, 6.41683661357447,\n",
        "    -1.94788844902597, -28.5255998068208, -0.644332680103499, -0.819341338674875, -0.535341673865479, -2.55311797652534,\n",
        "    -0.136146129695100, -0.694037733724995, 0.455186789743238, 2.04846967472275, 0.338773739280799, 1.33999676626953,\n",
        "    8.12815311636854, 50.3506134798718, -1.82915100886547, -39.8136431369429, -23.4674927512946, -108.181314678997,\n",
        "    12.8175343210966, 65.0038503245761, 149.285763376006, 207.179983732669, 1.50059967529012, 4.31016747430967,\n",
        "    0.701272742023415, 6.19590396338389, 8.07882516556805])\n",
        "\n",
        "\n",
        "#_______________________________________________________________________________\n",
        "# dz33 operators\n",
        "def dz33_op (nz, nx):\n",
        "   dyda= np.zeros(33)\n",
        "   dyda_table= np.zeros(shape=(2,33))\n",
        "   #    !C*****************************************\n",
        "   #    !      data a/ 9.0914,   6.3355,   4.5791,  19.8946,   1.7325,   7.5247,\n",
        "   #    !     &       -7.1953, -39.9787,  -0.3976,   0.8131,  -0.7435,  -3.7291,\n",
        "   #    !     &       -0.1305,  -0.6387,   0.4534,   2.0605,   0.3449,   1.4727,\n",
        "   #    !     &       -1.0433,   0.0000,   5.2495,   0.0000, -32.1007,-151.1164,\n",
        "   #    !     &       -4.6103, -32.4238, -37.3226, -52.1673,   0.9597,   3.0024,\n",
        "   #    !     &        0.6977,   6.0390,  17.7960/\n",
        "   #    ! Data=1751 RMS= 0.330  (mars 95)\n",
        "   #    !FM+*   9.09 fm+*   6.34 FS+*   4.58 fs+*  19.89 FS-*   1.73 fs-*   7.52\n",
        "   #    !FC+*  -7.20 fc+* -39.98 PM+*  -0.40 pm+*   0.81 PS+*  -0.74 ps+*  -3.73\n",
        "   #    !PS-*  -0.13 ps-*  -0.64 S3 *   0.45 s3 *   2.06 SQ-*   0.34 sq-*   1.47\n",
        "   #    !D3 *  -1.04 d3     0.00 QQ+*   5.25 qq+    0.00  D0* -32.10  d0*-151.12\n",
        "   #    !QQ-*  -4.61 qq-* -32.42  TT* -37.32  tt* -52.17  SS*   0.96  ss*   3.00\n",
        "   #    ! C *   0.70 P0 *   6.04 P1 *  17.80\n",
        "   #    !                    ----------------------\n",
        "   #    ! 31 Coulomb\n",
        "   #    ! 32+33 Pairing\n",
        "   #    !\n",
        "   imax = 18\n",
        "   mo = 2\n",
        "   maxp = 8\n",
        "   nn= np.array([nx,nz])\n",
        "   v = nx + nz\n",
        "   t = np.abs(nx-nz)\n",
        "   r = np.power(v, 1./3.)\n",
        "   s = r*r\n",
        "   rc = r*(1. - 0.25*np.power(t/v, 2))\n",
        "   ra = (rc*rc)/r\n",
        "   #    !******************\n",
        "   for ndef in range(2): # ndef= 0->SPH# 1->DEF#\n",
        "      jup= np.zeros(2)\n",
        "      jud= np.zeros(2)\n",
        "      #       !-----------\n",
        "      ju= 4 if (ndef == 1 and nz > 50) else 0\n",
        "      fyda= np.zeros(33)\n",
        "      fyd0= np.zeros(33)\n",
        "      dyda= np.zeros(33)\n",
        "\n",
        "      noc= np.zeros(shape=(2,imax))\n",
        "      onp= np.zeros(shape=(2,mo,maxp+1))\n",
        "      ot= np.zeros(shape=(2,mo,maxp+1))\n",
        "\n",
        "      onps= np.zeros(2)\n",
        "      oei= np.zeros(2)\n",
        "      dei= np.zeros(2)\n",
        "      sshell= np.zeros(2)\n",
        "\n",
        "      for j in range(2):\n",
        "         ncum = 0\n",
        "         for i1 in range(999+1):\n",
        "            i = i1 + 1\n",
        "            ie = i\n",
        "            if (i%2 != 0):\n",
        "               id = i + 1\n",
        "               if (ncum < nn[j]): sshell[j] = 1.\t# ! !sscouche  J\n",
        "            else:\n",
        "               id = i*(i - 2)/4\n",
        "               if (ncum < nn[j]): sshell[j] = 2.\t# ! ! SSC R\n",
        "\n",
        "            ncum += id\n",
        "            if (ncum > nn[j]): break\n",
        "            noc[j][i1] = id\n",
        "\n",
        "         i = ie\n",
        "         ip = (i-1)//2\t# ! !N0 couche HO\n",
        "         moc = nn[j] - ncum + id\n",
        "         if ((ndef == 1) and (i%2 != 0)):\n",
        "            jud[j] = max(0, ju-moc)\n",
        "            jup[j] = 0\n",
        "         else:\n",
        "            jup[j] = min(ju, moc)\n",
        "            jup[j] = ju\n",
        "            jud[j] = 0\n",
        "\n",
        "         noc[j][i-1] = moc - jup[j] + jud[j]\n",
        "         noc[j][i] = jup[j]\n",
        "         noc[j][i - 2] -= jud[j]\n",
        "         if (i%2 != 0):\n",
        "            oei[j] = moc + ip*(ip - 1) - ju\n",
        "            dei[j] = ip*(ip + 1) + 2\n",
        "         else:\n",
        "            oei[j] = moc - ju\n",
        "            dei[j] = (ip + 1)*(ip + 2) + 2\n",
        "\n",
        "         #          !C HERE,DEGENERACIES AND NUMBER OF ACTIVE PARTICLES  FOR  EI.\n",
        "         ipl = 0\n",
        "         vmr = 0.\n",
        "         vmj = 0.\n",
        "         for ii in range(imax):\n",
        "            onps[j] = 0.\n",
        "            ip = (ii)//2\n",
        "            degi = (ip + 1)*(ip + 2)\n",
        "            fac = 1./np.sqrt(degi)\n",
        "            if (ip != ipl): ipl= ipl+1\n",
        "            if ((2*ip + 1) == ii+1):\n",
        "               vm2 = (0.5*ip)/(ip + 1)\n",
        "               degr = ip*(ip - 1)\n",
        "               if (ip > 2):\n",
        "                  vmr = (0.5*(ip - 1))/ip\n",
        "                  vmj = -1./ip\n",
        "                  if (noc[j][ii] <= degr): onps[j] = noc[j][ii]*vmr\n",
        "                  if (noc[j][ii] > degr): onps[j] = degr*vmr + (noc[j][ii] - degr)*vmj\n",
        "\n",
        "            if ((2*ip + 1) != ii+1): vm2 = -1./(ip + 1)\t# ! !SSc. j\n",
        "            onp[j][1][ipl] += noc[j][ii]*vm2\n",
        "            onp[j][0][ipl] += noc[j][ii]*fac\n",
        "            fyd0[28] += onps[j]*(onp[j][0][ipl] + onp[j][1][ipl])\n",
        "\n",
        "      # ! !END OF LOOP OVER FLUIDS, j\n",
        "      if (ndef == 1):\n",
        "         alfa = 0.\n",
        "      else:\n",
        "         alfa = 0.5\n",
        "\n",
        "      facn = np.power(dei[0], alfa)\n",
        "      facz = np.power(dei[1], alfa)\n",
        "      dnnb = oei[0]*(dei[0] - oei[0])/dei[0]\n",
        "      dzzb = oei[1]*(dei[1] - oei[1])/dei[1]\n",
        "      qn = dnnb*facn/np.sqrt(dei[0])\n",
        "      qz = dzzb*facz/np.sqrt(dei[1])\n",
        "      di1n = dnnb*(2*oei[0] - dei[0])*facn*facn/(dei[0])\n",
        "      di1z = dzzb*(2*oei[1] - dei[1])*facz*facz/(dei[1])\n",
        "      s3 = di1z + di1n\n",
        "      qq0 = (qn + qz)*(qn + qz)\n",
        "      qq1 = (qn - qz)*(qn - qz)\n",
        "      qqp = qq0 + qq1\n",
        "      qqm = qq0 - qq1\n",
        "      for m in range(mo):\n",
        "         for i in range(maxp+1):\n",
        "            ot[0][m][i] = onp[0][m][i] + onp[1][m][i]\n",
        "            ot[1][m][i] = onp[0][m][i] - onp[1][m][i]\n",
        "\n",
        "      op= np.zeros(shape=(2,3,2))\n",
        "      op1= np.zeros(2)\n",
        "      op2= np.zeros(2)\n",
        "\n",
        "      for i in range(maxp+1):\n",
        "         degi = (i + 1)*(i + 2)\n",
        "         fac = np.sqrt(degi)\n",
        "         for j in range(2):\n",
        "            for m in range(mo):\n",
        "               op[j][m][0] += ot[j][m][i]\n",
        "               otx = ot[j][m][i]*ot[j][m][i]*fac\n",
        "               op[j][m][1] += otx\n",
        "\n",
        "      for j in range(2):\n",
        "         for m in range(mo):\n",
        "            opxx = op[j][m][0]*op[j][m][0]\n",
        "            op[j][m][0] = opxx\n",
        "\n",
        "      for j in range(2):\n",
        "         for i in range(maxp+1):\n",
        "            degi = (i + 1)*(i + 2)\n",
        "            fac = np.sqrt(degi)\n",
        "            op1[j] += ot[j][0][i]/fac\n",
        "            op2[j] += ot[j][1][i]/fac\n",
        "\n",
        "      for j in range(2):\n",
        "         op[j][2][0] = op1[j]*op2[j]\n",
        "\n",
        "      k = -1\n",
        "      for l1 in range(2):\n",
        "         for m in range(3):\n",
        "            for j in range(2):\n",
        "               k += 2\n",
        "               fyd0[k - 1] = op[j][m][l1]\n",
        "\n",
        "      for jf in range(0,16+1,4):\n",
        "         fyd0[jf] += fyd0[jf + 2]\n",
        "         fyd0[jf + 2] = fyd0[jf] - 2.*fyd0[jf + 2]\n",
        "\n",
        "      fyda[0] = fyd0[0]/2\n",
        "      fyda[2] = fyd0[4]\n",
        "      fyda[4] = fyd0[6]\n",
        "      fyda[6] = fyd0[8]\n",
        "      fyda[8] = fyd0[12]\n",
        "      fyda[10] = fyd0[16]\n",
        "      fyda[12] = fyd0[18]\n",
        "      fyda[26] = -t*(t + 2)/s/4\n",
        "      fyda[28] = fyd0[28]\n",
        "      if (ndef == 0):\n",
        "         fyda[14] = s3\n",
        "         fyda[16] = qqm\n",
        "      else:\n",
        "         fyda[18] = s3\n",
        "         fyda[20] = qqp\n",
        "         fyda[22] = 16. - qqm\n",
        "         fyda[24] = qqm\n",
        "\n",
        "      for mss in range(0,30,2):\n",
        "         dyda[mss] = fyda[mss]/ra\n",
        "         dyda[mss+1] = -dyda[mss]/ra\n",
        "\n",
        "      #       !---------\n",
        "      z2 = nz*(nz - 1)\n",
        "      dyda[30] = (-z2 + 0.76*np.power(z2, 2./3.))/rc\t# ! !Coulomb\n",
        "      #       !---------\n",
        "      rxz = 1./ra\t# ! !Pairing\n",
        "      vxz = 1./v\n",
        "      txz = rxz*(t/v)\n",
        "      uxz = rxz - txz\n",
        "      for j in range(2):\n",
        "         dyda[31] += -rxz\n",
        "         if (sshell[j] == 2.): dyda[32] += vxz\n",
        "         #          !        !effet de couche en 1/A\n",
        "         if (nn[j]%2 == 0): dyda[31] += uxz\n",
        "\n",
        "      j = 1\t# ! !  Z>N\n",
        "      if (nn[0] >= nn[1]): j = 0\t# ! !  N>ou=Z\n",
        "      #       !k = 3 - j\n",
        "      if (nn[j]%2 == 0 and nn[1-j]%2 != 0): dyda[31] += -txz\n",
        "      #       !********\n",
        "      for mss in range(33):\n",
        "         dyda_table[ndef,mss] = dyda[mss]\n",
        "   return dyda_table\n",
        "\n",
        "\n",
        "#_______________________________________________________________________________\n",
        "def dz33 (nz, nx, a=a_fit_1, verbosity = 0, opfun = dz33_op):\n",
        "   ym=np.zeros(2)\n",
        "   #    !C*****************************************\n",
        "   #    !      data a/ 9.0914,   6.3355,   4.5791,  19.8946,   1.7325,   7.5247,\n",
        "   #    !     &       -7.1953, -39.9787,  -0.3976,   0.8131,  -0.7435,  -3.7291,\n",
        "   #    !     &       -0.1305,  -0.6387,   0.4534,   2.0605,   0.3449,   1.4727,\n",
        "   #    !     &       -1.0433,   0.0000,   5.2495,   0.0000, -32.1007,-151.1164,\n",
        "   #    !     &       -4.6103, -32.4238, -37.3226, -52.1673,   0.9597,   3.0024,\n",
        "   #    !     &        0.6977,   6.0390,  17.7960/\n",
        "   #    ! Data=1751 RMS= 0.330  (mars 95)\n",
        "   #    !FM+*   9.09 fm+*   6.34 FS+*   4.58 fs+*  19.89 FS-*   1.73 fs-*   7.52\n",
        "   #    !FC+*  -7.20 fc+* -39.98 PM+*  -0.40 pm+*   0.81 PS+*  -0.74 ps+*  -3.73\n",
        "   #    !PS-*  -0.13 ps-*  -0.64 S3 *   0.45 s3 *   2.06 SQ-*   0.34 sq-*   1.47\n",
        "   #    !QQ-*  -4.61 qq-* -32.42  TT* -37.32  tt* -52.17  SS*   0.96  ss*   3.00\n",
        "   #    ! C *   0.70 P0 *   6.04 P1 *  17.80\n",
        "   #    !                    ----------------------\n",
        "   #    ! 31 Coulomb\n",
        "   #    ! 32+33 Pairing\n",
        "   #    !\n",
        "   #    !******************\n",
        "   dyda_table= opfun (nz, nx)\n",
        "   for ndef in range(2):\n",
        "      for mss in range(33):\n",
        "         ym[ndef] += dyda_table[ndef,mss]*a[mss]\n",
        "\n",
        "   be = ym[0]\n",
        "   if (nz > 50 and ym[1] > ym[0]):\n",
        "      be = ym[1]\n",
        "      is_deformed=1\n",
        "   else:\n",
        "      is_deformed=0\n",
        "\n",
        "   if verbosity <= 0 : return be\n",
        "   if verbosity == 1 : return be, is_deformed\n",
        "   return be, is_deformed,dyda_table[is_deformed]"
      ],
      "metadata": {
        "id": "OP_SzJ1Ou0lN"
      },
      "execution_count": 161,
      "outputs": []
    },
    {
      "cell_type": "code",
      "source": [],
      "metadata": {
        "id": "ObTtgWe4K3VO"
      },
      "execution_count": 161,
      "outputs": []
    },
    {
      "cell_type": "markdown",
      "source": [],
      "metadata": {
        "id": "sYlPieepu17k"
      }
    },
    {
      "cell_type": "code",
      "source": [
        "dz33(51,51,a=a_28)"
      ],
      "metadata": {
        "colab": {
          "base_uri": "https://localhost:8080/"
        },
        "id": "katA6FYpvIjt",
        "outputId": "22158d0f-cf76-4d26-9a39-4b54374d4ba6"
      },
      "execution_count": 163,
      "outputs": [
        {
          "output_type": "execute_result",
          "data": {
            "text/plain": [
              "834.8959940157664"
            ]
          },
          "metadata": {},
          "execution_count": 163
        }
      ]
    },
    {
      "cell_type": "code",
      "source": [
        "dz33(51,51,a_fit_2)"
      ],
      "metadata": {
        "colab": {
          "base_uri": "https://localhost:8080/"
        },
        "id": "cCONRlmzhyE2",
        "outputId": "087226bd-cfa9-49a0-b67b-fbf548211f76"
      },
      "execution_count": 164,
      "outputs": [
        {
          "output_type": "execute_result",
          "data": {
            "text/plain": [
              "834.196675824302"
            ]
          },
          "metadata": {},
          "execution_count": 164
        }
      ]
    },
    {
      "cell_type": "code",
      "source": [
        "dz33_op(51,51)[1] - dz33_op(51,51)[0]"
      ],
      "metadata": {
        "colab": {
          "base_uri": "https://localhost:8080/"
        },
        "id": "6LZFetCLxzL1",
        "outputId": "d8d55c84-b447-464e-a0ca-aa64fd723d08"
      },
      "execution_count": 165,
      "outputs": [
        {
          "output_type": "execute_result",
          "data": {
            "text/plain": [
              "array([ -1.33131895,   0.28493692,  21.25801719,  -4.54976917,\n",
              "        21.25801719,  -4.54976917,   1.47163189,  -0.31496754,\n",
              "        -9.14018546,   1.95623767,  46.92222362, -10.04257756,\n",
              "        46.92222362, -10.04257756,  12.44026338,  -2.66254027,\n",
              "        -0.80343368,   0.17195573,   1.66789822,  -0.35697364,\n",
              "         0.28804163,  -0.06164841,   3.13637495,  -0.6712659 ,\n",
              "         0.28804163,  -0.06164841,   0.        ,   0.        ,\n",
              "         1.56419136,  -0.33477768,   0.        ,   0.        ,\n",
              "         0.        ])"
            ]
          },
          "metadata": {},
          "execution_count": 165
        }
      ]
    },
    {
      "cell_type": "code",
      "source": [
        "dz33(84,132)"
      ],
      "metadata": {
        "colab": {
          "base_uri": "https://localhost:8080/"
        },
        "id": "bbYcykSJwJgN",
        "outputId": "0c52b874-bb33-4781-9ca1-dc7988ddcee9"
      },
      "execution_count": 166,
      "outputs": [
        {
          "output_type": "execute_result",
          "data": {
            "text/plain": [
              "1675.981920245517"
            ]
          },
          "metadata": {},
          "execution_count": 166
        }
      ]
    },
    {
      "cell_type": "code",
      "source": [
        "def opp(Z,N):\n",
        "   be, is_pol, dy= dz33(Z,N, verbosity=2)\n",
        "   r = np.power(Z+N, 1./3.)\n",
        "   I= np.abs((N-Z)/(N+Z))\n",
        "\n",
        "   rc = r*(1. - 0.25*np.power(I, 2))\n",
        "   ra = (rc*rc)/r\n",
        "\n",
        "   return {'Z':Z, 'N':N, 'I':I, '31': dy[31]*ra, '32': dy[32]*(N+Z)}"
      ],
      "metadata": {
        "id": "ofbw7Y_u4BbF"
      },
      "execution_count": 167,
      "outputs": []
    },
    {
      "cell_type": "code",
      "source": [
        "opp(10,20)"
      ],
      "metadata": {
        "colab": {
          "base_uri": "https://localhost:8080/"
        },
        "id": "wrEGKjvi479V",
        "outputId": "82138250-ab79-4658-a3e9-5dc93aac6082"
      },
      "execution_count": 168,
      "outputs": [
        {
          "output_type": "execute_result",
          "data": {
            "text/plain": [
              "{'Z': 10,\n",
              " 'N': 20,\n",
              " 'I': 0.3333333333333333,\n",
              " '31': -0.6666666666666665,\n",
              " '32': 1.0}"
            ]
          },
          "metadata": {},
          "execution_count": 168
        }
      ]
    },
    {
      "cell_type": "code",
      "source": [
        "for z in range (0,51):\n",
        "    print(opp(z,10))"
      ],
      "metadata": {
        "colab": {
          "base_uri": "https://localhost:8080/"
        },
        "id": "_ZWey3OU5R82",
        "outputId": "a4d96274-c2b6-4825-bc7a-087f0d005fcf"
      },
      "execution_count": 169,
      "outputs": [
        {
          "output_type": "stream",
          "name": "stdout",
          "text": [
            "{'Z': 0, 'N': 10, 'I': 1.0, '31': -2.0, '32': 0.0}\n",
            "{'Z': 1, 'N': 10, 'I': 0.8181818181818182, '31': -2.6363636363636362, '32': 0.0}\n",
            "{'Z': 2, 'N': 10, 'I': 0.6666666666666666, '31': -1.3333333333333335, '32': 0.0}\n",
            "{'Z': 3, 'N': 10, 'I': 0.5384615384615384, '31': -2.076923076923077, '32': 0.0}\n",
            "{'Z': 4, 'N': 10, 'I': 0.42857142857142855, '31': -0.8571428571428573, '32': 0.0}\n",
            "{'Z': 5, 'N': 10, 'I': 0.3333333333333333, '31': -1.6666666666666665, '32': 0.0}\n",
            "{'Z': 6, 'N': 10, 'I': 0.25, '31': -0.5000000000000001, '32': 0.0}\n",
            "{'Z': 7, 'N': 10, 'I': 0.17647058823529413, '31': -1.3529411764705883, '32': 1.0}\n",
            "{'Z': 8, 'N': 10, 'I': 0.1111111111111111, '31': -0.22222222222222235, '32': 1.0}\n",
            "{'Z': 9, 'N': 10, 'I': 0.05263157894736842, '31': -1.1052631578947367, '32': 0.0}\n",
            "{'Z': 10, 'N': 10, 'I': 0.0, '31': 0.0, '32': 0.0}\n",
            "{'Z': 11, 'N': 10, 'I': 0.047619047619047616, '31': -1.0476190476190477, '32': 0.0}\n",
            "{'Z': 12, 'N': 10, 'I': 0.09090909090909091, '31': -0.18181818181818185, '32': 0.0}\n",
            "{'Z': 13, 'N': 10, 'I': 0.13043478260869565, '31': -1.1304347826086958, '32': 0.0}\n",
            "{'Z': 14, 'N': 10, 'I': 0.16666666666666666, '31': -0.3333333333333332, '32': 0.0}\n",
            "{'Z': 15, 'N': 10, 'I': 0.2, '31': -1.2, '32': 1.0}\n",
            "{'Z': 16, 'N': 10, 'I': 0.23076923076923078, '31': -0.46153846153846156, '32': 1.0}\n",
            "{'Z': 17, 'N': 10, 'I': 0.25925925925925924, '31': -1.2592592592592593, '32': 1.0}\n",
            "{'Z': 18, 'N': 10, 'I': 0.2857142857142857, '31': -0.5714285714285713, '32': 1.0}\n",
            "{'Z': 19, 'N': 10, 'I': 0.3103448275862069, '31': -1.3103448275862069, '32': 1.0}\n",
            "{'Z': 20, 'N': 10, 'I': 0.3333333333333333, '31': -0.6666666666666665, '32': 1.0}\n",
            "{'Z': 21, 'N': 10, 'I': 0.3548387096774194, '31': -1.3548387096774193, '32': 0.0}\n",
            "{'Z': 22, 'N': 10, 'I': 0.375, '31': -0.7500000000000002, '32': 0.0}\n",
            "{'Z': 23, 'N': 10, 'I': 0.3939393939393939, '31': -1.3939393939393938, '32': 0.0}\n",
            "{'Z': 24, 'N': 10, 'I': 0.4117647058823529, '31': -0.8235294117647058, '32': 0.0}\n",
            "{'Z': 25, 'N': 10, 'I': 0.42857142857142855, '31': -1.4285714285714286, '32': 0.0}\n",
            "{'Z': 26, 'N': 10, 'I': 0.4444444444444444, '31': -0.8888888888888888, '32': 0.0}\n",
            "{'Z': 27, 'N': 10, 'I': 0.4594594594594595, '31': -1.4594594594594594, '32': 0.0}\n",
            "{'Z': 28, 'N': 10, 'I': 0.47368421052631576, '31': -0.9473684210526315, '32': 0.0}\n",
            "{'Z': 29, 'N': 10, 'I': 0.48717948717948717, '31': -1.4871794871794872, '32': 1.0}\n",
            "{'Z': 30, 'N': 10, 'I': 0.5, '31': -0.9999999999999999, '32': 1.0}\n",
            "{'Z': 31, 'N': 10, 'I': 0.5121951219512195, '31': -1.5121951219512193, '32': 1.0}\n",
            "{'Z': 32, 'N': 10, 'I': 0.5238095238095238, '31': -1.047619047619048, '32': 1.0}\n",
            "{'Z': 33, 'N': 10, 'I': 0.5348837209302325, '31': -1.5348837209302324, '32': 1.0}\n",
            "{'Z': 34, 'N': 10, 'I': 0.5454545454545454, '31': -1.090909090909091, '32': 1.0}\n",
            "{'Z': 35, 'N': 10, 'I': 0.5555555555555556, '31': -1.5555555555555556, '32': 1.0}\n",
            "{'Z': 36, 'N': 10, 'I': 0.5652173913043478, '31': -1.1304347826086958, '32': 1.0}\n",
            "{'Z': 37, 'N': 10, 'I': 0.574468085106383, '31': -1.574468085106383, '32': 1.0}\n",
            "{'Z': 38, 'N': 10, 'I': 0.5833333333333334, '31': -1.166666666666667, '32': 1.0}\n",
            "{'Z': 39, 'N': 10, 'I': 0.5918367346938775, '31': -1.5918367346938778, '32': 0.9999999999999999}\n",
            "{'Z': 40, 'N': 10, 'I': 0.6, '31': -1.2, '32': 1.0}\n",
            "{'Z': 41, 'N': 10, 'I': 0.6078431372549019, '31': -1.607843137254902, '32': 0.0}\n",
            "{'Z': 42, 'N': 10, 'I': 0.6153846153846154, '31': -1.2307692307692306, '32': 0.0}\n",
            "{'Z': 43, 'N': 10, 'I': 0.6226415094339622, '31': -1.6226415094339621, '32': 0.0}\n",
            "{'Z': 44, 'N': 10, 'I': 0.6296296296296297, '31': -1.2592592592592593, '32': 0.0}\n",
            "{'Z': 45, 'N': 10, 'I': 0.6363636363636364, '31': -1.6363636363636365, '32': 0.0}\n",
            "{'Z': 46, 'N': 10, 'I': 0.6428571428571429, '31': -1.2857142857142856, '32': 0.0}\n",
            "{'Z': 47, 'N': 10, 'I': 0.6491228070175439, '31': -1.649122807017544, '32': 0.0}\n",
            "{'Z': 48, 'N': 10, 'I': 0.6551724137931034, '31': -1.310344827586207, '32': 0.0}\n",
            "{'Z': 49, 'N': 10, 'I': 0.6610169491525424, '31': -1.6610169491525424, '32': 0.0}\n",
            "{'Z': 50, 'N': 10, 'I': 0.6666666666666666, '31': -1.333333333333333, '32': 0.0}\n"
          ]
        }
      ]
    },
    {
      "cell_type": "code",
      "source": [
        "class Boston_ANN(models.Model):\n",
        "  def __init__(self, Nin, Nh, Nout):\n",
        "    hidden=layers.Dense(Nh)\n",
        "    output= layers.Dense(Nout)\n",
        "    relu= layers.Activation('relu')\n",
        "\n",
        "    x= layers.Input(shape=(Nin,))\n",
        "    h= relu(hidden(x))\n",
        "    y= output(h)\n",
        "\n",
        "    super().__init__(x,y)\n",
        "    self.compile(loss='mse',optimizer='sgd')"
      ],
      "metadata": {
        "id": "kEw-hN_gkd5w"
      },
      "execution_count": 170,
      "outputs": []
    },
    {
      "cell_type": "code",
      "source": [
        "from keras import datasets\n",
        "from keras.datasets import boston_housing\n",
        "\n",
        "def Boston_Data_func():\n",
        "  #(X_train, y_train), (X_test, y_test)= datasets.boston_housing.load_data()\n",
        "  (X_train, y_train), (X_test, y_test)= boston_housing.load_data()\n",
        "  scaler= preprocessing.MinMaxScaler()\n",
        "  X_train= scaler.fit_transform(X_train)\n",
        "  X_test=scaler.transform(X_test)\n",
        "  return (X_train,y_train), (X_test,y_test)"
      ],
      "metadata": {
        "id": "zlz4ZI_zlMJ1"
      },
      "execution_count": 171,
      "outputs": []
    },
    {
      "cell_type": "code",
      "source": [
        "import matplotlib.pyplot as plt\n",
        "import numpy as np\n",
        "import os\n",
        "\n",
        "# 모델 학습 후 정보가 담긴 history 내용을 토대로 선 그래프를 그리는 함수 설정\n",
        "\n",
        "def plot_acc(history, title=None):        # Accuracy(정확도) Visualization\n",
        "    # summarize history for accuracy\n",
        "    if not isinstance(history, dict):\n",
        "        history = history.history\n",
        "\n",
        "    plt.plot(history['accuracy'])        # accuracy\n",
        "    plt.plot(history['val_accuracy'])    # validation accuracy\n",
        "    if title is not None:\n",
        "        plt.title(title)\n",
        "    plt.ylabel('Accracy')\n",
        "    plt.xlabel('Epoch')\n",
        "    plt.legend(['Training data', 'Validation data'], loc=0)\n",
        "    # plt.show()\n",
        "\n",
        "def plot_loss(history, title=None, yscale='linear'):     # Loss Visualization\n",
        "    # summarize history for loss\n",
        "    if not isinstance(history, dict):\n",
        "        history = history.history\n",
        "\n",
        "    plt.plot(history['loss'])           # loss\n",
        "    plt.plot(history['val_loss'])       # validation\n",
        "    if title is not None:\n",
        "        plt.title(title)\n",
        "    plt.ylabel('Loss')\n",
        "    plt.xlabel('Epoch')\n",
        "    plt.legend(['Training data', 'Validation data'], loc=0)\n",
        "    plt.yscale(yscale)\n",
        "    plt.show()"
      ],
      "metadata": {
        "id": "62YImptUn1ku"
      },
      "execution_count": 172,
      "outputs": []
    },
    {
      "cell_type": "code",
      "source": [
        "import matplotlib.pyplot as plt\n",
        "#from keras import plot_loss\n",
        "#from keraspp.skeras import plot_loss\n",
        "\n",
        "def boston_run(epochs=100, batch=1000, yscale='linear'):\n",
        "  Nin=13\n",
        "  Nh=5\n",
        "  Nout=1\n",
        "  model= Boston_ANN(Nin,Nh,Nout)\n",
        "  (X_train, y_train), (X_test, y_test)= Boston_Data_func()\n",
        "  history= model.fit(X_train, y_train, epochs=epochs, batch_size=batch, validation_split=0.2, verbose=2)\n",
        "  performance_test=model.evaluate(X_test, y_test, batch_size=batch)\n",
        "  print('Test Loss and Accuracy ->', performance_test)\n",
        "\n",
        "  plot_loss(history,yscale=yscale)\n",
        "  plt.show()\n",
        "\n",
        "  predictions=model.predict(X_test)\n",
        "  plt.plot(y_test)\n",
        "  plt.plot(predictions)\n",
        "  plt.title('prediction')\n",
        "  plt.xlabel('Y')\n",
        "  plt.xlabel('test')\n",
        "  plt.legend(['y_test','predictions'], loc=0)\n",
        "  plt.show()"
      ],
      "metadata": {
        "id": "oi0HFiSAl7N_"
      },
      "execution_count": 173,
      "outputs": []
    },
    {
      "cell_type": "code",
      "source": [
        "boston_run(10,1000,'log')"
      ],
      "metadata": {
        "colab": {
          "base_uri": "https://localhost:8080/",
          "height": 1000
        },
        "id": "rOjgdE4it8uN",
        "outputId": "36fcb2cf-e329-48e0-ca02-34433c3e5bc5"
      },
      "execution_count": 174,
      "outputs": [
        {
          "output_type": "stream",
          "name": "stdout",
          "text": [
            "Epoch 1/10\n",
            "1/1 - 0s - loss: 571.7507 - val_loss: 591.7037 - 429ms/epoch - 429ms/step\n",
            "Epoch 2/10\n",
            "1/1 - 0s - loss: 520.5442 - val_loss: 500.3111 - 31ms/epoch - 31ms/step\n",
            "Epoch 3/10\n",
            "1/1 - 0s - loss: 434.5332 - val_loss: 325.4657 - 36ms/epoch - 36ms/step\n",
            "Epoch 4/10\n",
            "1/1 - 0s - loss: 273.7766 - val_loss: 140.9292 - 31ms/epoch - 31ms/step\n",
            "Epoch 5/10\n",
            "1/1 - 0s - loss: 120.2169 - val_loss: 107.3621 - 32ms/epoch - 32ms/step\n",
            "Epoch 6/10\n",
            "1/1 - 0s - loss: 103.5961 - val_loss: 107.1273 - 29ms/epoch - 29ms/step\n",
            "Epoch 7/10\n",
            "1/1 - 0s - loss: 95.6099 - val_loss: 95.9734 - 28ms/epoch - 28ms/step\n",
            "Epoch 8/10\n",
            "1/1 - 0s - loss: 88.9676 - val_loss: 92.8846 - 27ms/epoch - 27ms/step\n",
            "Epoch 9/10\n",
            "1/1 - 0s - loss: 83.3522 - val_loss: 86.5180 - 27ms/epoch - 27ms/step\n",
            "Epoch 10/10\n",
            "1/1 - 0s - loss: 78.4332 - val_loss: 83.0795 - 28ms/epoch - 28ms/step\n",
            "1/1 [==============================] - 0s 23ms/step - loss: 81.2267\n",
            "Test Loss and Accuracy -> 81.22667694091797\n"
          ]
        },
        {
          "output_type": "display_data",
          "data": {
            "text/plain": [
              "<Figure size 640x480 with 1 Axes>"
            ],
            "image/png": "[encoded data removed]"
          },
          "metadata": {}
        },
        {
          "output_type": "stream",
          "name": "stdout",
          "text": [
            "4/4 [==============================] - 0s 2ms/step\n"
          ]
        },
        {
          "output_type": "display_data",
          "data": {
            "text/plain": [
              "<Figure size 640x480 with 1 Axes>"
            ],
            "image/png": "[encoded data removed]"
          },
          "metadata": {}
        }
      ]
    },
    {
      "cell_type": "code",
      "source": [
        "#if __name__== '__main__':\n",
        "#  main()"
      ],
      "metadata": {
        "id": "gVWus_ewoMjd"
      },
      "execution_count": 175,
      "outputs": []
    },
    {
      "cell_type": "code",
      "source": [
        "import pandas as pd\n",
        "data = pd.read_csv('https://raw.githubusercontent.com/tsp00/mass/master/mass20.csv', on_bad_lines='skip')\n",
        "data = pd.read_csv('https://raw.githubusercontent.com/tsp00/mass/master/mass20.csv')"
      ],
      "metadata": {
        "id": "cKknO5ihN-wd"
      },
      "execution_count": 176,
      "outputs": []
    },
    {
      "cell_type": "code",
      "source": [
        "data.head"
      ],
      "metadata": {
        "colab": {
          "base_uri": "https://localhost:8080/"
        },
        "id": "glsVTdByOtgB",
        "outputId": "9bdeeac3-f3cf-4013-a441-37ca0f571660"
      },
      "execution_count": 177,
      "outputs": [
        {
          "output_type": "execute_result",
          "data": {
            "text/plain": [
              "<bound method NDFrame.head of          0    1  N-Z    N    Z    A  EL     MASSEXCESS  dMASSEXCESS  \\\n",
              "0        1  0.0    1    1    0    1   n    8071.318060     0.000440   \n",
              "1        2  NaN   -1    0    1    1   H    7288.971064     0.000013   \n",
              "2        3  0.0    0    1    1    2   H   13135.722900     0.000015   \n",
              "3        4  0.0    1    2    1    3   H   14949.810900     0.000080   \n",
              "4        5  NaN   -1    1    2    3  He   14931.218880     0.000060   \n",
              "...    ...  ...  ...  ...  ...  ...  ..            ...          ...   \n",
              "3553  3554  NaN   59  176  117  293  Ts  194428.000000   778.000000   \n",
              "3554  3555  NaN   57  175  118  293  Og  198802.000000   709.000000   \n",
              "3555  3556  0.0   60  177  117  294  Ts  196397.000000   593.000000   \n",
              "3556  3557  NaN   58  176  118  294  Og  199320.000000   553.000000   \n",
              "3557  3558  0.0   59  177  118  295  Og  201369.000000   655.000000   \n",
              "\n",
              "      BINDINGENERGY_A  dBINDINGENERGY_A  BETA_DECAYENERGY  dBETA_DECAYENERGY  \\\n",
              "0             0.00000           0.00000         782.34700            0.00040   \n",
              "1             0.00000           0.00000               NaN                NaN   \n",
              "2          1112.28310           0.00020               NaN                NaN   \n",
              "3          2827.26540           0.00030          18.59202            0.00006   \n",
              "4          2572.68044           0.00015      -13736.00000         2000.00000   \n",
              "...               ...               ...               ...                ...   \n",
              "3553       7095.00000           3.00000       -4374.00000         1053.00000   \n",
              "3554       7078.00000           2.00000               NaN                NaN   \n",
              "3555       7092.00000           2.00000       -2923.00000          811.00000   \n",
              "3556       7079.00000           2.00000               NaN                NaN   \n",
              "3557       7076.00000           2.00000               NaN                NaN   \n",
              "\n",
              "        ATOMICMASS  dATOMICMASS  IsCalculated  \n",
              "0     1.008665e+06     0.000470             0  \n",
              "1     1.007825e+06     0.000014             0  \n",
              "2     2.014102e+06     0.000015             0  \n",
              "3     3.016049e+06     0.000080             0  \n",
              "4     3.016029e+06     0.000060             0  \n",
              "...            ...          ...           ...  \n",
              "3553  2.932087e+08   835.000000             1  \n",
              "3554  2.932134e+08   761.000000             1  \n",
              "3555  2.942108e+08   637.000000             1  \n",
              "3556  2.942140e+08   594.000000             1  \n",
              "3557  2.952162e+08   703.000000             1  \n",
              "\n",
              "[3558 rows x 16 columns]>"
            ]
          },
          "metadata": {},
          "execution_count": 177
        }
      ]
    },
    {
      "cell_type": "code",
      "source": [
        "data"
      ],
      "metadata": {
        "id": "hY180VyOQyy9",
        "outputId": "3d51834f-7f3f-42dd-c343-2f10eb18ef5a",
        "colab": {
          "base_uri": "https://localhost:8080/",
          "height": 505
        }
      },
      "execution_count": 178,
      "outputs": [
        {
          "output_type": "execute_result",
          "data": {
            "text/plain": [
              "         0    1  N-Z    N    Z    A  EL     MASSEXCESS  dMASSEXCESS  \\\n",
              "0        1  0.0    1    1    0    1   n    8071.318060     0.000440   \n",
              "1        2  NaN   -1    0    1    1   H    7288.971064     0.000013   \n",
              "2        3  0.0    0    1    1    2   H   13135.722900     0.000015   \n",
              "3        4  0.0    1    2    1    3   H   14949.810900     0.000080   \n",
              "4        5  NaN   -1    1    2    3  He   14931.218880     0.000060   \n",
              "...    ...  ...  ...  ...  ...  ...  ..            ...          ...   \n",
              "3553  3554  NaN   59  176  117  293  Ts  194428.000000   778.000000   \n",
              "3554  3555  NaN   57  175  118  293  Og  198802.000000   709.000000   \n",
              "3555  3556  0.0   60  177  117  294  Ts  196397.000000   593.000000   \n",
              "3556  3557  NaN   58  176  118  294  Og  199320.000000   553.000000   \n",
              "3557  3558  0.0   59  177  118  295  Og  201369.000000   655.000000   \n",
              "\n",
              "      BINDINGENERGY_A  dBINDINGENERGY_A  BETA_DECAYENERGY  dBETA_DECAYENERGY  \\\n",
              "0             0.00000           0.00000         782.34700            0.00040   \n",
              "1             0.00000           0.00000               NaN                NaN   \n",
              "2          1112.28310           0.00020               NaN                NaN   \n",
              "3          2827.26540           0.00030          18.59202            0.00006   \n",
              "4          2572.68044           0.00015      -13736.00000         2000.00000   \n",
              "...               ...               ...               ...                ...   \n",
              "3553       7095.00000           3.00000       -4374.00000         1053.00000   \n",
              "3554       7078.00000           2.00000               NaN                NaN   \n",
              "3555       7092.00000           2.00000       -2923.00000          811.00000   \n",
              "3556       7079.00000           2.00000               NaN                NaN   \n",
              "3557       7076.00000           2.00000               NaN                NaN   \n",
              "\n",
              "        ATOMICMASS  dATOMICMASS  IsCalculated  \n",
              "0     1.008665e+06     0.000470             0  \n",
              "1     1.007825e+06     0.000014             0  \n",
              "2     2.014102e+06     0.000015             0  \n",
              "3     3.016049e+06     0.000080             0  \n",
              "4     3.016029e+06     0.000060             0  \n",
              "...            ...          ...           ...  \n",
              "3553  2.932087e+08   835.000000             1  \n",
              "3554  2.932134e+08   761.000000             1  \n",
              "3555  2.942108e+08   637.000000             1  \n",
              "3556  2.942140e+08   594.000000             1  \n",
              "3557  2.952162e+08   703.000000             1  \n",
              "\n",
              "[3558 rows x 16 columns]"
            ],
            "text/html": [
              "\n",
              "  <div id=\"df-29e96656-788c-4f4a-9d1e-fc8fff629439\">\n",
              "    <div class=\"colab-df-container\">\n",
              "      <div>\n",
              "<style scoped>\n",
              "    .dataframe tbody tr th:only-of-type {\n",
              "        vertical-align: middle;\n",
              "    }\n",
              "\n",
              "    .dataframe tbody tr th {\n",
              "        vertical-align: top;\n",
              "    }\n",
              "\n",
              "    .dataframe thead th {\n",
              "        text-align: right;\n",
              "    }\n",
              "</style>\n",
              "<table border=\"1\" class=\"dataframe\">\n",
              "  <thead>\n",
              "    <tr style=\"text-align: right;\">\n",
              "      <th></th>\n",
              "      <th>0</th>\n",
              "      <th>1</th>\n",
              "      <th>N-Z</th>\n",
              "      <th>N</th>\n",
              "      <th>Z</th>\n",
              "      <th>A</th>\n",
              "      <th>EL</th>\n",
              "      <th>MASSEXCESS</th>\n",
              "      <th>dMASSEXCESS</th>\n",
              "      <th>BINDINGENERGY_A</th>\n",
              "      <th>dBINDINGENERGY_A</th>\n",
              "      <th>BETA_DECAYENERGY</th>\n",
              "      <th>dBETA_DECAYENERGY</th>\n",
              "      <th>ATOMICMASS</th>\n",
              "      <th>dATOMICMASS</th>\n",
              "      <th>IsCalculated</th>\n",
              "    </tr>\n",
              "  </thead>\n",
              "  <tbody>\n",
              "    <tr>\n",
              "      <th>0</th>\n",
              "      <td>1</td>\n",
              "      <td>0.0</td>\n",
              "      <td>1</td>\n",
              "      <td>1</td>\n",
              "      <td>0</td>\n",
              "      <td>1</td>\n",
              "      <td>n</td>\n",
              "      <td>8071.318060</td>\n",
              "      <td>0.000440</td>\n",
              "      <td>0.00000</td>\n",
              "      <td>0.00000</td>\n",
              "      <td>782.34700</td>\n",
              "      <td>0.00040</td>\n",
              "      <td>1.008665e+06</td>\n",
              "      <td>0.000470</td>\n",
              "      <td>0</td>\n",
              "    </tr>\n",
              "    <tr>\n",
              "      <th>1</th>\n",
              "      <td>2</td>\n",
              "      <td>NaN</td>\n",
              "      <td>-1</td>\n",
              "      <td>0</td>\n",
              "      <td>1</td>\n",
              "      <td>1</td>\n",
              "      <td>H</td>\n",
              "      <td>7288.971064</td>\n",
              "      <td>0.000013</td>\n",
              "      <td>0.00000</td>\n",
              "      <td>0.00000</td>\n",
              "      <td>NaN</td>\n",
              "      <td>NaN</td>\n",
              "      <td>1.007825e+06</td>\n",
              "      <td>0.000014</td>\n",
              "      <td>0</td>\n",
              "    </tr>\n",
              "    <tr>\n",
              "      <th>2</th>\n",
              "      <td>3</td>\n",
              "      <td>0.0</td>\n",
              "      <td>0</td>\n",
              "      <td>1</td>\n",
              "      <td>1</td>\n",
              "      <td>2</td>\n",
              "      <td>H</td>\n",
              "      <td>13135.722900</td>\n",
              "      <td>0.000015</td>\n",
              "      <td>1112.28310</td>\n",
              "      <td>0.00020</td>\n",
              "      <td>NaN</td>\n",
              "      <td>NaN</td>\n",
              "      <td>2.014102e+06</td>\n",
              "      <td>0.000015</td>\n",
              "      <td>0</td>\n",
              "    </tr>\n",
              "    <tr>\n",
              "      <th>3</th>\n",
              "      <td>4</td>\n",
              "      <td>0.0</td>\n",
              "      <td>1</td>\n",
              "      <td>2</td>\n",
              "      <td>1</td>\n",
              "      <td>3</td>\n",
              "      <td>H</td>\n",
              "      <td>14949.810900</td>\n",
              "      <td>0.000080</td>\n",
              "      <td>2827.26540</td>\n",
              "      <td>0.00030</td>\n",
              "      <td>18.59202</td>\n",
              "      <td>0.00006</td>\n",
              "      <td>3.016049e+06</td>\n",
              "      <td>0.000080</td>\n",
              "      <td>0</td>\n",
              "    </tr>\n",
              "    <tr>\n",
              "      <th>4</th>\n",
              "      <td>5</td>\n",
              "      <td>NaN</td>\n",
              "      <td>-1</td>\n",
              "      <td>1</td>\n",
              "      <td>2</td>\n",
              "      <td>3</td>\n",
              "      <td>He</td>\n",
              "      <td>14931.218880</td>\n",
              "      <td>0.000060</td>\n",
              "      <td>2572.68044</td>\n",
              "      <td>0.00015</td>\n",
              "      <td>-13736.00000</td>\n",
              "      <td>2000.00000</td>\n",
              "      <td>3.016029e+06</td>\n",
              "      <td>0.000060</td>\n",
              "      <td>0</td>\n",
              "    </tr>\n",
              "    <tr>\n",
              "      <th>...</th>\n",
              "      <td>...</td>\n",
              "      <td>...</td>\n",
              "      <td>...</td>\n",
              "      <td>...</td>\n",
              "      <td>...</td>\n",
              "      <td>...</td>\n",
              "      <td>...</td>\n",
              "      <td>...</td>\n",
              "      <td>...</td>\n",
              "      <td>...</td>\n",
              "      <td>...</td>\n",
              "      <td>...</td>\n",
              "      <td>...</td>\n",
              "      <td>...</td>\n",
              "      <td>...</td>\n",
              "      <td>...</td>\n",
              "    </tr>\n",
              "    <tr>\n",
              "      <th>3553</th>\n",
              "      <td>3554</td>\n",
              "      <td>NaN</td>\n",
              "      <td>59</td>\n",
              "      <td>176</td>\n",
              "      <td>117</td>\n",
              "      <td>293</td>\n",
              "      <td>Ts</td>\n",
              "      <td>194428.000000</td>\n",
              "      <td>778.000000</td>\n",
              "      <td>7095.00000</td>\n",
              "      <td>3.00000</td>\n",
              "      <td>-4374.00000</td>\n",
              "      <td>1053.00000</td>\n",
              "      <td>2.932087e+08</td>\n",
              "      <td>835.000000</td>\n",
              "      <td>1</td>\n",
              "    </tr>\n",
              "    <tr>\n",
              "      <th>3554</th>\n",
              "      <td>3555</td>\n",
              "      <td>NaN</td>\n",
              "      <td>57</td>\n",
              "      <td>175</td>\n",
              "      <td>118</td>\n",
              "      <td>293</td>\n",
              "      <td>Og</td>\n",
              "      <td>198802.000000</td>\n",
              "      <td>709.000000</td>\n",
              "      <td>7078.00000</td>\n",
              "      <td>2.00000</td>\n",
              "      <td>NaN</td>\n",
              "      <td>NaN</td>\n",
              "      <td>2.932134e+08</td>\n",
              "      <td>761.000000</td>\n",
              "      <td>1</td>\n",
              "    </tr>\n",
              "    <tr>\n",
              "      <th>3555</th>\n",
              "      <td>3556</td>\n",
              "      <td>0.0</td>\n",
              "      <td>60</td>\n",
              "      <td>177</td>\n",
              "      <td>117</td>\n",
              "      <td>294</td>\n",
              "      <td>Ts</td>\n",
              "      <td>196397.000000</td>\n",
              "      <td>593.000000</td>\n",
              "      <td>7092.00000</td>\n",
              "      <td>2.00000</td>\n",
              "      <td>-2923.00000</td>\n",
              "      <td>811.00000</td>\n",
              "      <td>2.942108e+08</td>\n",
              "      <td>637.000000</td>\n",
              "      <td>1</td>\n",
              "    </tr>\n",
              "    <tr>\n",
              "      <th>3556</th>\n",
              "      <td>3557</td>\n",
              "      <td>NaN</td>\n",
              "      <td>58</td>\n",
              "      <td>176</td>\n",
              "      <td>118</td>\n",
              "      <td>294</td>\n",
              "      <td>Og</td>\n",
              "      <td>199320.000000</td>\n",
              "      <td>553.000000</td>\n",
              "      <td>7079.00000</td>\n",
              "      <td>2.00000</td>\n",
              "      <td>NaN</td>\n",
              "      <td>NaN</td>\n",
              "      <td>2.942140e+08</td>\n",
              "      <td>594.000000</td>\n",
              "      <td>1</td>\n",
              "    </tr>\n",
              "    <tr>\n",
              "      <th>3557</th>\n",
              "      <td>3558</td>\n",
              "      <td>0.0</td>\n",
              "      <td>59</td>\n",
              "      <td>177</td>\n",
              "      <td>118</td>\n",
              "      <td>295</td>\n",
              "      <td>Og</td>\n",
              "      <td>201369.000000</td>\n",
              "      <td>655.000000</td>\n",
              "      <td>7076.00000</td>\n",
              "      <td>2.00000</td>\n",
              "      <td>NaN</td>\n",
              "      <td>NaN</td>\n",
              "      <td>2.952162e+08</td>\n",
              "      <td>703.000000</td>\n",
              "      <td>1</td>\n",
              "    </tr>\n",
              "  </tbody>\n",
              "</table>\n",
              "<p>3558 rows × 16 columns</p>\n",
              "</div>\n",
              "      <button class=\"colab-df-convert\" onclick=\"convertToInteractive('df-29e96656-788c-4f4a-9d1e-fc8fff629439')\"\n",
              "              title=\"Convert this dataframe to an interactive table.\"\n",
              "              style=\"display:none;\">\n",
              "        \n",
              "  <svg xmlns=\"http://www.w3.org/2000/svg\" height=\"24px\"viewBox=\"0 0 24 24\"\n",
              "       width=\"24px\">\n",
              "    <path d=\"M0 0h24v24H0V0z\" fill=\"none\"/>\n",
              "    <path d=\"M18.56 5.44l.94 2.06.94-2.06 2.06-.94-2.06-.94-.94-2.06-.94 2.06-2.06.94zm-11 1L8.5 8.5l.94-2.06 2.06-.94-2.06-.94L8.5 2.5l-.94 2.06-2.06.94zm10 10l.94 2.06.94-2.06 2.06-.94-2.06-.94-.94-2.06-.94 2.06-2.06.94z\"/><path d=\"M17.41 7.96l-1.37-1.37c-.4-.4-.92-.59-1.43-.59-.52 0-1.04.2-1.43.59L10.3 9.45l-7.72 7.72c-.78.78-.78 2.05 0 2.83L4 21.41c.39.39.9.59 1.41.59.51 0 1.02-.2 1.41-.59l7.78-7.78 2.81-2.81c.8-.78.8-2.07 0-2.86zM5.41 20L4 18.59l7.72-7.72 1.47 1.35L5.41 20z\"/>\n",
              "  </svg>\n",
              "      </button>\n",
              "      \n",
              "  <style>\n",
              "    .colab-df-container {\n",
              "      display:flex;\n",
              "      flex-wrap:wrap;\n",
              "      gap: 12px;\n",
              "    }\n",
              "\n",
              "    .colab-df-convert {\n",
              "      background-color: #E8F0FE;\n",
              "      border: none;\n",
              "      border-radius: 50%;\n",
              "      cursor: pointer;\n",
              "      display: none;\n",
              "      fill: #1967D2;\n",
              "      height: 32px;\n",
              "      padding: 0 0 0 0;\n",
              "      width: 32px;\n",
              "    }\n",
              "\n",
              "    .colab-df-convert:hover {\n",
              "      background-color: #E2EBFA;\n",
              "      box-shadow: 0px 1px 2px rgba(60, 64, 67, 0.3), 0px 1px 3px 1px rgba(60, 64, 67, 0.15);\n",
              "      fill: #174EA6;\n",
              "    }\n",
              "\n",
              "    [theme=dark] .colab-df-convert {\n",
              "      background-color: #3B4455;\n",
              "      fill: #D2E3FC;\n",
              "    }\n",
              "\n",
              "    [theme=dark] .colab-df-convert:hover {\n",
              "      background-color: #434B5C;\n",
              "      box-shadow: 0px 1px 3px 1px rgba(0, 0, 0, 0.15);\n",
              "      filter: drop-shadow(0px 1px 2px rgba(0, 0, 0, 0.3));\n",
              "      fill: #FFFFFF;\n",
              "    }\n",
              "  </style>\n",
              "\n",
              "      <script>\n",
              "        const buttonEl =\n",
              "          document.querySelector('#df-29e96656-788c-4f4a-9d1e-fc8fff629439 button.colab-df-convert');\n",
              "        buttonEl.style.display =\n",
              "          google.colab.kernel.accessAllowed ? 'block' : 'none';\n",
              "\n",
              "        async function convertToInteractive(key) {\n",
              "          const element = document.querySelector('#df-29e96656-788c-4f4a-9d1e-fc8fff629439');\n",
              "          const dataTable =\n",
              "            await google.colab.kernel.invokeFunction('convertToInteractive',\n",
              "                                                     [key], {});\n",
              "          if (!dataTable) return;\n",
              "\n",
              "          const docLinkHtml = 'Like what you see? Visit the ' +\n",
              "            '<a target=\"_blank\" href=https://colab.research.google.com/notebooks/data_table.ipynb>data table notebook</a>'\n",
              "            + ' to learn more about interactive tables.';\n",
              "          element.innerHTML = '';\n",
              "          dataTable['output_type'] = 'display_data';\n",
              "          await google.colab.output.renderOutput(dataTable, element);\n",
              "          const docLink = document.createElement('div');\n",
              "          docLink.innerHTML = docLinkHtml;\n",
              "          element.appendChild(docLink);\n",
              "        }\n",
              "      </script>\n",
              "    </div>\n",
              "  </div>\n",
              "  "
            ]
          },
          "metadata": {},
          "execution_count": 178
        }
      ]
    },
    {
      "cell_type": "code",
      "source": [
        "data.info()"
      ],
      "metadata": {
        "colab": {
          "base_uri": "https://localhost:8080/"
        },
        "id": "31pv0sgzPp8d",
        "outputId": "92d362a3-bdaf-42f1-cc90-f740aabce8f8"
      },
      "execution_count": 179,
      "outputs": [
        {
          "output_type": "stream",
          "name": "stdout",
          "text": [
            "<class 'pandas.core.frame.DataFrame'>\n",
            "RangeIndex: 3558 entries, 0 to 3557\n",
            "Data columns (total 16 columns):\n",
            " #   Column             Non-Null Count  Dtype  \n",
            "---  ------             --------------  -----  \n",
            " 0   0                  3558 non-null   int64  \n",
            " 1   1                  295 non-null    float64\n",
            " 2   N-Z                3558 non-null   int64  \n",
            " 3   N                  3558 non-null   int64  \n",
            " 4   Z                  3558 non-null   int64  \n",
            " 5   A                  3558 non-null   int64  \n",
            " 6   EL                 3558 non-null   object \n",
            " 7   MASSEXCESS         3558 non-null   float64\n",
            " 8   dMASSEXCESS        3558 non-null   float64\n",
            " 9   BINDINGENERGY_A    3558 non-null   float64\n",
            " 10  dBINDINGENERGY_A   3558 non-null   float64\n",
            " 11  BETA_DECAYENERGY   3263 non-null   float64\n",
            " 12  dBETA_DECAYENERGY  3263 non-null   float64\n",
            " 13  ATOMICMASS         3558 non-null   float64\n",
            " 14  dATOMICMASS        3558 non-null   float64\n",
            " 15  IsCalculated       3558 non-null   int64  \n",
            "dtypes: float64(9), int64(6), object(1)\n",
            "memory usage: 444.9+ KB\n"
          ]
        }
      ]
    },
    {
      "cell_type": "code",
      "source": [
        "data.values[3]"
      ],
      "metadata": {
        "colab": {
          "base_uri": "https://localhost:8080/"
        },
        "id": "grf1FNhEPxYX",
        "outputId": "985ca52b-b975-4ddd-f777-df12c23871e2"
      },
      "execution_count": 180,
      "outputs": [
        {
          "output_type": "execute_result",
          "data": {
            "text/plain": [
              "array([4, 0.0, 1, 2, 1, 3, 'H', 14949.8109, 8e-05, 2827.2654, 0.0003,\n",
              "       18.59202, 6e-05, 3016049.281, 8e-05, 0], dtype=object)"
            ]
          },
          "metadata": {},
          "execution_count": 180
        }
      ]
    },
    {
      "cell_type": "code",
      "source": [
        "data['Z'][4]"
      ],
      "metadata": {
        "id": "Y0BrGLIDQTz_",
        "colab": {
          "base_uri": "https://localhost:8080/"
        },
        "outputId": "5f7b2737-9912-459c-ddc5-b44aeb4b9327"
      },
      "execution_count": 181,
      "outputs": [
        {
          "output_type": "execute_result",
          "data": {
            "text/plain": [
              "2"
            ]
          },
          "metadata": {},
          "execution_count": 181
        }
      ]
    },
    {
      "cell_type": "code",
      "source": [
        "data.shape[0]"
      ],
      "metadata": {
        "colab": {
          "base_uri": "https://localhost:8080/"
        },
        "id": "gLK5yo3KiUBw",
        "outputId": "66c2e200-8dfc-411a-861d-f038a535b034"
      },
      "execution_count": 182,
      "outputs": [
        {
          "output_type": "execute_result",
          "data": {
            "text/plain": [
              "3558"
            ]
          },
          "metadata": {},
          "execution_count": 182
        }
      ]
    },
    {
      "cell_type": "code",
      "source": [
        "def dd(k, model=dz10):\n",
        "  Z= data['Z'][k]\n",
        "  N= data['N'][k]\n",
        "  BE20= (Z+N) * data['BINDINGENERGY_A'][k]/1000\n",
        "  dBE20= (Z+N) * data['dBINDINGENERGY_A'][k]/1000\n",
        "  iscal= data['IsCalculated'][k] == 1\n",
        "  modelval= model(Z,N)\n",
        "  return (Z,N, modelval-BE20, dBE20, data['IsCalculated'][k], modelval, BE20)\n",
        "\n",
        "m10=list()\n",
        "for k in range(data.shape[0]):\n",
        "  tmp= dd(k,dz10)\n",
        "  m10.append(tmp)\n"
      ],
      "metadata": {
        "id": "YyQ8DnxXjg-K"
      },
      "execution_count": 183,
      "outputs": []
    },
    {
      "cell_type": "code",
      "source": [
        "def weight0(Z,N,dBE=0, isCalc=0):\n",
        "  if Z>=20 and N>20 and dBE <= 0.100 and isCalc==0: return 1\n",
        "  return 0\n",
        "\n",
        "def weight1(Z,N,dBE=0, isCalc=0):\n",
        "  if Z>=20 and N>20: return 1/(0.100*0.100 + (1+isCalc)*dBE*dBE)\n",
        "  return 0\n",
        "\n",
        "def weight2(Z,N,dBE=0, isCalc=0):\n",
        "  if Z>=20 and N>20: return 1/(0.100*0.100 + (1+3*isCalc)*dBE*dBE)\n",
        "  return 0"
      ],
      "metadata": {
        "id": "dXQZaNU8ktyz"
      },
      "execution_count": 184,
      "outputs": []
    },
    {
      "cell_type": "code",
      "source": [
        "def eval_sigma(lst, weight= weight0):\n",
        "   y2=0\n",
        "   denorm =0\n",
        "   ncount=0\n",
        "   for k in range(len(lst)):\n",
        "      Z, N, err, tol, iscalc, be, be_data =lst[k]\n",
        "      w=weight(Z,N,tol, iscalc)\n",
        "      y2 += w * err * err\n",
        "      denorm += w\n",
        "      if w > 0 : ncount += 1\n",
        "   return np.sqrt(y2/denorm), np.sqrt(ncount/denorm), ncount, len(lst)"
      ],
      "metadata": {
        "id": "VtJ8gbTYlJRT"
      },
      "execution_count": 185,
      "outputs": []
    },
    {
      "cell_type": "code",
      "source": [
        "eval_sigma(m10)"
      ],
      "metadata": {
        "colab": {
          "base_uri": "https://localhost:8080/"
        },
        "id": "CBJtjx80nigc",
        "outputId": "913889da-eef0-4da4-8c4e-cbcacb0948e5"
      },
      "execution_count": 186,
      "outputs": [
        {
          "output_type": "execute_result",
          "data": {
            "text/plain": [
              "(0.5598845451798965, 1.0, 2164, 3558)"
            ]
          },
          "metadata": {},
          "execution_count": 186
        }
      ]
    },
    {
      "cell_type": "code",
      "source": [
        "eval_sigma(m10,weight1)"
      ],
      "metadata": {
        "colab": {
          "base_uri": "https://localhost:8080/"
        },
        "id": "AOkNAdnenlpU",
        "outputId": "257fbfd4-722f-4480-f982-537aadfdf8a4"
      },
      "execution_count": 187,
      "outputs": [
        {
          "output_type": "execute_result",
          "data": {
            "text/plain": [
              "(0.6117217730025645, 0.1198697939114926, 3156, 3558)"
            ]
          },
          "metadata": {},
          "execution_count": 187
        }
      ]
    },
    {
      "cell_type": "code",
      "source": [
        "eval_sigma(m10,weight2)"
      ],
      "metadata": {
        "colab": {
          "base_uri": "https://localhost:8080/"
        },
        "id": "sh8I1pjxoG9z",
        "outputId": "c1c55ee9-225b-4b1a-ffe9-ddda82c6f2ec"
      },
      "execution_count": 188,
      "outputs": [
        {
          "output_type": "execute_result",
          "data": {
            "text/plain": [
              "(0.5903129481672612, 0.12048744397818492, 3156, 3558)"
            ]
          },
          "metadata": {},
          "execution_count": 188
        }
      ]
    },
    {
      "cell_type": "code",
      "source": [],
      "metadata": {
        "id": "Iqi6KN0zo9E8"
      },
      "execution_count": 188,
      "outputs": []
    },
    {
      "cell_type": "code",
      "source": [
        "#_______________________________________________________________________________\n",
        "# dz33 operators\n",
        "def dz33_op_try (nz, nx):\n",
        "   dyda= np.zeros(33)\n",
        "   dyda_table= np.zeros(shape=(2,33))\n",
        "   #    !C*****************************************\n",
        "   #    !      data a/ 9.0914,   6.3355,   4.5791,  19.8946,   1.7325,   7.5247,\n",
        "   #    !     &       -7.1953, -39.9787,  -0.3976,   0.8131,  -0.7435,  -3.7291,\n",
        "   #    !     &       -0.1305,  -0.6387,   0.4534,   2.0605,   0.3449,   1.4727,\n",
        "   #    !     &       -1.0433,   0.0000,   5.2495,   0.0000, -32.1007,-151.1164,\n",
        "   #    !     &       -4.6103, -32.4238, -37.3226, -52.1673,   0.9597,   3.0024,\n",
        "   #    !     &        0.6977,   6.0390,  17.7960/\n",
        "   #    ! Data=1751 RMS= 0.330  (mars 95)\n",
        "   #    !FM+*   9.09 fm+*   6.34 FS+*   4.58 fs+*  19.89 FS-*   1.73 fs-*   7.52\n",
        "   #    !FC+*  -7.20 fc+* -39.98 PM+*  -0.40 pm+*   0.81 PS+*  -0.74 ps+*  -3.73\n",
        "   #    !PS-*  -0.13 ps-*  -0.64 S3 *   0.45 s3 *   2.06 SQ-*   0.34 sq-*   1.47\n",
        "   #    !D3 *  -1.04 d3     0.00 QQ+*   5.25 qq+    0.00  D0* -32.10  d0*-151.12\n",
        "   #    !QQ-*  -4.61 qq-* -32.42  TT* -37.32  tt* -52.17  SS*   0.96  ss*   3.00\n",
        "   #    ! C *   0.70 P0 *   6.04 P1 *  17.80\n",
        "   #    !                    ----------------------\n",
        "   #    ! 31 Coulomb\n",
        "   #    ! 32+33 Pairing\n",
        "   #    !\n",
        "   imax = 18\n",
        "   mo = 2\n",
        "   maxp = 8\n",
        "   nn= np.array([nx,nz])\n",
        "   v = nx + nz\n",
        "   t = np.abs(nx-nz)\n",
        "   r = np.power(v, 1./3.)\n",
        "   s = r*r\n",
        "   rc = r*(1. - 0.25*np.power(t/v, 2))\n",
        "   ra = (rc*rc)/r\n",
        "   #    !******************\n",
        "   for ndef in range(2): # ndef= 0->SPH# 1->DEF#\n",
        "      jup= np.zeros(2)\n",
        "      jud= np.zeros(2)\n",
        "      #       !-----------\n",
        "      ju= 4 if (ndef == 1 and nz > 50) else 0\n",
        "      fyda= np.zeros(33)\n",
        "      fyd0= np.zeros(33)\n",
        "      dyda= np.zeros(33)\n",
        "\n",
        "      noc= np.zeros(shape=(2,imax))\n",
        "      #onp= np.zeros(shape=(2,mo,maxp+1))\n",
        "      n_onp= np.zeros(shape=(2,maxp+1))\n",
        "      s_onp= np.zeros(shape=(2,maxp+1))\n",
        "      #ot= np.zeros(shape=(2,mo,maxp+1))\n",
        "      n_ot= np.zeros(shape=(2,maxp+1))\n",
        "      s_ot= np.zeros(shape=(2,maxp+1))\n",
        "\n",
        "      onps= np.zeros(2)\n",
        "      oei= np.zeros(2)\n",
        "      dei= np.zeros(2)\n",
        "      sshell= np.zeros(2)\n",
        "\n",
        "      for j in range(2):\n",
        "         ncum = 0\n",
        "         for i1 in range(999+1):\n",
        "            i = i1 + 1\n",
        "            ie = i\n",
        "            if (i%2 != 0):\n",
        "               id = i + 1\n",
        "               if (ncum < nn[j]): sshell[j] = 1.\t# ! !sscouche  J\n",
        "            else:\n",
        "               id = i*(i - 2)/4\n",
        "               if (ncum < nn[j]): sshell[j] = 2.\t# ! ! SSC R\n",
        "\n",
        "            ncum += id\n",
        "            if (ncum > nn[j]): break\n",
        "            noc[j][i1] = id\n",
        "\n",
        "         i = ie\n",
        "         ip = (i-1)//2\t# ! !N0 couche HO\n",
        "         moc = nn[j] - ncum + id\n",
        "         if ((ndef == 1) and (i%2 != 0)):\n",
        "            jud[j] = max(0, ju-moc)\n",
        "            jup[j] = 0\n",
        "         else:\n",
        "            jup[j] = min(ju, moc)\n",
        "            jup[j] = ju\n",
        "            jud[j] = 0\n",
        "\n",
        "         noc[j][i-1] = moc - jup[j] + jud[j]\n",
        "         noc[j][i] = jup[j]\n",
        "         noc[j][i - 2] -= jud[j]\n",
        "         if (i%2 != 0):\n",
        "            oei[j] = moc + ip*(ip - 1) - ju\n",
        "            dei[j] = ip*(ip + 1) + 2\n",
        "         else:\n",
        "            oei[j] = moc - ju\n",
        "            dei[j] = (ip + 1)*(ip + 2) + 2\n",
        "\n",
        "         #          !C HERE,DEGENERACIES AND NUMBER OF ACTIVE PARTICLES  FOR  EI.\n",
        "         ipl = 0\n",
        "         vmr = 0.\n",
        "         vmj = 0.\n",
        "         ss = 0\n",
        "         for ii in range(imax):\n",
        "            onps[j] = 0.\n",
        "            ip = (ii)//2\n",
        "            degi = (ip + 1)*(ip + 2)\n",
        "            fac = 1./np.sqrt(degi)\n",
        "            if (ip != ipl): ipl= ipl+1\n",
        "            if ((2*ip + 1) == ii+1):\n",
        "               vm2 = (0.5*ip)/(ip + 1)\n",
        "               degr = ip*(ip - 1)\n",
        "               if (ip > 2):\n",
        "                  vmr = (0.5*(ip - 1))/ip\n",
        "                  vmj = -1./ip\n",
        "                  if (noc[j][ii] <= degr): onps[j] = noc[j][ii]*vmr\n",
        "                  if (noc[j][ii] > degr): onps[j] = degr*vmr + (noc[j][ii] - degr)*vmj\n",
        "\n",
        "            if ((2*ip + 1) != ii+1): vm2 = -1./(ip + 1)\t# ! !SSc. j\n",
        "            s_onp[j][ipl] += noc[j][ii]*vm2\n",
        "            n_onp[j][ipl] += noc[j][ii]*fac\n",
        "            ss += onps[j]*(n_onp[j][ipl] + s_onp[j][ipl])\n",
        "\n",
        "      # ! !END OF LOOP OVER FLUIDS, j\n",
        "      if (ndef == 1):\n",
        "         alfa = 0.\n",
        "      else:\n",
        "         alfa = 0.5\n",
        "\n",
        "      facn = np.power(dei[0], alfa)\n",
        "      facz = np.power(dei[1], alfa)\n",
        "      dnnb = oei[0]*(dei[0] - oei[0])/dei[0]\n",
        "      dzzb = oei[1]*(dei[1] - oei[1])/dei[1]\n",
        "      qn = dnnb*facn/np.sqrt(dei[0])\n",
        "      qz = dzzb*facz/np.sqrt(dei[1])\n",
        "      di1n = dnnb*(2*oei[0] - dei[0])*facn*facn/(dei[0])\n",
        "      di1z = dzzb*(2*oei[1] - dei[1])*facz*facz/(dei[1])\n",
        "      s3 = di1z + di1n\n",
        "      #qq0 = (qn + qz)*(qn + qz)\n",
        "      #qq1 = (qn - qz)*(qn - qz)\n",
        "      #qqp = qq0 + qq1 = (qn + qz)*(qn + qz) + (qn - qz)*(qn - qz)\n",
        "      #qqm = qq0 - qq1 = (qn + qz)*(qn + qz) - (qn - qz)*(qn - qz)\n",
        "\n",
        "      for i in range(maxp+1):\n",
        "            n_ot[0][i] = n_onp[0][i] + n_onp[1][i]\n",
        "            n_ot[1][i] = n_onp[0][i] - n_onp[1][i]\n",
        "            s_ot[0][i] = s_onp[0][i] + s_onp[1][i]\n",
        "            s_ot[1][i] = s_onp[0][i] - s_onp[1][i]\n",
        "\n",
        "      #op= np.zeros(shape=(2,3,2))\n",
        "      n_op= np.zeros(2)\n",
        "      n_op_sqr= np.zeros(2)\n",
        "      s_op= np.zeros(2)\n",
        "      s_op_sqr= np.zeros(2)\n",
        "      op12= np.zeros(2)\n",
        "\n",
        "      op1= np.zeros(2)\n",
        "      op2= np.zeros(2)\n",
        "\n",
        "      for i in range(maxp+1):\n",
        "         degi = (i + 1)*(i + 2)\n",
        "         fac = np.sqrt(degi)\n",
        "         for j in range(2):\n",
        "               n_op[j] += n_ot[j][i]\n",
        "               n_op_sqr[j] += n_ot[j][i]*n_ot[j][i]*fac\n",
        "               s_op[j] += s_ot[j][i]\n",
        "               s_op_sqr[j] += s_ot[j][i]*s_ot[j][i]*fac\n",
        "\n",
        "      for j in range(2):\n",
        "         for m in range(mo):\n",
        "            n_op[j] = n_op[j]*n_op[j]\n",
        "            s_op[j] = s_op[j]*s_op[j]\n",
        "\n",
        "      for j in range(2):\n",
        "         for i in range(maxp+1):\n",
        "            degi = (i + 1)*(i + 2)\n",
        "            fac = np.sqrt(degi)\n",
        "            op1[j] += n_ot[j][i]/fac\n",
        "            op2[j] += s_ot[j][i]/fac\n",
        "\n",
        "      for j in range(2):\n",
        "         op12[j] = op1[j]*op2[j]\n",
        "\n",
        "      '''\n",
        "      fyd0[0] = n_op[0]\n",
        "      fyd0[2] = n_op[1]\n",
        "      fyd0[4] = s_op[0]\n",
        "      fyd0[6] = s_op[1]\n",
        "      fyd0[8] = op12[0]\n",
        "      fyd0[10] =op12[1]\n",
        "\n",
        "      fyd0[12] = n_op_sqr[0]\n",
        "      fyd0[14] = n_op_sqr[1]\n",
        "      fyd0[16] = s_op_sqr[0]\n",
        "      fyd0[18] = s_op_sqr[1]\n",
        "      #fyd0[20] = op12_sqr[0]\n",
        "      #fyd0[22] =op12_sqr[1]\n",
        "\n",
        "      for jf in range(0,16+1,4):\n",
        "         fyd0[jf], fyd0[jf + 2] = fyd0[jf] + fyd0[jf + 2], fyd0[jf] - fyd0[jf + 2]\n",
        "         #fyd0[jf] += fyd0[jf + 2]\n",
        "         #fyd0[jf + 2] = fyd0[jf] - 2.*fyd0[jf + 2]\n",
        "      '''\n",
        "      n_op[0],n_op[1] = n_op[0]+n_op[1], n_op[0]-n_op[1]\n",
        "      s_op[0],s_op[1] = s_op[0]+s_op[1], s_op[0]-s_op[1]\n",
        "      op12[0],op12[1] = op12[0]+op12[1], op12[0]-op12[1]\n",
        "      n_op_sqr[0],n_op_sqr[1] = n_op_sqr[0]+n_op_sqr[1], n_op_sqr[0]-n_op_sqr[1]\n",
        "      s_op_sqr[0],s_op_sqr[1] = s_op_sqr[0]+s_op_sqr[1], s_op_sqr[0]-s_op_sqr[1]\n",
        "\n",
        "      fyda[0] = n_op[0]/2\n",
        "      fyda[2] = s_op[0]\n",
        "      fyda[4] = s_op[1]\n",
        "      fyda[6] = op12[0]\n",
        "      fyda[8] = n_op_sqr[0]\n",
        "      fyda[10] = s_op_sqr[0]\n",
        "      fyda[12] = s_op_sqr[1]\n",
        "      fyda[26] = -t*(t + 2)/s/4\n",
        "      fyda[28] = ss\n",
        "      if (ndef == 0):\n",
        "         fyda[14] = s3\n",
        "         fyda[16] = (qn + qz)*(qn + qz) - (qn - qz)*(qn - qz)\n",
        "      else:\n",
        "         fyda[18] = s3\n",
        "         fyda[20] = (qn + qz)*(qn + qz) + (qn - qz)*(qn - qz)\n",
        "         fyda[22] = 16. - (qn + qz)*(qn + qz) - (qn - qz)*(qn - qz)\n",
        "         fyda[24] = (qn + qz)*(qn + qz) - (qn - qz)*(qn - qz)\n",
        "\n",
        "      for mss in range(0,30,2):\n",
        "         dyda[mss] = fyda[mss]/ra\n",
        "         dyda[mss+1] = -dyda[mss]/ra\n",
        "\n",
        "      #       !---------\n",
        "      z2 = nz*(nz - 1)\n",
        "      dyda[30] = (-z2 + 0.76*np.power(z2, 2./3.))/rc\t# ! !Coulomb\n",
        "      #       !---------\n",
        "      rxz = 1./ra\t# ! !Pairing\n",
        "      vxz = 1./v\n",
        "      txz = rxz*(t/v)\n",
        "      uxz = rxz - txz\n",
        "      for j in range(2):\n",
        "         dyda[31] += -rxz\n",
        "         if (sshell[j] == 2.): dyda[32] += vxz\n",
        "         #          !        !effet de couche en 1/A\n",
        "         if (nn[j]%2 == 0): dyda[31] += uxz\n",
        "\n",
        "      j = 1\t# ! !  Z>N\n",
        "      if (nn[0] >= nn[1]): j = 0\t# ! !  N>ou=Z\n",
        "      #       !k = 3 - j\n",
        "      if (nn[j]%2 == 0 and nn[1-j]%2 != 0): dyda[31] += -txz\n",
        "      #       !********\n",
        "      for mss in range(33):\n",
        "         dyda_table[ndef,mss] = dyda[mss]\n",
        "   return dyda_table"
      ],
      "metadata": {
        "id": "ncwCTIYFKifG"
      },
      "execution_count": 189,
      "outputs": []
    },
    {
      "cell_type": "code",
      "source": [
        "x1=100\n",
        "x2=200\n",
        "x1,x2= x1+x2,x1-x2"
      ],
      "metadata": {
        "id": "XE3PFbalJ3KL"
      },
      "execution_count": 190,
      "outputs": []
    },
    {
      "cell_type": "code",
      "source": [
        "x1"
      ],
      "metadata": {
        "colab": {
          "base_uri": "https://localhost:8080/"
        },
        "id": "Cpl9bGF1J27D",
        "outputId": "82f7d4ca-8415-49fd-839f-7c7eec1452d6"
      },
      "execution_count": 191,
      "outputs": [
        {
          "output_type": "execute_result",
          "data": {
            "text/plain": [
              "300"
            ]
          },
          "metadata": {},
          "execution_count": 191
        }
      ]
    },
    {
      "cell_type": "code",
      "source": [
        "m33=list()\n",
        "for k in range(data.shape[0]):\n",
        "  tmp= dd(k,dz33)\n",
        "  m33.append(tmp)"
      ],
      "metadata": {
        "id": "KxwqNNYcJ8M9"
      },
      "execution_count": 192,
      "outputs": []
    },
    {
      "cell_type": "code",
      "source": [
        "eval_sigma(m33,weight0)"
      ],
      "metadata": {
        "colab": {
          "base_uri": "https://localhost:8080/"
        },
        "id": "GAKeSzuMX1z8",
        "outputId": "63bdd32c-e409-421d-a34e-2a8cecebd709"
      },
      "execution_count": 193,
      "outputs": [
        {
          "output_type": "execute_result",
          "data": {
            "text/plain": [
              "(0.3668417817298896, 1.0, 2164, 3558)"
            ]
          },
          "metadata": {},
          "execution_count": 193
        }
      ]
    },
    {
      "cell_type": "code",
      "source": [
        "eval_sigma(m33,weight1)"
      ],
      "metadata": {
        "colab": {
          "base_uri": "https://localhost:8080/"
        },
        "id": "8H0sYf8zYE50",
        "outputId": "2d5bbefe-5ec5-4cb2-b75b-a8a61a59d386"
      },
      "execution_count": 194,
      "outputs": [
        {
          "output_type": "execute_result",
          "data": {
            "text/plain": [
              "(0.4051446573906963, 0.1198697939114926, 3156, 3558)"
            ]
          },
          "metadata": {},
          "execution_count": 194
        }
      ]
    },
    {
      "cell_type": "code",
      "source": [
        "eval_sigma(m33,weight2)"
      ],
      "metadata": {
        "colab": {
          "base_uri": "https://localhost:8080/"
        },
        "id": "2yYrXJtpWLF1",
        "outputId": "ae79a60e-0c7c-484b-9743-19aa9f9d75b7"
      },
      "execution_count": 195,
      "outputs": [
        {
          "output_type": "execute_result",
          "data": {
            "text/plain": [
              "(0.3885872119832257, 0.12048744397818492, 3156, 3558)"
            ]
          },
          "metadata": {},
          "execution_count": 195
        }
      ]
    },
    {
      "cell_type": "code",
      "source": [
        "dd(981,dz33)"
      ],
      "metadata": {
        "colab": {
          "base_uri": "https://localhost:8080/"
        },
        "id": "hRy8WFspWM4f",
        "outputId": "380dcabb-725f-4cec-a865-fbdb0f8a2269"
      },
      "execution_count": 196,
      "outputs": [
        {
          "output_type": "execute_result",
          "data": {
            "text/plain": [
              "(38, 52, -0.4335324724701195, 0.001449, 0, 782.20685452753, 782.6403870000001)"
            ]
          },
          "metadata": {},
          "execution_count": 196
        }
      ]
    },
    {
      "cell_type": "code",
      "source": [
        "dz33(21,33)"
      ],
      "metadata": {
        "colab": {
          "base_uri": "https://localhost:8080/"
        },
        "id": "Mo-Y3NO8WOvO",
        "outputId": "521fea5f-ca68-4760-aab5-d9b30b18e748"
      },
      "execution_count": 197,
      "outputs": [
        {
          "output_type": "execute_result",
          "data": {
            "text/plain": [
              "451.7344323930868"
            ]
          },
          "metadata": {},
          "execution_count": 197
        }
      ]
    },
    {
      "cell_type": "code",
      "source": [
        "dz10(21,33)"
      ],
      "metadata": {
        "colab": {
          "base_uri": "https://localhost:8080/"
        },
        "id": "jX0g031AWiDG",
        "outputId": "2635f1a7-0207-4090-ccae-90e9e6b32139"
      },
      "execution_count": 198,
      "outputs": [
        {
          "output_type": "execute_result",
          "data": {
            "text/plain": [
              "452.02928153844067"
            ]
          },
          "metadata": {},
          "execution_count": 198
        }
      ]
    },
    {
      "cell_type": "code",
      "source": [
        "#_______________________________________________________________________________\n",
        "def dz33_try (nz, nx, a=a_def, verbosity = 0):\n",
        "   ym=np.zeros(2)\n",
        "   #    !C*****************************************\n",
        "   #    !      data a/ 9.0914,   6.3355,   4.5791,  19.8946,   1.7325,   7.5247,\n",
        "   #    !     &       -7.1953, -39.9787,  -0.3976,   0.8131,  -0.7435,  -3.7291,\n",
        "   #    !     &       -0.1305,  -0.6387,   0.4534,   2.0605,   0.3449,   1.4727,\n",
        "   #    !     &       -1.0433,   0.0000,   5.2495,   0.0000, -32.1007,-151.1164,\n",
        "   #    !     &       -4.6103, -32.4238, -37.3226, -52.1673,   0.9597,   3.0024,\n",
        "   #    !     &        0.6977,   6.0390,  17.7960/\n",
        "   #    ! Data=1751 RMS= 0.330  (mars 95)\n",
        "   #    !FM+*   9.09 fm+*   6.34 FS+*   4.58 fs+*  19.89 FS-*   1.73 fs-*   7.52\n",
        "   #    !FC+*  -7.20 fc+* -39.98 PM+*  -0.40 pm+*   0.81 PS+*  -0.74 ps+*  -3.73\n",
        "   #    !PS-*  -0.13 ps-*  -0.64 S3 *   0.45 s3 *   2.06 SQ-*   0.34 sq-*   1.47\n",
        "   #    !QQ-*  -4.61 qq-* -32.42  TT* -37.32  tt* -52.17  SS*   0.96  ss*   3.00\n",
        "   #    ! C *   0.70 P0 *   6.04 P1 *  17.80\n",
        "   #    !                    ----------------------\n",
        "   #    ! 31 Coulomb\n",
        "   #    ! 32+33 Pairing\n",
        "   #    !\n",
        "   #    !******************\n",
        "   dyda_table= dz33_op_try (nz, nx)\n",
        "   for ndef in range(2):\n",
        "      for mss in range(33):\n",
        "         ym[ndef] += dyda_table[ndef,mss]*a[mss]\n",
        "\n",
        "   be = ym[0]\n",
        "   if (nz > 50 and ym[1] > ym[0]):\n",
        "      be = ym[1]\n",
        "      is_deformed=1\n",
        "   else:\n",
        "      is_deformed=0\n",
        "\n",
        "   if verbosity <= 0 : return be\n",
        "   if verbosity == 1 : return be, is_deformed\n",
        "   return be, is_deformed,dyda_table[is_deformed]"
      ],
      "metadata": {
        "id": "DTxf-hWXWkNW"
      },
      "execution_count": 199,
      "outputs": []
    },
    {
      "cell_type": "code",
      "source": [
        "dz33_op(30,40)"
      ],
      "metadata": {
        "colab": {
          "base_uri": "https://localhost:8080/"
        },
        "id": "-6oc3T6wYkhf",
        "outputId": "fe57c41a-b51d-44f0-bf42-6b86c5b67c1c"
      },
      "execution_count": 200,
      "outputs": [
        {
          "output_type": "execute_result",
          "data": {
            "text/plain": [
              "array([[ 5.65548216e+01, -1.38637231e+01,  3.06422219e+00,\n",
              "        -7.51156609e-01,  0.00000000e+00, -0.00000000e+00,\n",
              "         9.59253276e-01, -2.35149214e-01,  1.12759733e+02,\n",
              "        -2.76416701e+01,  1.37036182e+01, -3.35927448e+00,\n",
              "         0.00000000e+00, -0.00000000e+00, -5.34846055e+00,\n",
              "         1.31110972e+00,  9.72447372e+00, -2.38383585e+00,\n",
              "         0.00000000e+00, -0.00000000e+00,  0.00000000e+00,\n",
              "        -0.00000000e+00,  0.00000000e+00, -0.00000000e+00,\n",
              "         0.00000000e+00, -0.00000000e+00, -4.32978304e-01,\n",
              "         1.06139338e-01,  3.13047762e+00, -7.67398319e-01,\n",
              "        -1.95289722e+02, -7.00393643e-02,  2.85714286e-02],\n",
              "       [ 5.65548216e+01, -1.38637231e+01,  3.06422219e+00,\n",
              "        -7.51156609e-01,  0.00000000e+00, -0.00000000e+00,\n",
              "         9.59253276e-01, -2.35149214e-01,  1.12759733e+02,\n",
              "        -2.76416701e+01,  1.37036182e+01, -3.35927448e+00,\n",
              "         0.00000000e+00, -0.00000000e+00,  0.00000000e+00,\n",
              "        -0.00000000e+00,  0.00000000e+00, -0.00000000e+00,\n",
              "        -2.43111843e-01,  5.95958963e-02,  7.36702555e-01,\n",
              "        -1.80593625e-01,  3.48018287e+00, -8.53124285e-01,\n",
              "         4.42021533e-01, -1.08356175e-01, -4.32978304e-01,\n",
              "         1.06139338e-01,  3.13047762e+00, -7.67398319e-01,\n",
              "        -1.95289722e+02, -7.00393643e-02,  2.85714286e-02]])"
            ]
          },
          "metadata": {},
          "execution_count": 200
        }
      ]
    },
    {
      "cell_type": "code",
      "source": [
        "dz33_op_try(30,40) - dz33_op(30,40)"
      ],
      "metadata": {
        "colab": {
          "base_uri": "https://localhost:8080/"
        },
        "id": "SdUxEhVEYndm",
        "outputId": "418a50cf-3804-49bf-da17-b98ce54d53d2"
      },
      "execution_count": 201,
      "outputs": [
        {
          "output_type": "execute_result",
          "data": {
            "text/plain": [
              "array([[ 2.54791292e+04, -6.24589705e+03,  1.60871665e+01,\n",
              "        -3.94357220e+00,  0.00000000e+00,  0.00000000e+00,\n",
              "         0.00000000e+00,  0.00000000e+00,  0.00000000e+00,\n",
              "         0.00000000e+00,  0.00000000e+00,  0.00000000e+00,\n",
              "         0.00000000e+00,  0.00000000e+00,  0.00000000e+00,\n",
              "         0.00000000e+00,  0.00000000e+00,  0.00000000e+00,\n",
              "         0.00000000e+00,  0.00000000e+00,  0.00000000e+00,\n",
              "         0.00000000e+00,  0.00000000e+00,  0.00000000e+00,\n",
              "         0.00000000e+00,  0.00000000e+00,  0.00000000e+00,\n",
              "         0.00000000e+00, -1.56523881e+00,  3.83699160e-01,\n",
              "         0.00000000e+00,  0.00000000e+00,  0.00000000e+00],\n",
              "       [ 2.54791292e+04, -6.24589705e+03,  1.60871665e+01,\n",
              "        -3.94357220e+00,  0.00000000e+00,  0.00000000e+00,\n",
              "         0.00000000e+00,  0.00000000e+00,  0.00000000e+00,\n",
              "         0.00000000e+00,  0.00000000e+00,  0.00000000e+00,\n",
              "         0.00000000e+00,  0.00000000e+00,  0.00000000e+00,\n",
              "         0.00000000e+00,  0.00000000e+00,  0.00000000e+00,\n",
              "         0.00000000e+00,  0.00000000e+00,  0.00000000e+00,\n",
              "         0.00000000e+00, -2.94681022e-01,  7.22374500e-02,\n",
              "         0.00000000e+00,  0.00000000e+00,  0.00000000e+00,\n",
              "         0.00000000e+00, -1.56523881e+00,  3.83699160e-01,\n",
              "         0.00000000e+00,  0.00000000e+00,  0.00000000e+00]])"
            ]
          },
          "metadata": {},
          "execution_count": 201
        }
      ]
    },
    {
      "cell_type": "code",
      "source": [],
      "metadata": {
        "id": "w9Oq2YmpgNgQ"
      },
      "execution_count": 202,
      "outputs": []
    }
  ]
}