{
  "nbformat": 4,
  "nbformat_minor": 0,
  "metadata": {
    "colab": {
      "provenance": [],
      "authorship_tag": "ABX9TyO8zBd2DRsyrq0kPd2Fo+9C",
      "include_colab_link": true
    },
    "kernelspec": {
      "name": "python3",
      "display_name": "Python 3"
    },
    "language_info": {
      "name": "python"
    }
  },
  "cells": [
    {
      "cell_type": "markdown",
      "metadata": {
        "id": "view-in-github",
        "colab_type": "text"
      },
      "source": [
        "<a href=\"https://colab.research.google.com/github/tsp00/mass/blob/master/mass_ann.ipynb\" target=\"_parent\"><img src=\"https://colab.research.google.com/assets/colab-badge.svg\" alt=\"Open In Colab\"/></a>"
      ]
    },
    {
      "cell_type": "markdown",
      "source": [
        "chrome-extension://efaidnbmnnnibpcajpcglclefindmkaj/http://contents2.kocw.or.kr/KOCW/data/document/2020/edu1/bdu/hongseungwook1118/023.pdf"
      ],
      "metadata": {
        "id": "dnf6HnA2qXHW"
      }
    },
    {
      "cell_type": "code",
      "execution_count": 512,
      "metadata": {
        "id": "wyMHpgEOkQiy"
      },
      "outputs": [],
      "source": [
        "import numpy as np\n",
        "from keras import layers,models\n",
        "from sklearn import preprocessing\n",
        "\n",
        "import matplotlib.pyplot as plt\n",
        "#import numpy as np\n",
        "import os\n",
        "\n",
        "import pandas as pd"
      ]
    },
    {
      "cell_type": "code",
      "source": [
        "# Duflo-Zuker mass model dz10\n",
        "\n",
        "#_______________________________________________________________________________\n",
        "# dz10 parameters\n",
        "b10_def = np.array([0.7043, 17.7418, 16.2562, 37.5562, 53.9017, 0.4711, 2.1307, 0.0210, 40.5356, 6.0632])\n",
        "\n",
        "\n",
        "#_______________________________________________________________________________\n",
        "def dz10_op (Z, N):\n",
        "# DZ 10 operators, returns dyda2(shape=(2,10)), 2 is for spherical/deformed\n",
        "\n",
        "   op=np.zeros(2)\n",
        "   dx=np.zeros(2)\n",
        "   qx=np.zeros(2)\n",
        "   os=np.zeros(2)\n",
        "   oei=np.zeros(2)\n",
        "   dei=np.zeros(2)\n",
        "   pp=np.zeros(2)\n",
        "   # c*********\n",
        "   nn= np.array([N, Z])\n",
        "   A = N + Z\n",
        "   t = np.abs(N-Z)\n",
        "   r = np.power(A, 1./3.)\n",
        "   #       !s=r*r\n",
        "   rc = r*(1. - 0.25*np.power(t/A, 2)) \t# !      Charge radius\n",
        "   ra = (rc*rc)/r\n",
        "   # c--------\n",
        "   z2 = Z*(Z - 1)\n",
        "\n",
        "   # c********                          ! beginning of main loop\n",
        "   dyda= np.zeros(10)\n",
        "   y=np.zeros(2)\n",
        "   dyda_table= np.zeros(shape=(2,10))\n",
        "   for ndef in range(2): #= 0  ndef <= 1  ndef++) {\t# !      ndef=0  spherical\n",
        "      noc= np.zeros(shape=(2,18))\n",
        "      onp= np.zeros(shape=(2,2,9))\n",
        "      y[ndef] = 0.\n",
        "      ju = 4 if (ndef == 1) else 0  \t# !      nucleons associated to deform.\n",
        "      for kk in range(10): #(int kk = 2  kk <= 10  kk++) {\n",
        "         dyda[kk] = 0.\n",
        "      #}\n",
        "      dyda[0] = ra * (-z2 + 0.76*np.power(z2, 2./3.))/rc \t# ! ra times of Coulomb energy\n",
        "      # c--------                          ! beginning of loop over N and Z\n",
        "      for j in range (2): #(int j = 0  j <= 1  j++) {\n",
        "         ncum = 0\n",
        "         for i in range (100): #(int i = 0  i <= 100  i++) {\n",
        "            id = i+2 if (i%2 == 0) else (i + 1)*(i - 1)//4 # sub-shells (ssh) j and r filli\n",
        "            if (ncum + id >= nn[j]): # {\n",
        "               ie=i\n",
        "               break\n",
        "            ncum += id\n",
        "            noc[j][i] = id \t# !     nb of nucleons in each ssh\n",
        "         # c--------\n",
        "         ip = ie//2 \t# !     HO number (p)\n",
        "         pp[j] = ip\n",
        "         moc = nn[j] - ncum \t# !+id\n",
        "         noc[j][ie] = moc - ju \t# !     nb of nucleons in last ssh\n",
        "         noc[j][ie + 1] = ju\n",
        "         oei[j] = moc + ip*(ip - 1) if (ie%2 == 0) else moc - ju              # nb of nucleons in last EI she\n",
        "         dei[j] = ip*(ip + 1) + 2   if (ie%2 == 0) else (ip + 1)*(ip + 2) + 2 # size of the EI shell\n",
        "\n",
        "         qx[j] = oei[j]*(dei[j] - oei[j] - ju)/dei[j] \t# ! n*(D-n)/D        S3(j)\n",
        "         dx[j] = qx[j]*(2*oei[j] - dei[j]) \t# ! n*(D-n)*(2n-D)/D  Q\n",
        "         if (ndef == 1): qx[j] /= np.sqrt(dei[j]) \t# ! scaling for deformed\n",
        "         # c--------\n",
        "         for i in range (ie+2): #(int i = 0  i <= ie + 1  i++) {\t# ! imax-1                             ! Amplitudes\n",
        "            ip = i//2\n",
        "            onp[j][0][ip] += noc[j][i]/np.sqrt((ip+1.)*(ip+2.)) \t# !    for FM term\n",
        "            vm= 0.5*ip if (i%2 == 0) else -1. # for spin-orbit ter\n",
        "            onp[j][1][ip] += noc[j][i]*vm\n",
        "         # c--------\n",
        "         op[j] = 0.\n",
        "         os[j] = 0.\n",
        "         for ip in range ((ie + 1)//2 +1): #(int ip = 0  ip <= (ie + 1)/2  ip++) {\t# !ipm                !       FM and SO terms\n",
        "            pi = ip\n",
        "            den = np.power((pi + 1)*(pi + 2), 3./2.)\n",
        "            op[j] += onp[j][0][ip] \t# ! FM\n",
        "            os[j] += onp[j][1][ip]*((1. + onp[j][0][ip])*(pi*pi) + (1. - onp[j][0][ip])*(4*pi - 5))/den \t# ! SO\n",
        "\n",
        "         op[j] *= op[j]\n",
        "\n",
        "      # c--------                          ! end of loop over  N and Z\n",
        "      dyda[1] = op[0] + op[1] \t# !   Master term (FM): volume\n",
        "      dyda[2] = -dyda[1]/ra \t# !                     surface\n",
        "      dyda[1] = dyda[1] + os[0] + os[1] \t# !   FM + SO\n",
        "      dyda[3] = -t*(t + 2)/(r*r) \t# !   isospin term : volume\n",
        "      dyda[4] = -dyda[3]/ra \t# !                : surface\n",
        "      if (ndef == 0): # {\t# ! sph.\n",
        "         dyda[5] = dx[0] + dx[1] \t# !   S3  volume\n",
        "         dyda[6] = -dyda[5]/ra \t# !       surface\n",
        "         px = np.sqrt(pp[0]) + np.sqrt(pp[1])\n",
        "         dyda[7] = qx[0]*qx[1]*(np.power(2, px)) \t# !   QQ sph.\n",
        "      else: # {\t# ! def.\n",
        "         dyda[8] = qx[0]*qx[1] \t# !   QQ deform.\n",
        "\n",
        "      dyda[4] += t*(1 - t)/(A*np.power(ra, 3)) \t# !   \"Wigner term\"\n",
        "      # c--------                                 !   PAIRING\n",
        "      if ((N%2==1) and (Z%2==1)): dyda[9] = t/A\n",
        "      if (N > Z): # {\n",
        "         if ((N%2==0) and (Z%2==1)): dyda[9] = 1 - t/A\n",
        "         if ((N%2==1) and (Z%2==0)): dyda[9] = 1\n",
        "      else: # {\n",
        "         if ((N%2==0) and (Z%2==1)): dyda[9] = 1\n",
        "         if ((N%2==1) and (Z%2==0)): dyda[9] = 1 - t/A\n",
        "\n",
        "      if ((N%2==0) and (Z%2==0)): dyda[9] = 2 - t/A\n",
        "\n",
        "      for mss in range(10): #(int mss = 1  mss <= 10  mss++) {\n",
        "         dyda_table[ndef,mss]=  dyda[mss]/ra\n",
        "      # c--------                            ! end of main loop\n",
        "   return dyda_table\n",
        "\n",
        "\n",
        "#_______________________________________________________________________________\n",
        "def dz10 (Z, N, b = b10_def, verbosity = 0, opfun = dz10_op):\n",
        "   dyda_table= opfun (Z, N)\n",
        "   y= np.zeros(2)\n",
        "   for ndef in range(2): #= 0  ndef <= 1  ndef++) {\t# !      ndef=0  spherical\n",
        "      for mss in range(10): #(int mss = 1  mss <= 10  mss++) {\n",
        "         y[ndef] += dyda_table[ndef,mss]*b[mss]\n",
        "\n",
        "   is_deformed = 0\n",
        "   be= y[0]\n",
        "   if (y[1] > y[0] and Z > 50):\n",
        "      is_deformed = 1\n",
        "      be= y[1]\n",
        "\n",
        "   if verbosity <= 0 : return be\n",
        "   if verbosity == 1 : return be, is_deformed\n",
        "\n",
        "   return be, is_deformed,dyda_table[is_deformed]"
      ],
      "metadata": {
        "id": "RTXTGOZPhsl2"
      },
      "execution_count": 513,
      "outputs": []
    },
    {
      "cell_type": "code",
      "source": [
        "dz10(50, 81)"
      ],
      "metadata": {
        "colab": {
          "base_uri": "https://localhost:8080/"
        },
        "id": "njEByBE1yfZO",
        "outputId": "8c6601de-6778-49d2-89a0-f2435a4fb341"
      },
      "execution_count": 514,
      "outputs": [
        {
          "output_type": "execute_result",
          "data": {
            "text/plain": [
              "1095.0984200112887"
            ]
          },
          "metadata": {},
          "execution_count": 514
        }
      ]
    },
    {
      "cell_type": "code",
      "source": [
        "dz10(38,53)"
      ],
      "metadata": {
        "colab": {
          "base_uri": "https://localhost:8080/"
        },
        "id": "zXCbhcfhzCmY",
        "outputId": "3454b564-7635-4684-d90a-91abc4ce386f"
      },
      "execution_count": 515,
      "outputs": [
        {
          "output_type": "execute_result",
          "data": {
            "text/plain": [
              "787.8845069732481"
            ]
          },
          "metadata": {},
          "execution_count": 515
        }
      ]
    },
    {
      "cell_type": "code",
      "source": [
        "dz10_op(38,53)"
      ],
      "metadata": {
        "colab": {
          "base_uri": "https://localhost:8080/"
        },
        "id": "Jnyyv8AhfpqT",
        "outputId": "6457734a-14da-4964-81f5-476bcf3ebff5"
      },
      "execution_count": 516,
      "outputs": [
        {
          "output_type": "execute_result",
          "data": {
            "text/plain": [
              "array([[-2.93374333e+02,  7.53494537e+01, -1.67503407e+01,\n",
              "        -2.84065797e+00,  6.34260279e-01, -1.83898579e+01,\n",
              "         4.14462015e+00,  4.44112951e+01,  0.00000000e+00,\n",
              "         2.25375322e-01],\n",
              "       [-2.93374333e+02,  7.48381163e+01, -1.64002438e+01,\n",
              "        -2.84065797e+00,  6.34260279e-01,  0.00000000e+00,\n",
              "         0.00000000e+00,  0.00000000e+00, -2.51928828e-02,\n",
              "         2.25375322e-01]])"
            ]
          },
          "metadata": {},
          "execution_count": 516
        }
      ]
    },
    {
      "cell_type": "code",
      "source": [
        "# Duflo-Zuker mass model dz33\n",
        "\n",
        "#_______________________________________________________________________________\n",
        "# dz33 parameters\n",
        "b_28=np.array([\n",
        "   9.0914*2, 6.3355*2, 4.5791, 19.8946, 1.7325, 7.5247,\n",
        "   -7.1953, -39.9787, -0.3976, 0.8131, -0.7435, -3.7291,\n",
        "   -0.1305, -0.6387, 0.4534, 2.0605, 0.3449, 1.4727,\n",
        "   -1.0433, 0.0000, 5.2495, 0.0000, -32.1007, -151.1164,\n",
        "   -4.6103, -32.4238, 37.3226*4, 52.1673*4, 0.9597, 3.0024,\n",
        "   0.6977, 6.0390, 17.7960 ])\n",
        "\n",
        "b_fit_1=np.array([\n",
        "    18.3823114678441, 14.9654647147403, 5.16043547913969, 23.6791652365813, 1.69198437698102, 7.70752795386154,          # FM+, FS+, FS-\n",
        "    -4.89968997566140, -41.9546818849829, -0.452541072665594, -0.115672475977305, -0.841966943307345, -4.26430263634212, # FC+, PM+, PS+\n",
        "    -0.106021683952664, -0.562161540801153, 0.427309092386025, 1.96420799950015, 0.334218482733298, 1.31955010861289,    # PS-, S3,  SQ-\n",
        "    -8.103099200805119/100, 8.20516288043133, 6.14976974664344, 5.32159824150776, -33.1968387296639, -158.618534804942,  # D3,  QQ+, D0\n",
        "    -2.77690717089939, -24.5189516535313, 149.743976383871, 209.350547986690, 1.15196960067461, 3.72823843532976,        # QQ-, asym,SS\n",
        "    0.702321263796662, 6.19508179596490, 9.74100193880679])                                                              # EC,  P1,  P2\n",
        "\n",
        "b_fit_2=np.array([\n",
        "    18.3221122504656, 14.5224438086702, 5.38508401938650, 24.8228141400897, 1.74698778464929, 7.91311926171185,\n",
        "    -5.48565655334926, -42.8968460273137, -0.435917749563838, 3.908547722336988/100, -0.872068966794544, -4.42502282169325,\n",
        "    -0.127419381208396, -0.668296738146491, 0.435870298399898, 2.00690509793684, 0.345745626292599, 1.40096007168900,\n",
        "    1.28594442409618, 16.2884201477635, 5.79492771834656, 1.73923193482831, -33.4964972193808, -159.670174045318,\n",
        "    -2.03517005308097, -18.7256526429027, 149.992913856565, 210.699329582436, 1.22681220517222, 4.06350605475340,\n",
        "    0.701672917012658, 6.25922079319403, 8.99509716404338])\n",
        "\n",
        "b_fit_3=np.array([\n",
        "    18.6228397521178, 15.8127576459535, 3.41694534980079, 14.5804580920230, 1.35692505906094, 6.41683661357447,\n",
        "    -1.94788844902597, -28.5255998068208, -0.644332680103499, -0.819341338674875, -0.535341673865479, -2.55311797652534,\n",
        "    -0.136146129695100, -0.694037733724995, 0.455186789743238, 2.04846967472275, 0.338773739280799, 1.33999676626953,\n",
        "    8.12815311636854, 50.3506134798718, -1.82915100886547, -39.8136431369429, -23.4674927512946, -108.181314678997,\n",
        "    12.8175343210966, 65.0038503245761, 149.285763376006, 207.179983732669, 1.50059967529012, 4.31016747430967,\n",
        "    0.701272742023415, 6.19590396338389, 8.07882516556805])\n",
        "\n",
        "\n",
        "#_______________________________________________________________________________\n",
        "# dz33 operators\n",
        "def dz33_op (nz, nx):\n",
        "   dyda= np.zeros(33)\n",
        "   dyda_table= np.zeros(shape=(2,33))\n",
        "   #    !C*****************************************\n",
        "   #    !      data a/ 9.0914,   6.3355,   4.5791,  19.8946,   1.7325,   7.5247,\n",
        "   #    !     &       -7.1953, -39.9787,  -0.3976,   0.8131,  -0.7435,  -3.7291,\n",
        "   #    !     &       -0.1305,  -0.6387,   0.4534,   2.0605,   0.3449,   1.4727,\n",
        "   #    !     &       -1.0433,   0.0000,   5.2495,   0.0000, -32.1007,-151.1164,\n",
        "   #    !     &       -4.6103, -32.4238, -37.3226, -52.1673,   0.9597,   3.0024,\n",
        "   #    !     &        0.6977,   6.0390,  17.7960/\n",
        "   #    ! Data=1751 RMS= 0.330  (mars 95)\n",
        "   #    !FM+*   9.09 fm+*   6.34 FS+*   4.58 fs+*  19.89 FS-*   1.73 fs-*   7.52\n",
        "   #    !FC+*  -7.20 fc+* -39.98 PM+*  -0.40 pm+*   0.81 PS+*  -0.74 ps+*  -3.73\n",
        "   #    !PS-*  -0.13 ps-*  -0.64 S3 *   0.45 s3 *   2.06 SQ-*   0.34 sq-*   1.47\n",
        "   #    !D3 *  -1.04 d3     0.00 QQ+*   5.25 qq+    0.00  D0* -32.10  d0*-151.12\n",
        "   #    !QQ-*  -4.61 qq-* -32.42  TT* -37.32  tt* -52.17  SS*   0.96  ss*   3.00\n",
        "   #    ! C *   0.70 P0 *   6.04 P1 *  17.80\n",
        "   #    !                    ----------------------\n",
        "   #    ! 31 Coulomb\n",
        "   #    ! 32+33 Pairing\n",
        "   #    !\n",
        "   imax = 18\n",
        "   mo = 2\n",
        "   maxp = 8\n",
        "   nn= np.array([nx,nz])\n",
        "   v = nx + nz\n",
        "   t = np.abs(nx-nz)\n",
        "   r = np.power(v, 1./3.)\n",
        "   s = r*r\n",
        "   rc = r*(1. - 0.25*np.power(t/v, 2))\n",
        "   ra = (rc*rc)/r\n",
        "   #    !******************\n",
        "   for ndef in range(2): # ndef= 0->SPH# 1->DEF#\n",
        "      jup= np.zeros(2)\n",
        "      jud= np.zeros(2)\n",
        "      #       !-----------\n",
        "      ju= 4 if (ndef == 1 and nz > 50) else 0\n",
        "      fyda= np.zeros(33)\n",
        "      fyd0= np.zeros(33)\n",
        "      dyda= np.zeros(33)\n",
        "\n",
        "      noc= np.zeros(shape=(2,imax))\n",
        "      onp= np.zeros(shape=(2,mo,maxp+1))\n",
        "      ot= np.zeros(shape=(2,mo,maxp+1))\n",
        "\n",
        "      onps= np.zeros(2)\n",
        "      oei= np.zeros(2)\n",
        "      dei= np.zeros(2)\n",
        "      sshell= np.zeros(2)\n",
        "\n",
        "      for j in range(2):\n",
        "         ncum = 0\n",
        "         for i1 in range(999+1):\n",
        "            i = i1 + 1\n",
        "            ie = i\n",
        "            if (i%2 != 0):\n",
        "               id = i + 1\n",
        "               if (ncum < nn[j]): sshell[j] = 1.\t# ! !sscouche  J\n",
        "            else:\n",
        "               id = i*(i - 2)/4\n",
        "               if (ncum < nn[j]): sshell[j] = 2.\t# ! ! SSC R\n",
        "\n",
        "            ncum += id\n",
        "            if (ncum > nn[j]): break\n",
        "            noc[j][i1] = id\n",
        "\n",
        "         i = ie\n",
        "         ip = (i-1)//2\t# ! !N0 couche HO\n",
        "         moc = nn[j] - ncum + id\n",
        "         if ((ndef == 1) and (i%2 != 0)):\n",
        "            jud[j] = max(0, ju-moc)\n",
        "            jup[j] = 0\n",
        "         else:\n",
        "            jup[j] = min(ju, moc)\n",
        "            jup[j] = ju\n",
        "            jud[j] = 0\n",
        "\n",
        "         noc[j][i-1] = moc - jup[j] + jud[j]\n",
        "         noc[j][i] = jup[j]\n",
        "         noc[j][i - 2] -= jud[j]\n",
        "         if (i%2 != 0):\n",
        "            oei[j] = moc + ip*(ip - 1) - ju\n",
        "            dei[j] = ip*(ip + 1) + 2\n",
        "         else:\n",
        "            oei[j] = moc - ju\n",
        "            dei[j] = (ip + 1)*(ip + 2) + 2\n",
        "\n",
        "         #          !C HERE,DEGENERACIES AND NUMBER OF ACTIVE PARTICLES  FOR  EI.\n",
        "         ipl = 0\n",
        "         vmr = 0.\n",
        "         vmj = 0.\n",
        "         for ii in range(imax):\n",
        "            onps[j] = 0.\n",
        "            ip = (ii)//2\n",
        "            degi = (ip + 1)*(ip + 2)\n",
        "            fac = 1./np.sqrt(degi)\n",
        "            if (ip != ipl): ipl= ipl+1\n",
        "            if ((2*ip + 1) == ii+1):\n",
        "               vm2 = (0.5*ip)/(ip + 1)\n",
        "               degr = ip*(ip - 1)\n",
        "               if (ip > 2):\n",
        "                  vmr = (0.5*(ip - 1))/ip\n",
        "                  vmj = -1./ip\n",
        "                  if (noc[j][ii] <= degr): onps[j] = noc[j][ii]*vmr\n",
        "                  if (noc[j][ii] > degr): onps[j] = degr*vmr + (noc[j][ii] - degr)*vmj\n",
        "\n",
        "            if ((2*ip + 1) != ii+1): vm2 = -1./(ip + 1)\t# ! !SSc. j\n",
        "            onp[j][1][ipl] += noc[j][ii]*vm2\n",
        "            onp[j][0][ipl] += noc[j][ii]*fac\n",
        "            fyd0[28] += onps[j]*(onp[j][0][ipl] + onp[j][1][ipl])\n",
        "\n",
        "      # ! !END OF LOOP OVER FLUIDS, j\n",
        "      if (ndef == 1):\n",
        "         alfa = 0.\n",
        "      else:\n",
        "         alfa = 0.5\n",
        "\n",
        "      facn = np.power(dei[0], alfa)\n",
        "      facz = np.power(dei[1], alfa)\n",
        "      dnnb = oei[0]*(dei[0] - oei[0])/dei[0]\n",
        "      dzzb = oei[1]*(dei[1] - oei[1])/dei[1]\n",
        "      qn = dnnb*facn/np.sqrt(dei[0])\n",
        "      qz = dzzb*facz/np.sqrt(dei[1])\n",
        "      di1n = dnnb*(2*oei[0] - dei[0])*facn*facn/(dei[0])\n",
        "      di1z = dzzb*(2*oei[1] - dei[1])*facz*facz/(dei[1])\n",
        "      s3 = di1z + di1n\n",
        "      qq0 = (qn + qz)*(qn + qz)\n",
        "      qq1 = (qn - qz)*(qn - qz)\n",
        "      qqp = qq0 + qq1\n",
        "      qqm = qq0 - qq1\n",
        "      for m in range(mo):\n",
        "         for i in range(maxp+1):\n",
        "            ot[0][m][i] = onp[0][m][i] + onp[1][m][i]\n",
        "            ot[1][m][i] = onp[0][m][i] - onp[1][m][i]\n",
        "\n",
        "      op= np.zeros(shape=(2,3,2))\n",
        "      op1= np.zeros(2)\n",
        "      op2= np.zeros(2)\n",
        "\n",
        "      for i in range(maxp+1):\n",
        "         degi = (i + 1)*(i + 2)\n",
        "         fac = np.sqrt(degi)\n",
        "         for j in range(2):\n",
        "            for m in range(mo):\n",
        "               op[j][m][0] += ot[j][m][i]\n",
        "               otx = ot[j][m][i]*ot[j][m][i]*fac\n",
        "               op[j][m][1] += otx\n",
        "\n",
        "      for j in range(2):\n",
        "         for m in range(mo):\n",
        "            opxx = op[j][m][0]*op[j][m][0]\n",
        "            op[j][m][0] = opxx\n",
        "\n",
        "      for j in range(2):\n",
        "         for i in range(maxp+1):\n",
        "            degi = (i + 1)*(i + 2)\n",
        "            fac = np.sqrt(degi)\n",
        "            op1[j] += ot[j][0][i]/fac\n",
        "            op2[j] += ot[j][1][i]/fac\n",
        "\n",
        "      for j in range(2):\n",
        "         op[j][2][0] = op1[j]*op2[j]\n",
        "\n",
        "      k = -1\n",
        "      for l1 in range(2):\n",
        "         for m in range(3):\n",
        "            for j in range(2):\n",
        "               k += 2\n",
        "               fyd0[k - 1] = op[j][m][l1]\n",
        "\n",
        "      for jf in range(0,16+1,4):\n",
        "         fyd0[jf] += fyd0[jf + 2]\n",
        "         fyd0[jf + 2] = fyd0[jf] - 2.*fyd0[jf + 2]\n",
        "\n",
        "      fyda[0] = fyd0[0]/2\n",
        "      fyda[2] = fyd0[4]\n",
        "      fyda[4] = fyd0[6]\n",
        "      fyda[6] = fyd0[8]\n",
        "      fyda[8] = fyd0[12]\n",
        "      fyda[10] = fyd0[16]\n",
        "      fyda[12] = fyd0[18]\n",
        "      fyda[26] = -t*(t + 2)/s/4\n",
        "      fyda[28] = fyd0[28]\n",
        "      if (ndef == 0):\n",
        "         fyda[14] = s3\n",
        "         fyda[16] = qqm\n",
        "      else:\n",
        "         fyda[18] = s3\n",
        "         fyda[20] = qqp\n",
        "         fyda[22] = 16. - qqm\n",
        "         fyda[24] = qqm\n",
        "\n",
        "      for mss in range(0,30,2):\n",
        "         dyda[mss] = fyda[mss]/ra\n",
        "         dyda[mss+1] = -dyda[mss]/ra\n",
        "\n",
        "      #       !---------\n",
        "      z2 = nz*(nz - 1)\n",
        "      dyda[30] = (-z2 + 0.76*np.power(z2, 2./3.))/rc\t# ! !Coulomb\n",
        "      #       !---------\n",
        "      rxz = 1./ra\t# ! !Pairing\n",
        "      vxz = 1./v\n",
        "      txz = rxz*(t/v)\n",
        "      uxz = rxz - txz\n",
        "      for j in range(2):\n",
        "         dyda[31] += -rxz\n",
        "         if (sshell[j] == 2.): dyda[32] += vxz\n",
        "         #          !        !effet de couche en 1/A\n",
        "         if (nn[j]%2 == 0): dyda[31] += uxz\n",
        "\n",
        "      j = 1\t# ! !  Z>N\n",
        "      if (nn[0] >= nn[1]): j = 0\t# ! !  N>ou=Z\n",
        "      #       !k = 3 - j\n",
        "      if (nn[j]%2 == 0 and nn[1-j]%2 != 0): dyda[31] += -txz\n",
        "      #       !********\n",
        "      for mss in range(33):\n",
        "         dyda_table[ndef,mss] = dyda[mss]\n",
        "   return dyda_table\n",
        "\n",
        "\n",
        "#_______________________________________________________________________________\n",
        "def dz33 (nz, nx, b=b_fit_1, verbosity = 0, opfun = dz33_op):\n",
        "   ym=np.zeros(2)\n",
        "   #    !C*****************************************\n",
        "   #    !      data a/ 9.0914,   6.3355,   4.5791,  19.8946,   1.7325,   7.5247,\n",
        "   #    !     &       -7.1953, -39.9787,  -0.3976,   0.8131,  -0.7435,  -3.7291,\n",
        "   #    !     &       -0.1305,  -0.6387,   0.4534,   2.0605,   0.3449,   1.4727,\n",
        "   #    !     &       -1.0433,   0.0000,   5.2495,   0.0000, -32.1007,-151.1164,\n",
        "   #    !     &       -4.6103, -32.4238, -37.3226, -52.1673,   0.9597,   3.0024,\n",
        "   #    !     &        0.6977,   6.0390,  17.7960/\n",
        "   #    ! Data=1751 RMS= 0.330  (mars 95)\n",
        "   #    !FM+*   9.09 fm+*   6.34 FS+*   4.58 fs+*  19.89 FS-*   1.73 fs-*   7.52\n",
        "   #    !FC+*  -7.20 fc+* -39.98 PM+*  -0.40 pm+*   0.81 PS+*  -0.74 ps+*  -3.73\n",
        "   #    !PS-*  -0.13 ps-*  -0.64 S3 *   0.45 s3 *   2.06 SQ-*   0.34 sq-*   1.47\n",
        "   #    !QQ-*  -4.61 qq-* -32.42  TT* -37.32  tt* -52.17  SS*   0.96  ss*   3.00\n",
        "   #    ! C *   0.70 P0 *   6.04 P1 *  17.80\n",
        "   #    !                    ----------------------\n",
        "   #    ! 31 Coulomb\n",
        "   #    ! 32+33 Pairing\n",
        "   #    !\n",
        "   #    !******************\n",
        "   dyda_table= opfun (nz, nx)\n",
        "   for ndef in range(2):\n",
        "      for mss in range(33):\n",
        "         ym[ndef] += dyda_table[ndef,mss]*b[mss]\n",
        "\n",
        "   be = ym[0]\n",
        "   if (nz > 50 and ym[1] > ym[0]):\n",
        "      be = ym[1]\n",
        "      is_deformed=1\n",
        "   else:\n",
        "      is_deformed=0\n",
        "\n",
        "   if verbosity <= 0 : return be\n",
        "   if verbosity == 1 : return be, is_deformed\n",
        "   return be, is_deformed,dyda_table[is_deformed]"
      ],
      "metadata": {
        "id": "OP_SzJ1Ou0lN"
      },
      "execution_count": 517,
      "outputs": []
    },
    {
      "cell_type": "code",
      "source": [],
      "metadata": {
        "id": "ObTtgWe4K3VO"
      },
      "execution_count": 517,
      "outputs": []
    },
    {
      "cell_type": "markdown",
      "source": [],
      "metadata": {
        "id": "sYlPieepu17k"
      }
    },
    {
      "cell_type": "code",
      "source": [
        "dz33(51,51,b=b_28)"
      ],
      "metadata": {
        "colab": {
          "base_uri": "https://localhost:8080/"
        },
        "id": "katA6FYpvIjt",
        "outputId": "a70fdc38-7c5e-4c21-bfbe-c1e8e09b91f0"
      },
      "execution_count": 518,
      "outputs": [
        {
          "output_type": "execute_result",
          "data": {
            "text/plain": [
              "834.8959940157664"
            ]
          },
          "metadata": {},
          "execution_count": 518
        }
      ]
    },
    {
      "cell_type": "code",
      "source": [
        "dz33(51,51,b_fit_2)"
      ],
      "metadata": {
        "colab": {
          "base_uri": "https://localhost:8080/"
        },
        "id": "cCONRlmzhyE2",
        "outputId": "9da9af10-446b-41bf-de29-a191417f120e"
      },
      "execution_count": 519,
      "outputs": [
        {
          "output_type": "execute_result",
          "data": {
            "text/plain": [
              "834.196675824302"
            ]
          },
          "metadata": {},
          "execution_count": 519
        }
      ]
    },
    {
      "cell_type": "code",
      "source": [
        "dz33_op(51,51)[1] - dz33_op(51,51)[0]"
      ],
      "metadata": {
        "colab": {
          "base_uri": "https://localhost:8080/"
        },
        "id": "6LZFetCLxzL1",
        "outputId": "344da1de-ebde-49df-db65-d93cb4605288"
      },
      "execution_count": 520,
      "outputs": [
        {
          "output_type": "execute_result",
          "data": {
            "text/plain": [
              "array([ -1.33131895,   0.28493692,  21.25801719,  -4.54976917,\n",
              "        21.25801719,  -4.54976917,   1.47163189,  -0.31496754,\n",
              "        -9.14018546,   1.95623767,  46.92222362, -10.04257756,\n",
              "        46.92222362, -10.04257756,  12.44026338,  -2.66254027,\n",
              "        -0.80343368,   0.17195573,   1.66789822,  -0.35697364,\n",
              "         0.28804163,  -0.06164841,   3.13637495,  -0.6712659 ,\n",
              "         0.28804163,  -0.06164841,   0.        ,   0.        ,\n",
              "         1.56419136,  -0.33477768,   0.        ,   0.        ,\n",
              "         0.        ])"
            ]
          },
          "metadata": {},
          "execution_count": 520
        }
      ]
    },
    {
      "cell_type": "code",
      "source": [
        "dz33(84,132)"
      ],
      "metadata": {
        "colab": {
          "base_uri": "https://localhost:8080/"
        },
        "id": "bbYcykSJwJgN",
        "outputId": "91ab4472-8966-4ec8-bc4d-3364e34789fc"
      },
      "execution_count": 521,
      "outputs": [
        {
          "output_type": "execute_result",
          "data": {
            "text/plain": [
              "1675.981920245517"
            ]
          },
          "metadata": {},
          "execution_count": 521
        }
      ]
    },
    {
      "cell_type": "code",
      "source": [
        "def opp(Z,N):\n",
        "   be, is_pol, dy= dz33(Z,N, verbosity=2)\n",
        "   r = np.power(Z+N, 1./3.)\n",
        "   I= np.abs((N-Z)/(N+Z))\n",
        "\n",
        "   rc = r*(1. - 0.25*np.power(I, 2))\n",
        "   ra = (rc*rc)/r\n",
        "\n",
        "   return {'Z':Z, 'N':N, 'I':I, '31': dy[31]*ra, '32': dy[32]*(N+Z)}"
      ],
      "metadata": {
        "id": "ofbw7Y_u4BbF"
      },
      "execution_count": 522,
      "outputs": []
    },
    {
      "cell_type": "code",
      "source": [
        "opp(10,20)"
      ],
      "metadata": {
        "colab": {
          "base_uri": "https://localhost:8080/"
        },
        "id": "wrEGKjvi479V",
        "outputId": "a4538043-1012-4ed1-8014-9ce5167e6fa7"
      },
      "execution_count": 523,
      "outputs": [
        {
          "output_type": "execute_result",
          "data": {
            "text/plain": [
              "{'Z': 10,\n",
              " 'N': 20,\n",
              " 'I': 0.3333333333333333,\n",
              " '31': -0.6666666666666665,\n",
              " '32': 1.0}"
            ]
          },
          "metadata": {},
          "execution_count": 523
        }
      ]
    },
    {
      "cell_type": "code",
      "source": [
        "for z in range (0,51):\n",
        "    print(opp(z,10))"
      ],
      "metadata": {
        "colab": {
          "base_uri": "https://localhost:8080/"
        },
        "id": "_ZWey3OU5R82",
        "outputId": "bf3616fc-a520-4abb-8baf-05d13e646353"
      },
      "execution_count": 524,
      "outputs": [
        {
          "output_type": "stream",
          "name": "stdout",
          "text": [
            "{'Z': 0, 'N': 10, 'I': 1.0, '31': -2.0, '32': 0.0}\n",
            "{'Z': 1, 'N': 10, 'I': 0.8181818181818182, '31': -2.6363636363636362, '32': 0.0}\n",
            "{'Z': 2, 'N': 10, 'I': 0.6666666666666666, '31': -1.3333333333333335, '32': 0.0}\n",
            "{'Z': 3, 'N': 10, 'I': 0.5384615384615384, '31': -2.076923076923077, '32': 0.0}\n",
            "{'Z': 4, 'N': 10, 'I': 0.42857142857142855, '31': -0.8571428571428573, '32': 0.0}\n",
            "{'Z': 5, 'N': 10, 'I': 0.3333333333333333, '31': -1.6666666666666665, '32': 0.0}\n",
            "{'Z': 6, 'N': 10, 'I': 0.25, '31': -0.5000000000000001, '32': 0.0}\n",
            "{'Z': 7, 'N': 10, 'I': 0.17647058823529413, '31': -1.3529411764705883, '32': 1.0}\n",
            "{'Z': 8, 'N': 10, 'I': 0.1111111111111111, '31': -0.22222222222222235, '32': 1.0}\n",
            "{'Z': 9, 'N': 10, 'I': 0.05263157894736842, '31': -1.1052631578947367, '32': 0.0}\n",
            "{'Z': 10, 'N': 10, 'I': 0.0, '31': 0.0, '32': 0.0}\n",
            "{'Z': 11, 'N': 10, 'I': 0.047619047619047616, '31': -1.0476190476190477, '32': 0.0}\n",
            "{'Z': 12, 'N': 10, 'I': 0.09090909090909091, '31': -0.18181818181818185, '32': 0.0}\n",
            "{'Z': 13, 'N': 10, 'I': 0.13043478260869565, '31': -1.1304347826086958, '32': 0.0}\n",
            "{'Z': 14, 'N': 10, 'I': 0.16666666666666666, '31': -0.3333333333333332, '32': 0.0}\n",
            "{'Z': 15, 'N': 10, 'I': 0.2, '31': -1.2, '32': 1.0}\n",
            "{'Z': 16, 'N': 10, 'I': 0.23076923076923078, '31': -0.46153846153846156, '32': 1.0}\n",
            "{'Z': 17, 'N': 10, 'I': 0.25925925925925924, '31': -1.2592592592592593, '32': 1.0}\n",
            "{'Z': 18, 'N': 10, 'I': 0.2857142857142857, '31': -0.5714285714285713, '32': 1.0}\n",
            "{'Z': 19, 'N': 10, 'I': 0.3103448275862069, '31': -1.3103448275862069, '32': 1.0}\n",
            "{'Z': 20, 'N': 10, 'I': 0.3333333333333333, '31': -0.6666666666666665, '32': 1.0}\n",
            "{'Z': 21, 'N': 10, 'I': 0.3548387096774194, '31': -1.3548387096774193, '32': 0.0}\n",
            "{'Z': 22, 'N': 10, 'I': 0.375, '31': -0.7500000000000002, '32': 0.0}\n",
            "{'Z': 23, 'N': 10, 'I': 0.3939393939393939, '31': -1.3939393939393938, '32': 0.0}\n",
            "{'Z': 24, 'N': 10, 'I': 0.4117647058823529, '31': -0.8235294117647058, '32': 0.0}\n",
            "{'Z': 25, 'N': 10, 'I': 0.42857142857142855, '31': -1.4285714285714286, '32': 0.0}\n",
            "{'Z': 26, 'N': 10, 'I': 0.4444444444444444, '31': -0.8888888888888888, '32': 0.0}\n",
            "{'Z': 27, 'N': 10, 'I': 0.4594594594594595, '31': -1.4594594594594594, '32': 0.0}\n",
            "{'Z': 28, 'N': 10, 'I': 0.47368421052631576, '31': -0.9473684210526315, '32': 0.0}\n",
            "{'Z': 29, 'N': 10, 'I': 0.48717948717948717, '31': -1.4871794871794872, '32': 1.0}\n",
            "{'Z': 30, 'N': 10, 'I': 0.5, '31': -0.9999999999999999, '32': 1.0}\n",
            "{'Z': 31, 'N': 10, 'I': 0.5121951219512195, '31': -1.5121951219512193, '32': 1.0}\n",
            "{'Z': 32, 'N': 10, 'I': 0.5238095238095238, '31': -1.047619047619048, '32': 1.0}\n",
            "{'Z': 33, 'N': 10, 'I': 0.5348837209302325, '31': -1.5348837209302324, '32': 1.0}\n",
            "{'Z': 34, 'N': 10, 'I': 0.5454545454545454, '31': -1.090909090909091, '32': 1.0}\n",
            "{'Z': 35, 'N': 10, 'I': 0.5555555555555556, '31': -1.5555555555555556, '32': 1.0}\n",
            "{'Z': 36, 'N': 10, 'I': 0.5652173913043478, '31': -1.1304347826086958, '32': 1.0}\n",
            "{'Z': 37, 'N': 10, 'I': 0.574468085106383, '31': -1.574468085106383, '32': 1.0}\n",
            "{'Z': 38, 'N': 10, 'I': 0.5833333333333334, '31': -1.166666666666667, '32': 1.0}\n",
            "{'Z': 39, 'N': 10, 'I': 0.5918367346938775, '31': -1.5918367346938778, '32': 0.9999999999999999}\n",
            "{'Z': 40, 'N': 10, 'I': 0.6, '31': -1.2, '32': 1.0}\n",
            "{'Z': 41, 'N': 10, 'I': 0.6078431372549019, '31': -1.607843137254902, '32': 0.0}\n",
            "{'Z': 42, 'N': 10, 'I': 0.6153846153846154, '31': -1.2307692307692306, '32': 0.0}\n",
            "{'Z': 43, 'N': 10, 'I': 0.6226415094339622, '31': -1.6226415094339621, '32': 0.0}\n",
            "{'Z': 44, 'N': 10, 'I': 0.6296296296296297, '31': -1.2592592592592593, '32': 0.0}\n",
            "{'Z': 45, 'N': 10, 'I': 0.6363636363636364, '31': -1.6363636363636365, '32': 0.0}\n",
            "{'Z': 46, 'N': 10, 'I': 0.6428571428571429, '31': -1.2857142857142856, '32': 0.0}\n",
            "{'Z': 47, 'N': 10, 'I': 0.6491228070175439, '31': -1.649122807017544, '32': 0.0}\n",
            "{'Z': 48, 'N': 10, 'I': 0.6551724137931034, '31': -1.310344827586207, '32': 0.0}\n",
            "{'Z': 49, 'N': 10, 'I': 0.6610169491525424, '31': -1.6610169491525424, '32': 0.0}\n",
            "{'Z': 50, 'N': 10, 'I': 0.6666666666666666, '31': -1.333333333333333, '32': 0.0}\n"
          ]
        }
      ]
    },
    {
      "cell_type": "code",
      "source": [],
      "metadata": {
        "id": "zlz4ZI_zlMJ1"
      },
      "execution_count": 524,
      "outputs": []
    },
    {
      "cell_type": "code",
      "source": [
        "#if __name__== '__main__':\n",
        "#  main()"
      ],
      "metadata": {
        "id": "gVWus_ewoMjd"
      },
      "execution_count": 525,
      "outputs": []
    },
    {
      "cell_type": "code",
      "source": [
        "data2012 = pd.read_csv('https://raw.githubusercontent.com/tsp00/mass/master/ame2012.csv')"
      ],
      "metadata": {
        "id": "lUqxafA3zB2a"
      },
      "execution_count": 526,
      "outputs": []
    },
    {
      "cell_type": "code",
      "source": [
        "class AME:\n",
        "   def __init__(self, raw):\n",
        "      ##self.year = year\n",
        "      self.raw = raw\n",
        "      self.MEs= np.zeros(shape=(128,256))\n",
        "      self.dMEs= np.zeros(shape=(128,256))\n",
        "      self.BAs= np.zeros(shape=(128,256))\n",
        "      self.dBAs= np.zeros(shape=(128,256))\n",
        "      self.IsCalcs = np.full((128,256), 0)\n",
        "      self.HasAnys = np.full((128,256), False)\n",
        "      self.N1s= np.full(128, 0)\n",
        "      self.N2s= np.full(128, 0)\n",
        "      self.ZmaxValue= 0\n",
        "\n",
        "      for z in range (128):\n",
        "         self.N1s[z]= 999\n",
        "         self.N2s[z]= 0\n",
        "\n",
        "      self.ZNs=[]\n",
        "      for k in range(raw.shape[0]):\n",
        "         Z= raw['Z'][k]\n",
        "         N= raw['N'][k]\n",
        "         self.ZNs.append((Z,N))\n",
        "         A= Z+N\n",
        "         self.MEs[Z,N]= raw['MASSEXCESS'][k]/1000\n",
        "         self.dMEs[Z,N]= raw['dMASSEXCESS'][k]/1000\n",
        "         self.BAs[Z,N]= raw['BINDINGENERGY_A'][k]/1000\n",
        "         self.dBAs[Z,N]= raw['dBINDINGENERGY_A'][k]/1000\n",
        "         self.IsCalcs[Z,N]= raw['IsCalculated'][k]\n",
        "         self.HasAnys[Z,N]= True\n",
        "         if (N > self.N2s[Z]): self.N2s[Z]= N\n",
        "         if (N < self.N1s[Z]): self.N1s[Z]= N\n",
        "         if (Z > self.ZmaxValue): self.ZmaxValue = Z\n",
        "\n",
        "         BE20= (Z+N) * raw['BINDINGENERGY_A'][k]/1000\n",
        "         dBE20= (Z+N) * raw['dBINDINGENERGY_A'][k]/1000\n",
        "         self.IsCalcs[Z,N]= raw['IsCalculated'][k] == 1\n",
        "   def ME(self,Z,N): return self.MEs[Z,N]\n",
        "   def dME(self,Z,N): return self.sMEs[Z,N]\n",
        "   def BA(self,Z,N): return self.BAs[Z,N]\n",
        "   def dBA(self,Z,N): return self.dBAs[Z,N]\n",
        "   def BE(self,Z,N): return (Z+N)*self.BAs[Z,N]\n",
        "   def dBE(self,Z,N): return (Z+N)*self.dBAs[Z,N]\n",
        "   def IsCalculated(self,Z,N): return self.IsCalcs[Z,N]==1\n",
        "   def IsCalc(self,Z,N): return self.IsCalcs[Z,N]\n",
        "   def HasAny(self,Z,N): return self.HasAnys[Z,N]\n",
        "   def N1(self,Z): return self.N1s[Z]\n",
        "   def N2(self,Z): return self.N2s[Z]\n",
        "   def N1N2(self,Z): return self.N1s[Z], self.N2s[Z]\n",
        "   def Zmax(self): return self.ZmaxValue\n",
        "   def Size(self): return self.raw.shape[0]\n",
        "   def ZN(self,k): return self.ZNs[k]\n",
        "   def BEdata(self,k):\n",
        "      Z,N= self.ZNs[k]\n",
        "      return Z,N, (Z+N)*self.BAs[Z,N],(Z+N)*self.dBAs[Z,N], self.IsCalcs[Z,N]"
      ],
      "metadata": {
        "id": "bIZ6Bf3c4E3U"
      },
      "execution_count": 527,
      "outputs": []
    },
    {
      "cell_type": "code",
      "source": [
        "ame2012= AME(data2012)\n",
        "ame2012.BE(20,30)"
      ],
      "metadata": {
        "colab": {
          "base_uri": "https://localhost:8080/"
        },
        "id": "HWZrMz2c9-EE",
        "outputId": "c15008ce-8433-468c-cfee-deac11bcb0e1"
      },
      "execution_count": 528,
      "outputs": [
        {
          "output_type": "execute_result",
          "data": {
            "text/plain": [
              "427.50815000000006"
            ]
          },
          "metadata": {},
          "execution_count": 528
        }
      ]
    },
    {
      "cell_type": "code",
      "source": [
        "ame2012.HasAny(20,30)"
      ],
      "metadata": {
        "colab": {
          "base_uri": "https://localhost:8080/"
        },
        "id": "lwb1XCmM_eNk",
        "outputId": "6b66604c-2ae6-4182-f919-d1c14651f3cb"
      },
      "execution_count": 529,
      "outputs": [
        {
          "output_type": "execute_result",
          "data": {
            "text/plain": [
              "True"
            ]
          },
          "metadata": {},
          "execution_count": 529
        }
      ]
    },
    {
      "cell_type": "code",
      "source": [
        "ame2012.N1N2(20)"
      ],
      "metadata": {
        "colab": {
          "base_uri": "https://localhost:8080/"
        },
        "id": "uJakNLq-_lHz",
        "outputId": "1f2820e0-a0e1-4f9d-bc13-81f7c8c6b32d"
      },
      "execution_count": 530,
      "outputs": [
        {
          "output_type": "execute_result",
          "data": {
            "text/plain": [
              "(14, 38)"
            ]
          },
          "metadata": {},
          "execution_count": 530
        }
      ]
    },
    {
      "cell_type": "code",
      "source": [
        "ame2012.BEdata(100)"
      ],
      "metadata": {
        "colab": {
          "base_uri": "https://localhost:8080/"
        },
        "id": "kTqCNn0JCaot",
        "outputId": "dc94fcd5-da28-49f1-f14e-06d0540db5cf"
      },
      "execution_count": 531,
      "outputs": [
        {
          "output_type": "execute_result",
          "data": {
            "text/plain": [
              "(9, 11, 154.40268, 3.9999999999999996e-05, 0)"
            ]
          },
          "metadata": {},
          "execution_count": 531
        }
      ]
    },
    {
      "cell_type": "code",
      "source": [
        "data2012"
      ],
      "metadata": {
        "id": "hY180VyOQyy9",
        "outputId": "258b2911-6280-4bd6-f43c-a93e96c14345",
        "colab": {
          "base_uri": "https://localhost:8080/",
          "height": 423
        }
      },
      "execution_count": 532,
      "outputs": [
        {
          "output_type": "execute_result",
          "data": {
            "text/plain": [
              "        N    Z    A   EL    MASSEXCESS  dMASSEXCESS  BINDINGENERGY_A  \\\n",
              "0       1    0    1    n    8071.31714      0.00046            0.000   \n",
              "1       0    1    1    H    7288.97059      0.00009            0.000   \n",
              "2       1    1    2    H   13135.72174      0.00011         1112.283   \n",
              "3       2    1    3    H   14949.80611      0.00221         2827.266   \n",
              "4       1    2    3   He   14931.21551      0.00233         2572.681   \n",
              "...   ...  ...  ...  ...           ...          ...              ...   \n",
              "3348  176  117  293   Eh  193970.00000    828.00000         7097.000   \n",
              "3349  175  118  293   Ei  198932.00000    728.00000         7077.000   \n",
              "3350  177  117  294   Eh  196044.00000    687.00000         7093.000   \n",
              "3351  176  118  294   Ei  199266.00000    664.00000         7080.000   \n",
              "3352  177  118  295   Ei  201427.00000    644.00000         7076.000   \n",
              "\n",
              "      dBINDINGENERGY_A  IsCalculated  \n",
              "0                0.000             0  \n",
              "1                0.000             0  \n",
              "2                0.000             0  \n",
              "3                0.001             0  \n",
              "4                0.001             0  \n",
              "...                ...           ...  \n",
              "3348             3.000             1  \n",
              "3349             2.000             1  \n",
              "3350             2.000             1  \n",
              "3351             2.000             1  \n",
              "3352             2.000             1  \n",
              "\n",
              "[3353 rows x 9 columns]"
            ],
            "text/html": [
              "\n",
              "\n",
              "  <div id=\"df-de7175c5-739c-4a1b-a14e-01c4f96c462c\">\n",
              "    <div class=\"colab-df-container\">\n",
              "      <div>\n",
              "<style scoped>\n",
              "    .dataframe tbody tr th:only-of-type {\n",
              "        vertical-align: middle;\n",
              "    }\n",
              "\n",
              "    .dataframe tbody tr th {\n",
              "        vertical-align: top;\n",
              "    }\n",
              "\n",
              "    .dataframe thead th {\n",
              "        text-align: right;\n",
              "    }\n",
              "</style>\n",
              "<table border=\"1\" class=\"dataframe\">\n",
              "  <thead>\n",
              "    <tr style=\"text-align: right;\">\n",
              "      <th></th>\n",
              "      <th>N</th>\n",
              "      <th>Z</th>\n",
              "      <th>A</th>\n",
              "      <th>EL</th>\n",
              "      <th>MASSEXCESS</th>\n",
              "      <th>dMASSEXCESS</th>\n",
              "      <th>BINDINGENERGY_A</th>\n",
              "      <th>dBINDINGENERGY_A</th>\n",
              "      <th>IsCalculated</th>\n",
              "    </tr>\n",
              "  </thead>\n",
              "  <tbody>\n",
              "    <tr>\n",
              "      <th>0</th>\n",
              "      <td>1</td>\n",
              "      <td>0</td>\n",
              "      <td>1</td>\n",
              "      <td>n</td>\n",
              "      <td>8071.31714</td>\n",
              "      <td>0.00046</td>\n",
              "      <td>0.000</td>\n",
              "      <td>0.000</td>\n",
              "      <td>0</td>\n",
              "    </tr>\n",
              "    <tr>\n",
              "      <th>1</th>\n",
              "      <td>0</td>\n",
              "      <td>1</td>\n",
              "      <td>1</td>\n",
              "      <td>H</td>\n",
              "      <td>7288.97059</td>\n",
              "      <td>0.00009</td>\n",
              "      <td>0.000</td>\n",
              "      <td>0.000</td>\n",
              "      <td>0</td>\n",
              "    </tr>\n",
              "    <tr>\n",
              "      <th>2</th>\n",
              "      <td>1</td>\n",
              "      <td>1</td>\n",
              "      <td>2</td>\n",
              "      <td>H</td>\n",
              "      <td>13135.72174</td>\n",
              "      <td>0.00011</td>\n",
              "      <td>1112.283</td>\n",
              "      <td>0.000</td>\n",
              "      <td>0</td>\n",
              "    </tr>\n",
              "    <tr>\n",
              "      <th>3</th>\n",
              "      <td>2</td>\n",
              "      <td>1</td>\n",
              "      <td>3</td>\n",
              "      <td>H</td>\n",
              "      <td>14949.80611</td>\n",
              "      <td>0.00221</td>\n",
              "      <td>2827.266</td>\n",
              "      <td>0.001</td>\n",
              "      <td>0</td>\n",
              "    </tr>\n",
              "    <tr>\n",
              "      <th>4</th>\n",
              "      <td>1</td>\n",
              "      <td>2</td>\n",
              "      <td>3</td>\n",
              "      <td>He</td>\n",
              "      <td>14931.21551</td>\n",
              "      <td>0.00233</td>\n",
              "      <td>2572.681</td>\n",
              "      <td>0.001</td>\n",
              "      <td>0</td>\n",
              "    </tr>\n",
              "    <tr>\n",
              "      <th>...</th>\n",
              "      <td>...</td>\n",
              "      <td>...</td>\n",
              "      <td>...</td>\n",
              "      <td>...</td>\n",
              "      <td>...</td>\n",
              "      <td>...</td>\n",
              "      <td>...</td>\n",
              "      <td>...</td>\n",
              "      <td>...</td>\n",
              "    </tr>\n",
              "    <tr>\n",
              "      <th>3348</th>\n",
              "      <td>176</td>\n",
              "      <td>117</td>\n",
              "      <td>293</td>\n",
              "      <td>Eh</td>\n",
              "      <td>193970.00000</td>\n",
              "      <td>828.00000</td>\n",
              "      <td>7097.000</td>\n",
              "      <td>3.000</td>\n",
              "      <td>1</td>\n",
              "    </tr>\n",
              "    <tr>\n",
              "      <th>3349</th>\n",
              "      <td>175</td>\n",
              "      <td>118</td>\n",
              "      <td>293</td>\n",
              "      <td>Ei</td>\n",
              "      <td>198932.00000</td>\n",
              "      <td>728.00000</td>\n",
              "      <td>7077.000</td>\n",
              "      <td>2.000</td>\n",
              "      <td>1</td>\n",
              "    </tr>\n",
              "    <tr>\n",
              "      <th>3350</th>\n",
              "      <td>177</td>\n",
              "      <td>117</td>\n",
              "      <td>294</td>\n",
              "      <td>Eh</td>\n",
              "      <td>196044.00000</td>\n",
              "      <td>687.00000</td>\n",
              "      <td>7093.000</td>\n",
              "      <td>2.000</td>\n",
              "      <td>1</td>\n",
              "    </tr>\n",
              "    <tr>\n",
              "      <th>3351</th>\n",
              "      <td>176</td>\n",
              "      <td>118</td>\n",
              "      <td>294</td>\n",
              "      <td>Ei</td>\n",
              "      <td>199266.00000</td>\n",
              "      <td>664.00000</td>\n",
              "      <td>7080.000</td>\n",
              "      <td>2.000</td>\n",
              "      <td>1</td>\n",
              "    </tr>\n",
              "    <tr>\n",
              "      <th>3352</th>\n",
              "      <td>177</td>\n",
              "      <td>118</td>\n",
              "      <td>295</td>\n",
              "      <td>Ei</td>\n",
              "      <td>201427.00000</td>\n",
              "      <td>644.00000</td>\n",
              "      <td>7076.000</td>\n",
              "      <td>2.000</td>\n",
              "      <td>1</td>\n",
              "    </tr>\n",
              "  </tbody>\n",
              "</table>\n",
              "<p>3353 rows × 9 columns</p>\n",
              "</div>\n",
              "      <button class=\"colab-df-convert\" onclick=\"convertToInteractive('df-de7175c5-739c-4a1b-a14e-01c4f96c462c')\"\n",
              "              title=\"Convert this dataframe to an interactive table.\"\n",
              "              style=\"display:none;\">\n",
              "\n",
              "  <svg xmlns=\"http://www.w3.org/2000/svg\" height=\"24px\"viewBox=\"0 0 24 24\"\n",
              "       width=\"24px\">\n",
              "    <path d=\"M0 0h24v24H0V0z\" fill=\"none\"/>\n",
              "    <path d=\"M18.56 5.44l.94 2.06.94-2.06 2.06-.94-2.06-.94-.94-2.06-.94 2.06-2.06.94zm-11 1L8.5 8.5l.94-2.06 2.06-.94-2.06-.94L8.5 2.5l-.94 2.06-2.06.94zm10 10l.94 2.06.94-2.06 2.06-.94-2.06-.94-.94-2.06-.94 2.06-2.06.94z\"/><path d=\"M17.41 7.96l-1.37-1.37c-.4-.4-.92-.59-1.43-.59-.52 0-1.04.2-1.43.59L10.3 9.45l-7.72 7.72c-.78.78-.78 2.05 0 2.83L4 21.41c.39.39.9.59 1.41.59.51 0 1.02-.2 1.41-.59l7.78-7.78 2.81-2.81c.8-.78.8-2.07 0-2.86zM5.41 20L4 18.59l7.72-7.72 1.47 1.35L5.41 20z\"/>\n",
              "  </svg>\n",
              "      </button>\n",
              "\n",
              "\n",
              "\n",
              "    <div id=\"df-4221718a-d774-40c6-99d7-e3bb9d3ddc3f\">\n",
              "      <button class=\"colab-df-quickchart\" onclick=\"quickchart('df-4221718a-d774-40c6-99d7-e3bb9d3ddc3f')\"\n",
              "              title=\"Suggest charts.\"\n",
              "              style=\"display:none;\">\n",
              "\n",
              "<svg xmlns=\"http://www.w3.org/2000/svg\" height=\"24px\"viewBox=\"0 0 24 24\"\n",
              "     width=\"24px\">\n",
              "    <g>\n",
              "        <path d=\"M19 3H5c-1.1 0-2 .9-2 2v14c0 1.1.9 2 2 2h14c1.1 0 2-.9 2-2V5c0-1.1-.9-2-2-2zM9 17H7v-7h2v7zm4 0h-2V7h2v10zm4 0h-2v-4h2v4z\"/>\n",
              "    </g>\n",
              "</svg>\n",
              "      </button>\n",
              "    </div>\n",
              "\n",
              "<style>\n",
              "  .colab-df-quickchart {\n",
              "    background-color: #E8F0FE;\n",
              "    border: none;\n",
              "    border-radius: 50%;\n",
              "    cursor: pointer;\n",
              "    display: none;\n",
              "    fill: #1967D2;\n",
              "    height: 32px;\n",
              "    padding: 0 0 0 0;\n",
              "    width: 32px;\n",
              "  }\n",
              "\n",
              "  .colab-df-quickchart:hover {\n",
              "    background-color: #E2EBFA;\n",
              "    box-shadow: 0px 1px 2px rgba(60, 64, 67, 0.3), 0px 1px 3px 1px rgba(60, 64, 67, 0.15);\n",
              "    fill: #174EA6;\n",
              "  }\n",
              "\n",
              "  [theme=dark] .colab-df-quickchart {\n",
              "    background-color: #3B4455;\n",
              "    fill: #D2E3FC;\n",
              "  }\n",
              "\n",
              "  [theme=dark] .colab-df-quickchart:hover {\n",
              "    background-color: #434B5C;\n",
              "    box-shadow: 0px 1px 3px 1px rgba(0, 0, 0, 0.15);\n",
              "    filter: drop-shadow(0px 1px 2px rgba(0, 0, 0, 0.3));\n",
              "    fill: #FFFFFF;\n",
              "  }\n",
              "</style>\n",
              "\n",
              "    <script>\n",
              "      async function quickchart(key) {\n",
              "        const containerElement = document.querySelector('#' + key);\n",
              "        const charts = await google.colab.kernel.invokeFunction(\n",
              "            'suggestCharts', [key], {});\n",
              "      }\n",
              "    </script>\n",
              "\n",
              "      <script>\n",
              "\n",
              "function displayQuickchartButton(domScope) {\n",
              "  let quickchartButtonEl =\n",
              "    domScope.querySelector('#df-4221718a-d774-40c6-99d7-e3bb9d3ddc3f button.colab-df-quickchart');\n",
              "  quickchartButtonEl.style.display =\n",
              "    google.colab.kernel.accessAllowed ? 'block' : 'none';\n",
              "}\n",
              "\n",
              "        displayQuickchartButton(document);\n",
              "      </script>\n",
              "      <style>\n",
              "    .colab-df-container {\n",
              "      display:flex;\n",
              "      flex-wrap:wrap;\n",
              "      gap: 12px;\n",
              "    }\n",
              "\n",
              "    .colab-df-convert {\n",
              "      background-color: #E8F0FE;\n",
              "      border: none;\n",
              "      border-radius: 50%;\n",
              "      cursor: pointer;\n",
              "      display: none;\n",
              "      fill: #1967D2;\n",
              "      height: 32px;\n",
              "      padding: 0 0 0 0;\n",
              "      width: 32px;\n",
              "    }\n",
              "\n",
              "    .colab-df-convert:hover {\n",
              "      background-color: #E2EBFA;\n",
              "      box-shadow: 0px 1px 2px rgba(60, 64, 67, 0.3), 0px 1px 3px 1px rgba(60, 64, 67, 0.15);\n",
              "      fill: #174EA6;\n",
              "    }\n",
              "\n",
              "    [theme=dark] .colab-df-convert {\n",
              "      background-color: #3B4455;\n",
              "      fill: #D2E3FC;\n",
              "    }\n",
              "\n",
              "    [theme=dark] .colab-df-convert:hover {\n",
              "      background-color: #434B5C;\n",
              "      box-shadow: 0px 1px 3px 1px rgba(0, 0, 0, 0.15);\n",
              "      filter: drop-shadow(0px 1px 2px rgba(0, 0, 0, 0.3));\n",
              "      fill: #FFFFFF;\n",
              "    }\n",
              "  </style>\n",
              "\n",
              "      <script>\n",
              "        const buttonEl =\n",
              "          document.querySelector('#df-de7175c5-739c-4a1b-a14e-01c4f96c462c button.colab-df-convert');\n",
              "        buttonEl.style.display =\n",
              "          google.colab.kernel.accessAllowed ? 'block' : 'none';\n",
              "\n",
              "        async function convertToInteractive(key) {\n",
              "          const element = document.querySelector('#df-de7175c5-739c-4a1b-a14e-01c4f96c462c');\n",
              "          const dataTable =\n",
              "            await google.colab.kernel.invokeFunction('convertToInteractive',\n",
              "                                                     [key], {});\n",
              "          if (!dataTable) return;\n",
              "\n",
              "          const docLinkHtml = 'Like what you see? Visit the ' +\n",
              "            '<a target=\"_blank\" href=https://colab.research.google.com/notebooks/data_table.ipynb>data table notebook</a>'\n",
              "            + ' to learn more about interactive tables.';\n",
              "          element.innerHTML = '';\n",
              "          dataTable['output_type'] = 'display_data';\n",
              "          await google.colab.output.renderOutput(dataTable, element);\n",
              "          const docLink = document.createElement('div');\n",
              "          docLink.innerHTML = docLinkHtml;\n",
              "          element.appendChild(docLink);\n",
              "        }\n",
              "      </script>\n",
              "    </div>\n",
              "  </div>\n"
            ]
          },
          "metadata": {},
          "execution_count": 532
        }
      ]
    },
    {
      "cell_type": "code",
      "source": [
        "data2012.info()"
      ],
      "metadata": {
        "colab": {
          "base_uri": "https://localhost:8080/"
        },
        "id": "31pv0sgzPp8d",
        "outputId": "17363075-3156-4121-b979-509bf0c34b28"
      },
      "execution_count": 533,
      "outputs": [
        {
          "output_type": "stream",
          "name": "stdout",
          "text": [
            "<class 'pandas.core.frame.DataFrame'>\n",
            "RangeIndex: 3353 entries, 0 to 3352\n",
            "Data columns (total 9 columns):\n",
            " #   Column            Non-Null Count  Dtype  \n",
            "---  ------            --------------  -----  \n",
            " 0   N                 3353 non-null   int64  \n",
            " 1   Z                 3353 non-null   int64  \n",
            " 2   A                 3353 non-null   int64  \n",
            " 3   EL                3353 non-null   object \n",
            " 4   MASSEXCESS        3353 non-null   float64\n",
            " 5   dMASSEXCESS       3353 non-null   float64\n",
            " 6   BINDINGENERGY_A   3353 non-null   float64\n",
            " 7   dBINDINGENERGY_A  3353 non-null   float64\n",
            " 8   IsCalculated      3353 non-null   int64  \n",
            "dtypes: float64(4), int64(4), object(1)\n",
            "memory usage: 235.9+ KB\n"
          ]
        }
      ]
    },
    {
      "cell_type": "code",
      "source": [
        "def dame(ame=ame2012, model=dz10, b= b10_def):\n",
        "   tmp=[]\n",
        "   for k in range(ame.Size()):\n",
        "      Z,N,BE,dBE,IsCalc = ame.BEdata(k)\n",
        "      theory= model(Z,N,b)\n",
        "      res= (Z,N, theory-BE, dBE, IsCalc, theory, BE)\n",
        "      tmp.append(res)\n",
        "   return tmp"
      ],
      "metadata": {
        "id": "KajJwSN2Dizd"
      },
      "execution_count": 534,
      "outputs": []
    },
    {
      "cell_type": "code",
      "source": [
        "ame2012.Size()"
      ],
      "metadata": {
        "colab": {
          "base_uri": "https://localhost:8080/"
        },
        "id": "1__FgcWbE780",
        "outputId": "02ca4dcb-c2be-409a-bf62-7e5c6df70fdc"
      },
      "execution_count": 535,
      "outputs": [
        {
          "output_type": "execute_result",
          "data": {
            "text/plain": [
              "3353"
            ]
          },
          "metadata": {},
          "execution_count": 535
        }
      ]
    },
    {
      "cell_type": "code",
      "source": [
        "m10=dame()"
      ],
      "metadata": {
        "id": "LUctQOJAEsx9"
      },
      "execution_count": 536,
      "outputs": []
    },
    {
      "cell_type": "code",
      "source": [
        "def weight0(Z,N,dBE=0, isCalc=0):\n",
        "  #if Z>=20 and N>20 and dBE <= 0.100 and isCalc==0: return 1\n",
        "  if Z>=6 and N+Z>=12 and dBE <= 0.100: return 1\n",
        "  return 0\n",
        "\n",
        "def weight1(Z,N,dBE=0, isCalc=0):\n",
        "  if Z>=20 and N>20: return 1/(0.100*0.100 + (1+isCalc)*dBE*dBE)\n",
        "  return 0\n",
        "\n",
        "def weight2(Z,N,dBE=0, isCalc=0):\n",
        "  if Z>=20 and N>20: return 1/(0.100*0.100 + (1+3*isCalc)*dBE*dBE)\n",
        "  return 0"
      ],
      "metadata": {
        "id": "dXQZaNU8ktyz"
      },
      "execution_count": 537,
      "outputs": []
    },
    {
      "cell_type": "code",
      "source": [
        "def eval_sigma(lst, weight= weight0):\n",
        "   y2=0\n",
        "   denorm =0\n",
        "   ncount=0\n",
        "   for k in range(len(lst)):\n",
        "      Z, N, err, tol, iscalc, be, be_data =lst[k]\n",
        "      w=weight(Z,N,tol, iscalc)\n",
        "      y2 += w * err * err\n",
        "      denorm += w\n",
        "      if w > 0 : ncount += 1\n",
        "   return np.sqrt(y2/denorm), np.sqrt(ncount/denorm), ncount, len(lst)"
      ],
      "metadata": {
        "id": "VtJ8gbTYlJRT"
      },
      "execution_count": 538,
      "outputs": []
    },
    {
      "cell_type": "code",
      "source": [
        "eval_sigma(m10)"
      ],
      "metadata": {
        "colab": {
          "base_uri": "https://localhost:8080/"
        },
        "id": "admZWCwezXOC",
        "outputId": "83374b65-03cb-47d7-f69e-7aa7a106b29e"
      },
      "execution_count": 539,
      "outputs": [
        {
          "output_type": "execute_result",
          "data": {
            "text/plain": [
              "(0.5712570423361005, 1.0, 2319, 3353)"
            ]
          },
          "metadata": {},
          "execution_count": 539
        }
      ]
    },
    {
      "cell_type": "code",
      "source": [
        "eval_sigma(m10)"
      ],
      "metadata": {
        "colab": {
          "base_uri": "https://localhost:8080/"
        },
        "id": "CBJtjx80nigc",
        "outputId": "c2268b55-61d2-45c9-bea6-1d208811ab2b"
      },
      "execution_count": 540,
      "outputs": [
        {
          "output_type": "execute_result",
          "data": {
            "text/plain": [
              "(0.5712570423361005, 1.0, 2319, 3353)"
            ]
          },
          "metadata": {},
          "execution_count": 540
        }
      ]
    },
    {
      "cell_type": "code",
      "source": [
        "eval_sigma(m10,weight1)"
      ],
      "metadata": {
        "colab": {
          "base_uri": "https://localhost:8080/"
        },
        "id": "AOkNAdnenlpU",
        "outputId": "44fc9f9d-b202-4ff5-b498-3fe369f7a254"
      },
      "execution_count": 541,
      "outputs": [
        {
          "output_type": "execute_result",
          "data": {
            "text/plain": [
              "(0.5803640554165157, 0.11892672767914904, 2971, 3353)"
            ]
          },
          "metadata": {},
          "execution_count": 541
        }
      ]
    },
    {
      "cell_type": "code",
      "source": [
        "eval_sigma(m10,weight2)"
      ],
      "metadata": {
        "colab": {
          "base_uri": "https://localhost:8080/"
        },
        "id": "sh8I1pjxoG9z",
        "outputId": "57da81df-6612-4a6b-de9c-f01702cb9768"
      },
      "execution_count": 542,
      "outputs": [
        {
          "output_type": "execute_result",
          "data": {
            "text/plain": [
              "(0.565763660964234, 0.11949856257949182, 2971, 3353)"
            ]
          },
          "metadata": {},
          "execution_count": 542
        }
      ]
    },
    {
      "cell_type": "code",
      "source": [
        "m33=dame(model=dz33, b=b_fit_1)"
      ],
      "metadata": {
        "id": "onPMAkMMFRYs"
      },
      "execution_count": 543,
      "outputs": []
    },
    {
      "cell_type": "code",
      "source": [
        "eval_sigma(m33,weight0)"
      ],
      "metadata": {
        "colab": {
          "base_uri": "https://localhost:8080/"
        },
        "id": "GAKeSzuMX1z8",
        "outputId": "3d493bb2-42c8-434d-edc9-b3d7dc7395f0"
      },
      "execution_count": 544,
      "outputs": [
        {
          "output_type": "execute_result",
          "data": {
            "text/plain": [
              "(0.38519874057860265, 1.0, 2319, 3353)"
            ]
          },
          "metadata": {},
          "execution_count": 544
        }
      ]
    },
    {
      "cell_type": "code",
      "source": [
        "eval_sigma(m33,weight1)"
      ],
      "metadata": {
        "colab": {
          "base_uri": "https://localhost:8080/"
        },
        "id": "8H0sYf8zYE50",
        "outputId": "9ed89e98-6c50-43e5-a5fa-957b69994f57"
      },
      "execution_count": 545,
      "outputs": [
        {
          "output_type": "execute_result",
          "data": {
            "text/plain": [
              "(0.3743922937080574, 0.11892672767914904, 2971, 3353)"
            ]
          },
          "metadata": {},
          "execution_count": 545
        }
      ]
    },
    {
      "cell_type": "code",
      "source": [
        "eval_sigma(m33,weight2)"
      ],
      "metadata": {
        "colab": {
          "base_uri": "https://localhost:8080/"
        },
        "id": "2yYrXJtpWLF1",
        "outputId": "9e1590f8-9588-437f-94ce-c85556b9accc"
      },
      "execution_count": 546,
      "outputs": [
        {
          "output_type": "execute_result",
          "data": {
            "text/plain": [
              "(0.3630309334197799, 0.11949856257949182, 2971, 3353)"
            ]
          },
          "metadata": {},
          "execution_count": 546
        }
      ]
    },
    {
      "cell_type": "code",
      "source": [
        "#dd(981,dz33)"
      ],
      "metadata": {
        "id": "hRy8WFspWM4f"
      },
      "execution_count": 547,
      "outputs": []
    },
    {
      "cell_type": "code",
      "source": [
        "dz33(21,33)"
      ],
      "metadata": {
        "colab": {
          "base_uri": "https://localhost:8080/"
        },
        "id": "Mo-Y3NO8WOvO",
        "outputId": "760dc750-bbed-4b76-c52a-0539e821c09e"
      },
      "execution_count": 548,
      "outputs": [
        {
          "output_type": "execute_result",
          "data": {
            "text/plain": [
              "451.7344323930868"
            ]
          },
          "metadata": {},
          "execution_count": 548
        }
      ]
    },
    {
      "cell_type": "code",
      "source": [
        "dz10(21,33)"
      ],
      "metadata": {
        "colab": {
          "base_uri": "https://localhost:8080/"
        },
        "id": "jX0g031AWiDG",
        "outputId": "dd033c3f-fcea-4765-8916-d2e42a540981"
      },
      "execution_count": 549,
      "outputs": [
        {
          "output_type": "execute_result",
          "data": {
            "text/plain": [
              "452.02928153844067"
            ]
          },
          "metadata": {},
          "execution_count": 549
        }
      ]
    },
    {
      "cell_type": "code",
      "source": [
        "dz33_op(30,40)"
      ],
      "metadata": {
        "colab": {
          "base_uri": "https://localhost:8080/"
        },
        "id": "-6oc3T6wYkhf",
        "outputId": "44b36481-c054-492f-c7d5-9b45f16a26e3"
      },
      "execution_count": 550,
      "outputs": [
        {
          "output_type": "execute_result",
          "data": {
            "text/plain": [
              "array([[ 5.65548216e+01, -1.38637231e+01,  3.06422219e+00,\n",
              "        -7.51156609e-01,  0.00000000e+00, -0.00000000e+00,\n",
              "         9.59253276e-01, -2.35149214e-01,  1.12759733e+02,\n",
              "        -2.76416701e+01,  1.37036182e+01, -3.35927448e+00,\n",
              "         0.00000000e+00, -0.00000000e+00, -5.34846055e+00,\n",
              "         1.31110972e+00,  9.72447372e+00, -2.38383585e+00,\n",
              "         0.00000000e+00, -0.00000000e+00,  0.00000000e+00,\n",
              "        -0.00000000e+00,  0.00000000e+00, -0.00000000e+00,\n",
              "         0.00000000e+00, -0.00000000e+00, -4.32978304e-01,\n",
              "         1.06139338e-01,  3.13047762e+00, -7.67398319e-01,\n",
              "        -1.95289722e+02, -7.00393643e-02,  2.85714286e-02],\n",
              "       [ 5.65548216e+01, -1.38637231e+01,  3.06422219e+00,\n",
              "        -7.51156609e-01,  0.00000000e+00, -0.00000000e+00,\n",
              "         9.59253276e-01, -2.35149214e-01,  1.12759733e+02,\n",
              "        -2.76416701e+01,  1.37036182e+01, -3.35927448e+00,\n",
              "         0.00000000e+00, -0.00000000e+00,  0.00000000e+00,\n",
              "        -0.00000000e+00,  0.00000000e+00, -0.00000000e+00,\n",
              "        -2.43111843e-01,  5.95958963e-02,  7.36702555e-01,\n",
              "        -1.80593625e-01,  3.48018287e+00, -8.53124285e-01,\n",
              "         4.42021533e-01, -1.08356175e-01, -4.32978304e-01,\n",
              "         1.06139338e-01,  3.13047762e+00, -7.67398319e-01,\n",
              "        -1.95289722e+02, -7.00393643e-02,  2.85714286e-02]])"
            ]
          },
          "metadata": {},
          "execution_count": 550
        }
      ]
    },
    {
      "cell_type": "code",
      "source": [],
      "metadata": {
        "id": "w9Oq2YmpgNgQ"
      },
      "execution_count": 550,
      "outputs": []
    },
    {
      "cell_type": "code",
      "source": [
        "#_______________________________________________________________________________\n",
        "# dz33 operators\n",
        "def dz33_op2 (nz, nx):\n",
        "   dyda= np.zeros(33)\n",
        "   dyda_table= np.zeros(shape=(2,33))\n",
        "   #    !C*****************************************\n",
        "   #    !      data a/ 9.0914,   6.3355,   4.5791,  19.8946,   1.7325,   7.5247,\n",
        "   #    !     &       -7.1953, -39.9787,  -0.3976,   0.8131,  -0.7435,  -3.7291,\n",
        "   #    !     &       -0.1305,  -0.6387,   0.4534,   2.0605,   0.3449,   1.4727,\n",
        "   #    !     &       -1.0433,   0.0000,   5.2495,   0.0000, -32.1007,-151.1164,\n",
        "   #    !     &       -4.6103, -32.4238, -37.3226, -52.1673,   0.9597,   3.0024,\n",
        "   #    !     &        0.6977,   6.0390,  17.7960/\n",
        "   #    ! Data=1751 RMS= 0.330  (mars 95)\n",
        "   #    !FM+*   9.09 fm+*   6.34 FS+*   4.58 fs+*  19.89 FS-*   1.73 fs-*   7.52\n",
        "   #    !FC+*  -7.20 fc+* -39.98 PM+*  -0.40 pm+*   0.81 PS+*  -0.74 ps+*  -3.73\n",
        "   #    !PS-*  -0.13 ps-*  -0.64 S3 *   0.45 s3 *   2.06 SQ-*   0.34 sq-*   1.47\n",
        "   #    !D3 *  -1.04 d3     0.00 QQ+*   5.25 qq+    0.00  D0* -32.10  d0*-151.12\n",
        "   #    !QQ-*  -4.61 qq-* -32.42  TT* -37.32  tt* -52.17  SS*   0.96  ss*   3.00\n",
        "   #    ! C *   0.70 P0 *   6.04 P1 *  17.80\n",
        "   #    !                    ----------------------\n",
        "   #    ! 31 Coulomb\n",
        "   #    ! 32+33 Pairing\n",
        "   #    !\n",
        "   imax = 18\n",
        "   #mo = 2\n",
        "   maxp = 8\n",
        "   nn= np.array([nx,nz])\n",
        "   v = nx + nz\n",
        "   t = np.abs(nx-nz)\n",
        "   r = np.power(v, 1./3.)\n",
        "   #s = r*r\n",
        "   rc = r*(1. - 0.25*np.power(t/v, 2))\n",
        "   ra = (rc*rc)/r\n",
        "   #    !******************\n",
        "   for ndef in range(2): # ndef= 0->SPH# 1->DEF#\n",
        "      jup= np.zeros(2)\n",
        "      jud= np.zeros(2)\n",
        "      #       !-----------\n",
        "      ju= 4 if (ndef == 1 and nz > 50) else 0\n",
        "      fyda= np.zeros(33)\n",
        "      dyda= np.zeros(33)\n",
        "      ss=0\n",
        "\n",
        "      noc= np.zeros(shape=(2,imax))\n",
        "      n_onp= np.zeros(shape=(2,maxp+1))\n",
        "      s_onp= np.zeros(shape=(2,maxp+1))\n",
        "      n_ot= np.zeros(shape=(2,maxp+1))\n",
        "      s_ot= np.zeros(shape=(2,maxp+1))\n",
        "\n",
        "      oei= np.zeros(2)\n",
        "      dei= np.zeros(2)\n",
        "      sshell= np.zeros(2)\n",
        "\n",
        "      for j in range(2):\n",
        "         ncum = 0\n",
        "         for i in range(999+1):\n",
        "            #i = i1 + 1\n",
        "            ie = i\n",
        "            if (i%2 == 0):\n",
        "               id = i + 2\n",
        "               if (ncum < nn[j]): sshell[j] = 1\t# ! !sscouche  J\n",
        "            else:\n",
        "               id = (i+1)*(i - 1)/4\n",
        "               if (ncum < nn[j]): sshell[j] = 2\t# ! ! SSC R\n",
        "\n",
        "            ncum += id\n",
        "            if (ncum > nn[j]): break\n",
        "            noc[j][i] = id\n",
        "\n",
        "         i = ie\n",
        "         ip = i//2\t# ! !N0 couche HO\n",
        "         moc = nn[j] - ncum + id\n",
        "         if ((ndef == 1) and (i%2 == 0)):\n",
        "            jup[j] = 0\n",
        "            jud[j] = max(0, ju-moc)\n",
        "         else:\n",
        "            #jup[j] = min(ju, moc)\n",
        "            jup[j] = ju\n",
        "            jud[j] = 0\n",
        "\n",
        "         noc[j][i] = moc - jup[j] + jud[j]\n",
        "         noc[j][i+1] = jup[j]\n",
        "         noc[j][i - 1] -= jud[j]\n",
        "         oei[j] = moc + ip*(ip - 1) - ju if (i%2 == 0) else moc - ju\n",
        "         dei[j] = ip*(ip + 1) + 2        if (i%2 == 0) else (ip + 1)*(ip + 2) + 2\n",
        "\n",
        "         #          !C HERE,DEGENERACIES AND NUMBER OF ACTIVE PARTICLES  FOR  EI.\n",
        "         #ipl = 0\n",
        "         vmr = 0.\n",
        "         vmj = 0.\n",
        "         for ii in range(imax):\n",
        "            onps = 0.\n",
        "            ip = (ii)//2\n",
        "            #degi = (ip + 1)*(ip + 2)\n",
        "            fac = 1./np.sqrt((ip + 1)*(ip + 2))\n",
        "            #if (ip != ipl): ipl= ipl+1\n",
        "            if (2*ip == ii):\n",
        "               vm2 = (0.5*ip)/(ip + 1)\n",
        "               degr = ip*(ip - 1)\n",
        "               if (ip > 2):\n",
        "                  vmr = (0.5*(ip - 1))/ip\n",
        "                  vmj = -1./ip\n",
        "                  onps = noc[j][ii]*vmr if (noc[j][ii] <= degr) else degr*vmr + (noc[j][ii] - degr)*vmj\n",
        "\n",
        "            if (2*ip != ii): vm2 = -1./(ip + 1)\t# ! !SSc. j\n",
        "            s_onp[j][ip] += noc[j][ii]*vm2\n",
        "            n_onp[j][ip] += noc[j][ii]*fac\n",
        "            ss += onps*(n_onp[j][ip] + s_onp[j][ip])\n",
        "\n",
        "      # ! !END OF LOOP OVER FLUIDS, j\n",
        "      alfa = 0 if (ndef == 1) else 0.5\n",
        "\n",
        "      facn = np.power(dei[0], alfa)\n",
        "      facz = np.power(dei[1], alfa)\n",
        "      qn = oei[0]*(dei[0] - oei[0])/dei[0]*facn/np.sqrt(dei[0])\n",
        "      qz = oei[1]*(dei[1] - oei[1])/dei[1]*facz/np.sqrt(dei[1])\n",
        "      s3 = qn*(2*oei[0] - dei[0])*facn/np.sqrt(dei[0]) + qz*(2*oei[1] - dei[1])*facz/np.sqrt(dei[1])\n",
        "      qqp = (qn + qz)*(qn + qz) + (qn - qz)*(qn - qz)\n",
        "      qqm = (qn + qz)*(qn + qz) - (qn - qz)*(qn - qz)\n",
        "\n",
        "      for i in range(maxp+1):\n",
        "            n_ot[0][i] = n_onp[0][i] + n_onp[1][i]\n",
        "            n_ot[1][i] = n_onp[0][i] - n_onp[1][i]\n",
        "            s_ot[0][i] = s_onp[0][i] + s_onp[1][i]\n",
        "            s_ot[1][i] = s_onp[0][i] - s_onp[1][i]\n",
        "\n",
        "      #op= np.zeros(shape=(2,3,2))\n",
        "      n_op= np.zeros(shape=(2))\n",
        "      n_op_sqr= np.zeros(shape=(2))\n",
        "      s_op= np.zeros(shape=(2))\n",
        "      s_op_sqr= np.zeros(shape=(2))\n",
        "      x_op= np.zeros(shape=(2))\n",
        "\n",
        "      for i in range(maxp+1):\n",
        "         fac = np.sqrt((i + 1)*(i + 2))\n",
        "         for j in range(2):\n",
        "               n_op[j] += n_ot[j][i]\n",
        "               n_op_sqr[j] += (n_ot[j][i]**2)*fac\n",
        "               s_op[j] += s_ot[j][i]\n",
        "               s_op_sqr[j] += (s_ot[j][i]**2)*fac\n",
        "\n",
        "      for j in range(2):\n",
        "         op1,op2=0,0\n",
        "         for i in range(maxp+1):\n",
        "            fac = np.sqrt((i + 1)*(i + 2))\n",
        "            op1 += n_ot[j][i]/fac\n",
        "            op2 += s_ot[j][i]/fac\n",
        "         x_op[j] = op1*op2\n",
        "\n",
        "      fyda[ 0] = (n_op[0]**2 + n_op[1]**2)/2\n",
        "      fyda[ 2] = s_op[0]**2 + s_op[1]**2\n",
        "      fyda[ 4] = s_op[0]**2 - s_op[1]**2\n",
        "      fyda[ 6] = x_op[0]    + x_op[1]\n",
        "      fyda [8] = n_op_sqr[0] + n_op_sqr[1]\n",
        "      fyda[10] = s_op_sqr[0] + s_op_sqr[1]\n",
        "      fyda[12] = s_op_sqr[0] - s_op_sqr[1]\n",
        "      fyda[26] = -t*(t + 2)/(4*r*r)\n",
        "      fyda[28] = ss\n",
        "      if (ndef == 0):\n",
        "         fyda[14] = s3\n",
        "         fyda[16] = qqm\n",
        "      else:\n",
        "         fyda[18] = s3\n",
        "         fyda[20] = qqp\n",
        "         fyda[22] = 16. - qqm\n",
        "         fyda[24] = qqm\n",
        "\n",
        "      for mss in range(0,30,2):\n",
        "         dyda[mss] = fyda[mss]/ra\n",
        "         dyda[mss+1] = -dyda[mss]/ra\n",
        "\n",
        "      #       !---------\n",
        "      z2 = nz*(nz - 1)\n",
        "      dyda[30] = (-z2 + 0.76*np.power(z2, 2./3.))/rc\t# ! !Coulomb\n",
        "      #       !---------\n",
        "      #rxz = 1/ra\t# ! !Pairing\n",
        "      for j in range(2):\n",
        "         dyda[31] += -1/ra\n",
        "         if (sshell[j] == 2.): dyda[32] += 1/v\n",
        "         #          !        !effet de couche en 1/A\n",
        "         if (nn[j]%2 == 0): dyda[31] += 1/ra - (t/v)/ra\n",
        "\n",
        "      j = 1\t# ! !  Z>N\n",
        "      if (nn[0] >= nn[1]): j = 0\t# ! !  N>ou=Z\n",
        "      if (nn[j]%2 == 0 and nn[1-j]%2 != 0): dyda[31] += -(t/v)/ra\n",
        "      #       !********\n",
        "      for mss in range(33):\n",
        "         dyda_table[ndef,mss] = dyda[mss]\n",
        "   return dyda_table\n"
      ],
      "metadata": {
        "id": "GXiUO6xDoNZc"
      },
      "execution_count": 551,
      "outputs": []
    },
    {
      "cell_type": "code",
      "source": [
        "dz33_op2(32,45) - dz33_op(32,45)"
      ],
      "metadata": {
        "colab": {
          "base_uri": "https://localhost:8080/"
        },
        "id": "OG_e8-BAoUv9",
        "outputId": "44b41537-263d-45b9-da31-ca7e6784c66c"
      },
      "execution_count": 552,
      "outputs": [
        {
          "output_type": "execute_result",
          "data": {
            "text/plain": [
              "array([[0., 0., 0., 0., 0., 0., 0., 0., 0., 0., 0., 0., 0., 0., 0., 0.,\n",
              "        0., 0., 0., 0., 0., 0., 0., 0., 0., 0., 0., 0., 0., 0., 0., 0.,\n",
              "        0.],\n",
              "       [0., 0., 0., 0., 0., 0., 0., 0., 0., 0., 0., 0., 0., 0., 0., 0.,\n",
              "        0., 0., 0., 0., 0., 0., 0., 0., 0., 0., 0., 0., 0., 0., 0., 0.,\n",
              "        0.]])"
            ]
          },
          "metadata": {},
          "execution_count": 552
        }
      ]
    },
    {
      "cell_type": "code",
      "source": [
        "def chop(expr, delta=10**-15):\n",
        "   return np.ma.masked_inside(expr, -delta, delta).filled(0)"
      ],
      "metadata": {
        "id": "8C3XGsIA0tv4"
      },
      "execution_count": 553,
      "outputs": []
    },
    {
      "cell_type": "code",
      "source": [
        "chop(dz33_op2(31,45) - dz33_op(31,45))"
      ],
      "metadata": {
        "id": "vIXA0_XloZ9Y",
        "colab": {
          "base_uri": "https://localhost:8080/"
        },
        "outputId": "d8641a96-a178-4e7a-dfdf-b0320722ca35"
      },
      "execution_count": 554,
      "outputs": [
        {
          "output_type": "execute_result",
          "data": {
            "text/plain": [
              "array([[0., 0., 0., 0., 0., 0., 0., 0., 0., 0., 0., 0., 0., 0., 0., 0.,\n",
              "        0., 0., 0., 0., 0., 0., 0., 0., 0., 0., 0., 0., 0., 0., 0., 0.,\n",
              "        0.],\n",
              "       [0., 0., 0., 0., 0., 0., 0., 0., 0., 0., 0., 0., 0., 0., 0., 0.,\n",
              "        0., 0., 0., 0., 0., 0., 0., 0., 0., 0., 0., 0., 0., 0., 0., 0.,\n",
              "        0.]])"
            ]
          },
          "metadata": {},
          "execution_count": 554
        }
      ]
    },
    {
      "cell_type": "code",
      "source": [
        "chop(dz33_op2(32,44) - dz33_op(32,44))"
      ],
      "metadata": {
        "colab": {
          "base_uri": "https://localhost:8080/"
        },
        "id": "NMHMYNl6nVc_",
        "outputId": "9c8f8815-1637-44b8-82b2-edd8a6746d6d"
      },
      "execution_count": 555,
      "outputs": [
        {
          "output_type": "execute_result",
          "data": {
            "text/plain": [
              "array([[0., 0., 0., 0., 0., 0., 0., 0., 0., 0., 0., 0., 0., 0., 0., 0.,\n",
              "        0., 0., 0., 0., 0., 0., 0., 0., 0., 0., 0., 0., 0., 0., 0., 0.,\n",
              "        0.],\n",
              "       [0., 0., 0., 0., 0., 0., 0., 0., 0., 0., 0., 0., 0., 0., 0., 0.,\n",
              "        0., 0., 0., 0., 0., 0., 0., 0., 0., 0., 0., 0., 0., 0., 0., 0.,\n",
              "        0.]])"
            ]
          },
          "metadata": {},
          "execution_count": 555
        }
      ]
    },
    {
      "cell_type": "code",
      "source": [
        "chop(dz33_op2(32,44))"
      ],
      "metadata": {
        "colab": {
          "base_uri": "https://localhost:8080/"
        },
        "id": "4AMBkIvunaZG",
        "outputId": "7d3eec77-d218-4631-c539-f80ccaff8919"
      },
      "execution_count": 556,
      "outputs": [
        {
          "output_type": "execute_result",
          "data": {
            "text/plain": [
              "array([[ 6.14910850e+01, -1.46995783e+01,  3.13636469e+00,\n",
              "        -7.49754836e-01,  3.05986799e+00, -7.31468132e-01,\n",
              "         1.34700786e+00, -3.22005175e-01,  1.16061010e+02,\n",
              "        -2.77446382e+01,  1.52564259e+01, -3.64708197e+00,\n",
              "         0.00000000e+00,  0.00000000e+00, -5.21568407e-01,\n",
              "         1.24682068e-01,  1.36556092e+01, -3.26440324e+00,\n",
              "         0.00000000e+00,  0.00000000e+00,  0.00000000e+00,\n",
              "         0.00000000e+00,  0.00000000e+00,  0.00000000e+00,\n",
              "         0.00000000e+00,  0.00000000e+00, -5.59585281e-01,\n",
              "         1.33770085e-01,  3.88835676e+00, -9.29520185e-01,\n",
              "        -2.17703441e+02, -7.54901641e-02,  1.31578947e-02],\n",
              "       [ 6.14910850e+01, -1.46995783e+01,  3.13636469e+00,\n",
              "        -7.49754836e-01,  3.05986799e+00, -7.31468132e-01,\n",
              "         1.34700786e+00, -3.22005175e-01,  1.16061010e+02,\n",
              "        -2.77446382e+01,  1.52564259e+01, -3.64708197e+00,\n",
              "         0.00000000e+00,  0.00000000e+00,  0.00000000e+00,\n",
              "         0.00000000e+00,  0.00000000e+00,  0.00000000e+00,\n",
              "        -2.37076549e-02,  5.66736673e-03,  6.46572405e-01,\n",
              "        -1.54564547e-01,  3.20412547e+00, -7.65953200e-01,\n",
              "         6.20709509e-01, -1.48381965e-01, -5.59585281e-01,\n",
              "         1.33770085e-01,  3.88835676e+00, -9.29520185e-01,\n",
              "        -2.17703441e+02, -7.54901641e-02,  1.31578947e-02]])"
            ]
          },
          "metadata": {},
          "execution_count": 556
        }
      ]
    },
    {
      "cell_type": "code",
      "source": [],
      "metadata": {
        "id": "AVNbbGb2niLk"
      },
      "execution_count": 556,
      "outputs": []
    },
    {
      "cell_type": "code",
      "source": [
        "class Boston_ANN(models.Model):\n",
        "  def __init__(self, Nin, Nh, Nout):\n",
        "    hidden=layers.Dense(Nh)\n",
        "    output= layers.Dense(Nout)\n",
        "    relu= layers.Activation('relu')\n",
        "\n",
        "    x= layers.Input(shape=(Nin,))\n",
        "    h= relu(hidden(x))\n",
        "    y= output(h)\n",
        "\n",
        "    super().__init__(x,y)\n",
        "    self.compile(loss='mse',optimizer='sgd')\n",
        "\n",
        "from keras import datasets\n",
        "from keras.datasets import boston_housing\n",
        "\n",
        "# 모델 학습 후 정보가 담긴 history 내용을 토대로 선 그래프를 그리는 함수 설정\n",
        "\n",
        "def plot_acc(history, title=None):        # Accuracy(정확도) Visualization\n",
        "    # summarize history for accuracy\n",
        "    if not isinstance(history, dict):\n",
        "        history = history.history\n",
        "\n",
        "    plt.plot(history['accuracy'])        # accuracy\n",
        "    plt.plot(history['val_accuracy'])    # validation accuracy\n",
        "    if title is not None:\n",
        "        plt.title(title)\n",
        "    plt.ylabel('Accracy')\n",
        "    plt.xlabel('Epoch')\n",
        "    plt.legend(['Training data', 'Validation data'], loc=0)\n",
        "    # plt.show()\n",
        "\n",
        "def plot_loss(history, title=None, yscale='linear'):     # Loss Visualization\n",
        "    # summarize history for loss\n",
        "    if not isinstance(history, dict):\n",
        "        history = history.history\n",
        "\n",
        "    plt.plot(history['loss'])           # loss\n",
        "    plt.plot(history['val_loss'])       # validation\n",
        "    if title is not None:\n",
        "        plt.title(title)\n",
        "    plt.ylabel('Loss')\n",
        "    plt.xlabel('Epoch')\n",
        "    plt.legend(['Training data', 'Validation data'], loc=0)\n",
        "    plt.yscale(yscale)\n",
        "    plt.show()\n",
        "\n",
        "#import matplotlib.pyplot as plt\n",
        "#from keras import plot_loss\n",
        "#from keraspp.skeras import plot_loss\n",
        "\n",
        "def boston_run(epochs=100, batch=1000, yscale='linear'):\n",
        "  Nin=13\n",
        "  Nh=5\n",
        "  Nout=1\n",
        "  model= Boston_ANN(Nin,Nh,Nout)\n",
        "  (X_train, y_train), (X_test, y_test)= boston_housing.load_data()\n",
        "  scaler= preprocessing.MinMaxScaler()\n",
        "  X_train= scaler.fit_transform(X_train)\n",
        "  X_test=scaler.transform(X_test)\n",
        "\n",
        "  history= model.fit(X_train, y_train, epochs=epochs, batch_size=batch, validation_split=0.2, verbose=2)\n",
        "  performance_test=model.evaluate(X_test, y_test, batch_size=batch)\n",
        "  print('Test Loss and Accuracy ->', performance_test)\n",
        "\n",
        "  plot_loss(history,yscale=yscale)\n",
        "  plt.show()\n",
        "\n",
        "  predictions=model.predict(X_test)\n",
        "  plt.plot(y_test)\n",
        "  plt.plot(predictions)\n",
        "  plt.title('prediction')\n",
        "  plt.xlabel('Y')\n",
        "  plt.xlabel('test')\n",
        "  plt.legend(['y_test','predictions'], loc=0)\n",
        "  plt.show()"
      ],
      "metadata": {
        "id": "EIcd72CVz8oT"
      },
      "execution_count": 557,
      "outputs": []
    },
    {
      "cell_type": "code",
      "source": [
        "boston_run(10,1000,'log')"
      ],
      "metadata": {
        "colab": {
          "base_uri": "https://localhost:8080/",
          "height": 1000
        },
        "id": "L-GFBry00CHv",
        "outputId": "f7c2e6a0-2728-46fc-b855-a638cc93dbbe"
      },
      "execution_count": 558,
      "outputs": [
        {
          "output_type": "stream",
          "name": "stdout",
          "text": [
            "Epoch 1/10\n",
            "1/1 - 2s - loss: 593.1862 - val_loss: 621.8831 - 2s/epoch - 2s/step\n",
            "Epoch 2/10\n",
            "1/1 - 0s - loss: 551.4058 - val_loss: 601.2348 - 89ms/epoch - 89ms/step\n",
            "Epoch 3/10\n",
            "1/1 - 0s - loss: 532.2382 - val_loss: 580.8110 - 241ms/epoch - 241ms/step\n",
            "Epoch 4/10\n",
            "1/1 - 0s - loss: 513.2125 - val_loss: 559.2671 - 79ms/epoch - 79ms/step\n",
            "Epoch 5/10\n",
            "1/1 - 0s - loss: 493.3069 - val_loss: 532.7054 - 115ms/epoch - 115ms/step\n",
            "Epoch 6/10\n",
            "1/1 - 0s - loss: 469.0995 - val_loss: 489.6421 - 150ms/epoch - 150ms/step\n",
            "Epoch 7/10\n",
            "1/1 - 0s - loss: 430.3098 - val_loss: 411.0323 - 158ms/epoch - 158ms/step\n",
            "Epoch 8/10\n",
            "1/1 - 0s - loss: 358.7771 - val_loss: 276.2342 - 90ms/epoch - 90ms/step\n",
            "Epoch 9/10\n",
            "1/1 - 0s - loss: 238.9688 - val_loss: 144.2107 - 93ms/epoch - 93ms/step\n",
            "Epoch 10/10\n",
            "1/1 - 0s - loss: 131.6740 - val_loss: 110.1380 - 164ms/epoch - 164ms/step\n",
            "1/1 [==============================] - 0s 71ms/step - loss: 115.8153\n",
            "Test Loss and Accuracy -> 115.81532287597656\n"
          ]
        },
        {
          "output_type": "display_data",
          "data": {
            "text/plain": [
              "<Figure size 640x480 with 1 Axes>"
            ],
            "image/png": "[encoded data removed]"
          },
          "metadata": {}
        },
        {
          "output_type": "stream",
          "name": "stdout",
          "text": [
            "4/4 [==============================] - 0s 7ms/step\n"
          ]
        },
        {
          "output_type": "display_data",
          "data": {
            "text/plain": [
              "<Figure size 640x480 with 1 Axes>"
            ],
            "image/png": "[encoded data removed]"
          },
          "metadata": {}
        }
      ]
    },
    {
      "cell_type": "code",
      "source": [
        "boston_housing.load_data()"
      ],
      "metadata": {
        "colab": {
          "base_uri": "https://localhost:8080/"
        },
        "id": "84rUc0z42QOE",
        "outputId": "f9098fe7-fed3-40d7-fd15-668cad32fc99"
      },
      "execution_count": 559,
      "outputs": [
        {
          "output_type": "execute_result",
          "data": {
            "text/plain": [
              "((array([[1.23247e+00, 0.00000e+00, 8.14000e+00, ..., 2.10000e+01,\n",
              "          3.96900e+02, 1.87200e+01],\n",
              "         [2.17700e-02, 8.25000e+01, 2.03000e+00, ..., 1.47000e+01,\n",
              "          3.95380e+02, 3.11000e+00],\n",
              "         [4.89822e+00, 0.00000e+00, 1.81000e+01, ..., 2.02000e+01,\n",
              "          3.75520e+02, 3.26000e+00],\n",
              "         ...,\n",
              "         [3.46600e-02, 3.50000e+01, 6.06000e+00, ..., 1.69000e+01,\n",
              "          3.62250e+02, 7.83000e+00],\n",
              "         [2.14918e+00, 0.00000e+00, 1.95800e+01, ..., 1.47000e+01,\n",
              "          2.61950e+02, 1.57900e+01],\n",
              "         [1.43900e-02, 6.00000e+01, 2.93000e+00, ..., 1.56000e+01,\n",
              "          3.76700e+02, 4.38000e+00]]),\n",
              "  array([15.2, 42.3, 50. , 21.1, 17.7, 18.5, 11.3, 15.6, 15.6, 14.4, 12.1,\n",
              "         17.9, 23.1, 19.9, 15.7,  8.8, 50. , 22.5, 24.1, 27.5, 10.9, 30.8,\n",
              "         32.9, 24. , 18.5, 13.3, 22.9, 34.7, 16.6, 17.5, 22.3, 16.1, 14.9,\n",
              "         23.1, 34.9, 25. , 13.9, 13.1, 20.4, 20. , 15.2, 24.7, 22.2, 16.7,\n",
              "         12.7, 15.6, 18.4, 21. , 30.1, 15.1, 18.7,  9.6, 31.5, 24.8, 19.1,\n",
              "         22. , 14.5, 11. , 32. , 29.4, 20.3, 24.4, 14.6, 19.5, 14.1, 14.3,\n",
              "         15.6, 10.5,  6.3, 19.3, 19.3, 13.4, 36.4, 17.8, 13.5, 16.5,  8.3,\n",
              "         14.3, 16. , 13.4, 28.6, 43.5, 20.2, 22. , 23. , 20.7, 12.5, 48.5,\n",
              "         14.6, 13.4, 23.7, 50. , 21.7, 39.8, 38.7, 22.2, 34.9, 22.5, 31.1,\n",
              "         28.7, 46. , 41.7, 21. , 26.6, 15. , 24.4, 13.3, 21.2, 11.7, 21.7,\n",
              "         19.4, 50. , 22.8, 19.7, 24.7, 36.2, 14.2, 18.9, 18.3, 20.6, 24.6,\n",
              "         18.2,  8.7, 44. , 10.4, 13.2, 21.2, 37. , 30.7, 22.9, 20. , 19.3,\n",
              "         31.7, 32. , 23.1, 18.8, 10.9, 50. , 19.6,  5. , 14.4, 19.8, 13.8,\n",
              "         19.6, 23.9, 24.5, 25. , 19.9, 17.2, 24.6, 13.5, 26.6, 21.4, 11.9,\n",
              "         22.6, 19.6,  8.5, 23.7, 23.1, 22.4, 20.5, 23.6, 18.4, 35.2, 23.1,\n",
              "         27.9, 20.6, 23.7, 28. , 13.6, 27.1, 23.6, 20.6, 18.2, 21.7, 17.1,\n",
              "          8.4, 25.3, 13.8, 22.2, 18.4, 20.7, 31.6, 30.5, 20.3,  8.8, 19.2,\n",
              "         19.4, 23.1, 23. , 14.8, 48.8, 22.6, 33.4, 21.1, 13.6, 32.2, 13.1,\n",
              "         23.4, 18.9, 23.9, 11.8, 23.3, 22.8, 19.6, 16.7, 13.4, 22.2, 20.4,\n",
              "         21.8, 26.4, 14.9, 24.1, 23.8, 12.3, 29.1, 21. , 19.5, 23.3, 23.8,\n",
              "         17.8, 11.5, 21.7, 19.9, 25. , 33.4, 28.5, 21.4, 24.3, 27.5, 33.1,\n",
              "         16.2, 23.3, 48.3, 22.9, 22.8, 13.1, 12.7, 22.6, 15. , 15.3, 10.5,\n",
              "         24. , 18.5, 21.7, 19.5, 33.2, 23.2,  5. , 19.1, 12.7, 22.3, 10.2,\n",
              "         13.9, 16.3, 17. , 20.1, 29.9, 17.2, 37.3, 45.4, 17.8, 23.2, 29. ,\n",
              "         22. , 18. , 17.4, 34.6, 20.1, 25. , 15.6, 24.8, 28.2, 21.2, 21.4,\n",
              "         23.8, 31. , 26.2, 17.4, 37.9, 17.5, 20. ,  8.3, 23.9,  8.4, 13.8,\n",
              "          7.2, 11.7, 17.1, 21.6, 50. , 16.1, 20.4, 20.6, 21.4, 20.6, 36.5,\n",
              "          8.5, 24.8, 10.8, 21.9, 17.3, 18.9, 36.2, 14.9, 18.2, 33.3, 21.8,\n",
              "         19.7, 31.6, 24.8, 19.4, 22.8,  7.5, 44.8, 16.8, 18.7, 50. , 50. ,\n",
              "         19.5, 20.1, 50. , 17.2, 20.8, 19.3, 41.3, 20.4, 20.5, 13.8, 16.5,\n",
              "         23.9, 20.6, 31.5, 23.3, 16.8, 14. , 33.8, 36.1, 12.8, 18.3, 18.7,\n",
              "         19.1, 29. , 30.1, 50. , 50. , 22. , 11.9, 37.6, 50. , 22.7, 20.8,\n",
              "         23.5, 27.9, 50. , 19.3, 23.9, 22.6, 15.2, 21.7, 19.2, 43.8, 20.3,\n",
              "         33.2, 19.9, 22.5, 32.7, 22. , 17.1, 19. , 15. , 16.1, 25.1, 23.7,\n",
              "         28.7, 37.2, 22.6, 16.4, 25. , 29.8, 22.1, 17.4, 18.1, 30.3, 17.5,\n",
              "         24.7, 12.6, 26.5, 28.7, 13.3, 10.4, 24.4, 23. , 20. , 17.8,  7. ,\n",
              "         11.8, 24.4, 13.8, 19.4, 25.2, 19.4, 19.4, 29.1])),\n",
              " (array([[1.80846e+01, 0.00000e+00, 1.81000e+01, ..., 2.02000e+01,\n",
              "          2.72500e+01, 2.90500e+01],\n",
              "         [1.23290e-01, 0.00000e+00, 1.00100e+01, ..., 1.78000e+01,\n",
              "          3.94950e+02, 1.62100e+01],\n",
              "         [5.49700e-02, 0.00000e+00, 5.19000e+00, ..., 2.02000e+01,\n",
              "          3.96900e+02, 9.74000e+00],\n",
              "         ...,\n",
              "         [1.83377e+00, 0.00000e+00, 1.95800e+01, ..., 1.47000e+01,\n",
              "          3.89610e+02, 1.92000e+00],\n",
              "         [3.58090e-01, 0.00000e+00, 6.20000e+00, ..., 1.74000e+01,\n",
              "          3.91700e+02, 9.71000e+00],\n",
              "         [2.92400e+00, 0.00000e+00, 1.95800e+01, ..., 1.47000e+01,\n",
              "          2.40160e+02, 9.81000e+00]]),\n",
              "  array([ 7.2, 18.8, 19. , 27. , 22.2, 24.5, 31.2, 22.9, 20.5, 23.2, 18.6,\n",
              "         14.5, 17.8, 50. , 20.8, 24.3, 24.2, 19.8, 19.1, 22.7, 12. , 10.2,\n",
              "         20. , 18.5, 20.9, 23. , 27.5, 30.1,  9.5, 22. , 21.2, 14.1, 33.1,\n",
              "         23.4, 20.1,  7.4, 15.4, 23.8, 20.1, 24.5, 33. , 28.4, 14.1, 46.7,\n",
              "         32.5, 29.6, 28.4, 19.8, 20.2, 25. , 35.4, 20.3,  9.7, 14.5, 34.9,\n",
              "         26.6,  7.2, 50. , 32.4, 21.6, 29.8, 13.1, 27.5, 21.2, 23.1, 21.9,\n",
              "         13. , 23.2,  8.1,  5.6, 21.7, 29.6, 19.6,  7. , 26.4, 18.9, 20.9,\n",
              "         28.1, 35.4, 10.2, 24.3, 43.1, 17.6, 15.4, 16.2, 27.1, 21.4, 21.5,\n",
              "         22.4, 25. , 16.6, 18.6, 22. , 42.8, 35.1, 21.5, 36. , 21.9, 24.1,\n",
              "         50. , 26.7, 25. ])))"
            ]
          },
          "metadata": {},
          "execution_count": 559
        }
      ]
    },
    {
      "cell_type": "code",
      "source": [
        "(X_1, y_1), (X_2, y_2)= boston_housing.load_data()"
      ],
      "metadata": {
        "id": "ZR7W1kD92TTD"
      },
      "execution_count": 560,
      "outputs": []
    },
    {
      "cell_type": "code",
      "source": [
        "X_1.shape"
      ],
      "metadata": {
        "colab": {
          "base_uri": "https://localhost:8080/"
        },
        "id": "3G8_YQv92iOz",
        "outputId": "0300bacd-32d8-4f87-b530-fa891dbcf2ee"
      },
      "execution_count": 561,
      "outputs": [
        {
          "output_type": "execute_result",
          "data": {
            "text/plain": [
              "(404, 13)"
            ]
          },
          "metadata": {},
          "execution_count": 561
        }
      ]
    },
    {
      "cell_type": "code",
      "source": [
        "y_1"
      ],
      "metadata": {
        "id": "0DArCB0N2i3K",
        "colab": {
          "base_uri": "https://localhost:8080/"
        },
        "outputId": "0606db61-b700-4724-bfd6-3ca0507613ba"
      },
      "execution_count": 562,
      "outputs": [
        {
          "output_type": "execute_result",
          "data": {
            "text/plain": [
              "array([15.2, 42.3, 50. , 21.1, 17.7, 18.5, 11.3, 15.6, 15.6, 14.4, 12.1,\n",
              "       17.9, 23.1, 19.9, 15.7,  8.8, 50. , 22.5, 24.1, 27.5, 10.9, 30.8,\n",
              "       32.9, 24. , 18.5, 13.3, 22.9, 34.7, 16.6, 17.5, 22.3, 16.1, 14.9,\n",
              "       23.1, 34.9, 25. , 13.9, 13.1, 20.4, 20. , 15.2, 24.7, 22.2, 16.7,\n",
              "       12.7, 15.6, 18.4, 21. , 30.1, 15.1, 18.7,  9.6, 31.5, 24.8, 19.1,\n",
              "       22. , 14.5, 11. , 32. , 29.4, 20.3, 24.4, 14.6, 19.5, 14.1, 14.3,\n",
              "       15.6, 10.5,  6.3, 19.3, 19.3, 13.4, 36.4, 17.8, 13.5, 16.5,  8.3,\n",
              "       14.3, 16. , 13.4, 28.6, 43.5, 20.2, 22. , 23. , 20.7, 12.5, 48.5,\n",
              "       14.6, 13.4, 23.7, 50. , 21.7, 39.8, 38.7, 22.2, 34.9, 22.5, 31.1,\n",
              "       28.7, 46. , 41.7, 21. , 26.6, 15. , 24.4, 13.3, 21.2, 11.7, 21.7,\n",
              "       19.4, 50. , 22.8, 19.7, 24.7, 36.2, 14.2, 18.9, 18.3, 20.6, 24.6,\n",
              "       18.2,  8.7, 44. , 10.4, 13.2, 21.2, 37. , 30.7, 22.9, 20. , 19.3,\n",
              "       31.7, 32. , 23.1, 18.8, 10.9, 50. , 19.6,  5. , 14.4, 19.8, 13.8,\n",
              "       19.6, 23.9, 24.5, 25. , 19.9, 17.2, 24.6, 13.5, 26.6, 21.4, 11.9,\n",
              "       22.6, 19.6,  8.5, 23.7, 23.1, 22.4, 20.5, 23.6, 18.4, 35.2, 23.1,\n",
              "       27.9, 20.6, 23.7, 28. , 13.6, 27.1, 23.6, 20.6, 18.2, 21.7, 17.1,\n",
              "        8.4, 25.3, 13.8, 22.2, 18.4, 20.7, 31.6, 30.5, 20.3,  8.8, 19.2,\n",
              "       19.4, 23.1, 23. , 14.8, 48.8, 22.6, 33.4, 21.1, 13.6, 32.2, 13.1,\n",
              "       23.4, 18.9, 23.9, 11.8, 23.3, 22.8, 19.6, 16.7, 13.4, 22.2, 20.4,\n",
              "       21.8, 26.4, 14.9, 24.1, 23.8, 12.3, 29.1, 21. , 19.5, 23.3, 23.8,\n",
              "       17.8, 11.5, 21.7, 19.9, 25. , 33.4, 28.5, 21.4, 24.3, 27.5, 33.1,\n",
              "       16.2, 23.3, 48.3, 22.9, 22.8, 13.1, 12.7, 22.6, 15. , 15.3, 10.5,\n",
              "       24. , 18.5, 21.7, 19.5, 33.2, 23.2,  5. , 19.1, 12.7, 22.3, 10.2,\n",
              "       13.9, 16.3, 17. , 20.1, 29.9, 17.2, 37.3, 45.4, 17.8, 23.2, 29. ,\n",
              "       22. , 18. , 17.4, 34.6, 20.1, 25. , 15.6, 24.8, 28.2, 21.2, 21.4,\n",
              "       23.8, 31. , 26.2, 17.4, 37.9, 17.5, 20. ,  8.3, 23.9,  8.4, 13.8,\n",
              "        7.2, 11.7, 17.1, 21.6, 50. , 16.1, 20.4, 20.6, 21.4, 20.6, 36.5,\n",
              "        8.5, 24.8, 10.8, 21.9, 17.3, 18.9, 36.2, 14.9, 18.2, 33.3, 21.8,\n",
              "       19.7, 31.6, 24.8, 19.4, 22.8,  7.5, 44.8, 16.8, 18.7, 50. , 50. ,\n",
              "       19.5, 20.1, 50. , 17.2, 20.8, 19.3, 41.3, 20.4, 20.5, 13.8, 16.5,\n",
              "       23.9, 20.6, 31.5, 23.3, 16.8, 14. , 33.8, 36.1, 12.8, 18.3, 18.7,\n",
              "       19.1, 29. , 30.1, 50. , 50. , 22. , 11.9, 37.6, 50. , 22.7, 20.8,\n",
              "       23.5, 27.9, 50. , 19.3, 23.9, 22.6, 15.2, 21.7, 19.2, 43.8, 20.3,\n",
              "       33.2, 19.9, 22.5, 32.7, 22. , 17.1, 19. , 15. , 16.1, 25.1, 23.7,\n",
              "       28.7, 37.2, 22.6, 16.4, 25. , 29.8, 22.1, 17.4, 18.1, 30.3, 17.5,\n",
              "       24.7, 12.6, 26.5, 28.7, 13.3, 10.4, 24.4, 23. , 20. , 17.8,  7. ,\n",
              "       11.8, 24.4, 13.8, 19.4, 25.2, 19.4, 19.4, 29.1])"
            ]
          },
          "metadata": {},
          "execution_count": 562
        }
      ]
    },
    {
      "cell_type": "code",
      "source": [
        "X_2.shape"
      ],
      "metadata": {
        "colab": {
          "base_uri": "https://localhost:8080/"
        },
        "id": "RrJHiw7J2mx1",
        "outputId": "aadf6f19-0f4f-40f8-b277-59863f7b1113"
      },
      "execution_count": 563,
      "outputs": [
        {
          "output_type": "execute_result",
          "data": {
            "text/plain": [
              "(102, 13)"
            ]
          },
          "metadata": {},
          "execution_count": 563
        }
      ]
    },
    {
      "cell_type": "code",
      "source": [
        "y_2.shape"
      ],
      "metadata": {
        "colab": {
          "base_uri": "https://localhost:8080/"
        },
        "id": "3kDt5hHq2uqq",
        "outputId": "ef67f1a0-6432-4f81-cf53-eca720e8a1c0"
      },
      "execution_count": 564,
      "outputs": [
        {
          "output_type": "execute_result",
          "data": {
            "text/plain": [
              "(102,)"
            ]
          },
          "metadata": {},
          "execution_count": 564
        }
      ]
    },
    {
      "cell_type": "code",
      "source": [
        "from sklearn.model_selection import train_test_split\n",
        "#train_x, valid_x, train_y, valid_y = train_test_split(wu_data, data_y, test_size=0.33, random_state=7)"
      ],
      "metadata": {
        "id": "6NA7hgN52wML"
      },
      "execution_count": 565,
      "outputs": []
    },
    {
      "cell_type": "code",
      "source": [
        "dz10_op(38,53)"
      ],
      "metadata": {
        "colab": {
          "base_uri": "https://localhost:8080/"
        },
        "id": "h_J7jUvmgkk2",
        "outputId": "d3f9b703-c8a9-4240-ca65-e7ae691f29bb"
      },
      "execution_count": 566,
      "outputs": [
        {
          "output_type": "execute_result",
          "data": {
            "text/plain": [
              "array([[-2.93374333e+02,  7.53494537e+01, -1.67503407e+01,\n",
              "        -2.84065797e+00,  6.34260279e-01, -1.83898579e+01,\n",
              "         4.14462015e+00,  4.44112951e+01,  0.00000000e+00,\n",
              "         2.25375322e-01],\n",
              "       [-2.93374333e+02,  7.48381163e+01, -1.64002438e+01,\n",
              "        -2.84065797e+00,  6.34260279e-01,  0.00000000e+00,\n",
              "         0.00000000e+00,  0.00000000e+00, -2.51928828e-02,\n",
              "         2.25375322e-01]])"
            ]
          },
          "metadata": {},
          "execution_count": 566
        }
      ]
    },
    {
      "cell_type": "code",
      "source": [
        "dz10_op(38,53).shape"
      ],
      "metadata": {
        "colab": {
          "base_uri": "https://localhost:8080/"
        },
        "id": "73mAFk5FzomK",
        "outputId": "c9d61877-811c-4d67-f2c6-c542b877cbba"
      },
      "execution_count": 567,
      "outputs": [
        {
          "output_type": "execute_result",
          "data": {
            "text/plain": [
              "(2, 10)"
            ]
          },
          "metadata": {},
          "execution_count": 567
        }
      ]
    },
    {
      "cell_type": "code",
      "source": [
        "def gen10(ame=ame2012):\n",
        "   xs=[]\n",
        "   ys=[]\n",
        "   for k in range(ame.Size()):\n",
        "      Z,N,BE,dBE,IsCalc= ame.BEdata(k)\n",
        "      A=N+Z\n",
        "      A1=1\n",
        "      #if (Z>=6 and Z+N >= 12 and dBE <= 0.1):\n",
        "      if (Z>=20 and N >= 20 and dBE <= 0.1):\n",
        "         opv=dz10_op(Z,N)\n",
        "         #for k in range(opv.shape[1]):\n",
        "         #    opv[0,k] *= 1/A1\n",
        "         #    opv[1,k] *= 1/A1\n",
        "         s= opv[0] # spherical\n",
        "         d= opv[1] # defomred\n",
        "         #x= np.array([Z,N,d[0],d[1],d[2],d[3],d[4],s[5],s[6],s[7], s[8],s[9]])\n",
        "         #x= np.array([d[0],d[1],d[2],d[3],d[4],s[5],s[6],s[7], s[8],s[9]])\n",
        "         #x= np.array([d[0],d[1],d[2],s[5],s[6],s[7],s[8],s[9]])\n",
        "         x= np.array([opv[1,0],opv[1,1],opv[1,2],opv[0,5],opv[0,6],opv[1,7],opv[1,8],opv[1,9]])\n",
        "         #x= np.array([Z,N])\n",
        "         #xs.append(x)\n",
        "         xs.append(x)\n",
        "         #y= (BE- dz10(Z,N))/A1\n",
        "         y= (BE- dz10(Z,N))\n",
        "         #y= BE\n",
        "         ys.append(y)\n",
        "   return np.array(xs), np.array(ys)"
      ],
      "metadata": {
        "id": "M-0hKRAfgtcN"
      },
      "execution_count": 582,
      "outputs": []
    },
    {
      "cell_type": "code",
      "source": [
        "gen10()"
      ],
      "metadata": {
        "colab": {
          "base_uri": "https://localhost:8080/"
        },
        "id": "-tlB94Z5rmV4",
        "outputId": "bd8a7011-7806-43b1-88ac-2070f07c0487"
      },
      "execution_count": 569,
      "outputs": [
        {
          "output_type": "execute_result",
          "data": {
            "text/plain": [
              "(array([[-9.89866284e+00,  7.33508820e+00, -3.54306947e+00, ...,\n",
              "          0.00000000e+00,  1.74716093e+00,  8.73580465e-01],\n",
              "        [-1.44344285e+01,  7.14876496e+00, -3.10503609e+00, ...,\n",
              "          0.00000000e+00,  4.62447743e-01,  7.38200911e-02],\n",
              "        [-2.01613084e+01,  7.90693742e+00, -3.51000837e+00, ...,\n",
              "          0.00000000e+00,  1.22534420e-01,  7.70177063e-01],\n",
              "        ...,\n",
              "        [-1.80899885e+03,  2.30265026e+02, -3.59899120e+01, ...,\n",
              "          0.00000000e+00,  3.37572441e-01,  2.85664704e-01],\n",
              "        [-1.80728263e+03,  2.31331545e+02, -3.61415592e+01, ...,\n",
              "          0.00000000e+00,  3.34067911e-01,  1.57302278e-01],\n",
              "        [-1.80389303e+03,  2.33478391e+02, -3.64481727e+01, ...,\n",
              "          0.00000000e+00,  3.24274147e-01,  1.57097355e-01]]),\n",
              " array([ 0.63065475,  0.13245971,  0.94737409, ..., -2.46801985,\n",
              "        -2.46363192, -3.38781186]))"
            ]
          },
          "metadata": {},
          "execution_count": 569
        }
      ]
    },
    {
      "cell_type": "code",
      "source": [
        "class AME_ANN(models.Model):\n",
        "  def __init__(self, Nin, Nh1, Nh2):\n",
        "    hidden1=layers.Dense(Nh1)\n",
        "    hidden2=layers.Dense(Nh2)\n",
        "    output= layers.Dense(1)\n",
        "    relu= layers.Activation('relu')\n",
        "\n",
        "    x= layers.Input(shape=(Nin,))\n",
        "    h1= relu(hidden1(x))\n",
        "    h2= relu(hidden2(h1))\n",
        "    y= output(h2)\n",
        "\n",
        "    super().__init__(x,y)\n",
        "    self.compile(loss='mse',optimizer='sgd')\n",
        "\n",
        "  '''\n",
        "  def __init__(self, Nin, Nh1, Nh2, Nh3):\n",
        "    hidden1=layers.Dense(Nh1)\n",
        "    hidden2=layers.Dense(Nh2)\n",
        "    hidden3=layers.Dense(Nh3)\n",
        "    output= layers.Dense(1)\n",
        "    relu= layers.Activation('relu')\n",
        "\n",
        "    x= layers.Input(shape=(Nin,))\n",
        "    h1= relu(hidden1(x))\n",
        "    h2= relu(hidden2(h1))\n",
        "    h3= relu(hidden3(h2))\n",
        "    y= output(h3)\n",
        "\n",
        "    super().__init__(x,y)\n",
        "    self.compile(loss='mse',optimizer='sgd')\n",
        "    '''\n",
        "#from keras import datasets\n",
        "#from keras.datasets import boston_housing\n",
        "\n",
        "\n",
        "def ame_run(ame=ame2012, epochs=100, batch=2000, yscale='linear'):\n",
        "  #(X_train, y_train), (X_test, y_test)= boston_housing.load_data()\n",
        "  #X_train, X_test, y_train, y_test = train_test_split(xst, yst, test_size=0.33, random_state=7)\n",
        "  xst, yst= gen10()\n",
        "  X_train, X_test, y_train, y_test = train_test_split(xst, yst, test_size=0.33, random_state=7)\n",
        "\n",
        "  scaler= preprocessing.MinMaxScaler()\n",
        "  X_train= scaler.fit_transform(X_train)\n",
        "  X_test=scaler.transform(X_test)\n",
        "\n",
        "  Nin=(X_train.shape)[1]\n",
        "  #model= AME_ANN(Nin,Nh1,Nh2,Nh3)\n",
        "  model= AME_ANN(Nin,8,4)\n",
        "\n",
        "  history= model.fit(X_train, y_train, epochs=epochs, batch_size=batch, validation_split=0.2, verbose=2)\n",
        "  performance_test=model.evaluate(X_test, y_test, batch_size=batch)\n",
        "  print('Test Loss and Accuracy ->', performance_test)\n",
        "\n",
        "  plot_loss(history,yscale=yscale)\n",
        "  plt.show()\n",
        "\n",
        "  #predictions=model.predict(X_test)\n",
        "  #plt.plot(y_test)\n",
        "  #plt.plot(predictions)\n",
        "  #plt.title('prediction')\n",
        "  #plt.xlabel('Y')\n",
        "  #plt.xlabel('test')\n",
        "  #plt.legend(['y_test','predictions'], loc=0)\n",
        "  #plt.show()"
      ],
      "metadata": {
        "id": "GmwPkzR3jR9z"
      },
      "execution_count": 589,
      "outputs": []
    },
    {
      "cell_type": "code",
      "source": [
        "ame_run(yscale='log',epochs=100)"
      ],
      "metadata": {
        "colab": {
          "base_uri": "https://localhost:8080/",
          "height": 1000
        },
        "id": "WHq3iDKvkKQV",
        "outputId": "e655c108-edf7-463c-bc5d-c25c53e4ac85"
      },
      "execution_count": 590,
      "outputs": [
        {
          "output_type": "stream",
          "name": "stdout",
          "text": [
            "Epoch 1/100\n",
            "1/1 - 1s - loss: 0.5089 - val_loss: 0.3858 - 677ms/epoch - 677ms/step\n",
            "Epoch 2/100\n",
            "1/1 - 0s - loss: 0.4680 - val_loss: 0.3567 - 37ms/epoch - 37ms/step\n",
            "Epoch 3/100\n",
            "1/1 - 0s - loss: 0.4381 - val_loss: 0.3353 - 43ms/epoch - 43ms/step\n",
            "Epoch 4/100\n",
            "1/1 - 0s - loss: 0.4160 - val_loss: 0.3194 - 38ms/epoch - 38ms/step\n",
            "Epoch 5/100\n",
            "1/1 - 0s - loss: 0.3996 - val_loss: 0.3075 - 39ms/epoch - 39ms/step\n",
            "Epoch 6/100\n",
            "1/1 - 0s - loss: 0.3872 - val_loss: 0.2986 - 42ms/epoch - 42ms/step\n",
            "Epoch 7/100\n",
            "1/1 - 0s - loss: 0.3779 - val_loss: 0.2919 - 44ms/epoch - 44ms/step\n",
            "Epoch 8/100\n",
            "1/1 - 0s - loss: 0.3707 - val_loss: 0.2868 - 39ms/epoch - 39ms/step\n",
            "Epoch 9/100\n",
            "1/1 - 0s - loss: 0.3652 - val_loss: 0.2828 - 50ms/epoch - 50ms/step\n",
            "Epoch 10/100\n",
            "1/1 - 0s - loss: 0.3609 - val_loss: 0.2797 - 41ms/epoch - 41ms/step\n",
            "Epoch 11/100\n",
            "1/1 - 0s - loss: 0.3575 - val_loss: 0.2774 - 39ms/epoch - 39ms/step\n",
            "Epoch 12/100\n",
            "1/1 - 0s - loss: 0.3548 - val_loss: 0.2756 - 41ms/epoch - 41ms/step\n",
            "Epoch 13/100\n",
            "1/1 - 0s - loss: 0.3527 - val_loss: 0.2741 - 40ms/epoch - 40ms/step\n",
            "Epoch 14/100\n",
            "1/1 - 0s - loss: 0.3510 - val_loss: 0.2730 - 39ms/epoch - 39ms/step\n",
            "Epoch 15/100\n",
            "1/1 - 0s - loss: 0.3496 - val_loss: 0.2720 - 40ms/epoch - 40ms/step\n",
            "Epoch 16/100\n",
            "1/1 - 0s - loss: 0.3484 - val_loss: 0.2713 - 45ms/epoch - 45ms/step\n",
            "Epoch 17/100\n",
            "1/1 - 0s - loss: 0.3474 - val_loss: 0.2706 - 41ms/epoch - 41ms/step\n",
            "Epoch 18/100\n",
            "1/1 - 0s - loss: 0.3465 - val_loss: 0.2701 - 40ms/epoch - 40ms/step\n",
            "Epoch 19/100\n",
            "1/1 - 0s - loss: 0.3458 - val_loss: 0.2697 - 37ms/epoch - 37ms/step\n",
            "Epoch 20/100\n",
            "1/1 - 0s - loss: 0.3452 - val_loss: 0.2693 - 39ms/epoch - 39ms/step\n",
            "Epoch 21/100\n",
            "1/1 - 0s - loss: 0.3446 - val_loss: 0.2690 - 41ms/epoch - 41ms/step\n",
            "Epoch 22/100\n",
            "1/1 - 0s - loss: 0.3440 - val_loss: 0.2686 - 48ms/epoch - 48ms/step\n",
            "Epoch 23/100\n",
            "1/1 - 0s - loss: 0.3435 - val_loss: 0.2684 - 41ms/epoch - 41ms/step\n",
            "Epoch 24/100\n",
            "1/1 - 0s - loss: 0.3431 - val_loss: 0.2681 - 46ms/epoch - 46ms/step\n",
            "Epoch 25/100\n",
            "1/1 - 0s - loss: 0.3426 - val_loss: 0.2679 - 42ms/epoch - 42ms/step\n",
            "Epoch 26/100\n",
            "1/1 - 0s - loss: 0.3422 - val_loss: 0.2677 - 43ms/epoch - 43ms/step\n",
            "Epoch 27/100\n",
            "1/1 - 0s - loss: 0.3418 - val_loss: 0.2674 - 44ms/epoch - 44ms/step\n",
            "Epoch 28/100\n",
            "1/1 - 0s - loss: 0.3414 - val_loss: 0.2672 - 43ms/epoch - 43ms/step\n",
            "Epoch 29/100\n",
            "1/1 - 0s - loss: 0.3410 - val_loss: 0.2670 - 43ms/epoch - 43ms/step\n",
            "Epoch 30/100\n",
            "1/1 - 0s - loss: 0.3407 - val_loss: 0.2668 - 39ms/epoch - 39ms/step\n",
            "Epoch 31/100\n",
            "1/1 - 0s - loss: 0.3403 - val_loss: 0.2666 - 49ms/epoch - 49ms/step\n",
            "Epoch 32/100\n",
            "1/1 - 0s - loss: 0.3400 - val_loss: 0.2665 - 41ms/epoch - 41ms/step\n",
            "Epoch 33/100\n",
            "1/1 - 0s - loss: 0.3397 - val_loss: 0.2663 - 43ms/epoch - 43ms/step\n",
            "Epoch 34/100\n",
            "1/1 - 0s - loss: 0.3393 - val_loss: 0.2661 - 40ms/epoch - 40ms/step\n",
            "Epoch 35/100\n",
            "1/1 - 0s - loss: 0.3390 - val_loss: 0.2659 - 40ms/epoch - 40ms/step\n",
            "Epoch 36/100\n",
            "1/1 - 0s - loss: 0.3387 - val_loss: 0.2657 - 39ms/epoch - 39ms/step\n",
            "Epoch 37/100\n",
            "1/1 - 0s - loss: 0.3384 - val_loss: 0.2655 - 39ms/epoch - 39ms/step\n",
            "Epoch 38/100\n",
            "1/1 - 0s - loss: 0.3381 - val_loss: 0.2654 - 44ms/epoch - 44ms/step\n",
            "Epoch 39/100\n",
            "1/1 - 0s - loss: 0.3378 - val_loss: 0.2652 - 43ms/epoch - 43ms/step\n",
            "Epoch 40/100\n",
            "1/1 - 0s - loss: 0.3375 - val_loss: 0.2650 - 41ms/epoch - 41ms/step\n",
            "Epoch 41/100\n",
            "1/1 - 0s - loss: 0.3372 - val_loss: 0.2649 - 40ms/epoch - 40ms/step\n",
            "Epoch 42/100\n",
            "1/1 - 0s - loss: 0.3369 - val_loss: 0.2647 - 40ms/epoch - 40ms/step\n",
            "Epoch 43/100\n",
            "1/1 - 0s - loss: 0.3366 - val_loss: 0.2646 - 51ms/epoch - 51ms/step\n",
            "Epoch 44/100\n",
            "1/1 - 0s - loss: 0.3363 - val_loss: 0.2645 - 38ms/epoch - 38ms/step\n",
            "Epoch 45/100\n",
            "1/1 - 0s - loss: 0.3360 - val_loss: 0.2643 - 41ms/epoch - 41ms/step\n",
            "Epoch 46/100\n",
            "1/1 - 0s - loss: 0.3357 - val_loss: 0.2642 - 43ms/epoch - 43ms/step\n",
            "Epoch 47/100\n",
            "1/1 - 0s - loss: 0.3354 - val_loss: 0.2640 - 41ms/epoch - 41ms/step\n",
            "Epoch 48/100\n",
            "1/1 - 0s - loss: 0.3352 - val_loss: 0.2639 - 42ms/epoch - 42ms/step\n",
            "Epoch 49/100\n",
            "1/1 - 0s - loss: 0.3349 - val_loss: 0.2638 - 42ms/epoch - 42ms/step\n",
            "Epoch 50/100\n",
            "1/1 - 0s - loss: 0.3346 - val_loss: 0.2637 - 42ms/epoch - 42ms/step\n",
            "Epoch 51/100\n",
            "1/1 - 0s - loss: 0.3344 - val_loss: 0.2635 - 58ms/epoch - 58ms/step\n",
            "Epoch 52/100\n",
            "1/1 - 0s - loss: 0.3341 - val_loss: 0.2634 - 39ms/epoch - 39ms/step\n",
            "Epoch 53/100\n",
            "1/1 - 0s - loss: 0.3338 - val_loss: 0.2633 - 44ms/epoch - 44ms/step\n",
            "Epoch 54/100\n",
            "1/1 - 0s - loss: 0.3336 - val_loss: 0.2632 - 42ms/epoch - 42ms/step\n",
            "Epoch 55/100\n",
            "1/1 - 0s - loss: 0.3334 - val_loss: 0.2631 - 38ms/epoch - 38ms/step\n",
            "Epoch 56/100\n",
            "1/1 - 0s - loss: 0.3331 - val_loss: 0.2630 - 38ms/epoch - 38ms/step\n",
            "Epoch 57/100\n",
            "1/1 - 0s - loss: 0.3329 - val_loss: 0.2629 - 38ms/epoch - 38ms/step\n",
            "Epoch 58/100\n",
            "1/1 - 0s - loss: 0.3327 - val_loss: 0.2628 - 41ms/epoch - 41ms/step\n",
            "Epoch 59/100\n",
            "1/1 - 0s - loss: 0.3324 - val_loss: 0.2627 - 37ms/epoch - 37ms/step\n",
            "Epoch 60/100\n",
            "1/1 - 0s - loss: 0.3322 - val_loss: 0.2626 - 43ms/epoch - 43ms/step\n",
            "Epoch 61/100\n",
            "1/1 - 0s - loss: 0.3320 - val_loss: 0.2625 - 37ms/epoch - 37ms/step\n",
            "Epoch 62/100\n",
            "1/1 - 0s - loss: 0.3317 - val_loss: 0.2624 - 39ms/epoch - 39ms/step\n",
            "Epoch 63/100\n",
            "1/1 - 0s - loss: 0.3315 - val_loss: 0.2623 - 39ms/epoch - 39ms/step\n",
            "Epoch 64/100\n",
            "1/1 - 0s - loss: 0.3313 - val_loss: 0.2622 - 40ms/epoch - 40ms/step\n",
            "Epoch 65/100\n",
            "1/1 - 0s - loss: 0.3311 - val_loss: 0.2621 - 49ms/epoch - 49ms/step\n",
            "Epoch 66/100\n",
            "1/1 - 0s - loss: 0.3309 - val_loss: 0.2620 - 56ms/epoch - 56ms/step\n",
            "Epoch 67/100\n",
            "1/1 - 0s - loss: 0.3307 - val_loss: 0.2619 - 37ms/epoch - 37ms/step\n",
            "Epoch 68/100\n",
            "1/1 - 0s - loss: 0.3304 - val_loss: 0.2619 - 43ms/epoch - 43ms/step\n",
            "Epoch 69/100\n",
            "1/1 - 0s - loss: 0.3302 - val_loss: 0.2618 - 39ms/epoch - 39ms/step\n",
            "Epoch 70/100\n",
            "1/1 - 0s - loss: 0.3300 - val_loss: 0.2617 - 39ms/epoch - 39ms/step\n",
            "Epoch 71/100\n",
            "1/1 - 0s - loss: 0.3298 - val_loss: 0.2616 - 42ms/epoch - 42ms/step\n",
            "Epoch 72/100\n",
            "1/1 - 0s - loss: 0.3296 - val_loss: 0.2615 - 40ms/epoch - 40ms/step\n",
            "Epoch 73/100\n",
            "1/1 - 0s - loss: 0.3294 - val_loss: 0.2615 - 39ms/epoch - 39ms/step\n",
            "Epoch 74/100\n",
            "1/1 - 0s - loss: 0.3293 - val_loss: 0.2614 - 40ms/epoch - 40ms/step\n",
            "Epoch 75/100\n",
            "1/1 - 0s - loss: 0.3291 - val_loss: 0.2613 - 41ms/epoch - 41ms/step\n",
            "Epoch 76/100\n",
            "1/1 - 0s - loss: 0.3289 - val_loss: 0.2613 - 50ms/epoch - 50ms/step\n",
            "Epoch 77/100\n",
            "1/1 - 0s - loss: 0.3287 - val_loss: 0.2612 - 44ms/epoch - 44ms/step\n",
            "Epoch 78/100\n",
            "1/1 - 0s - loss: 0.3285 - val_loss: 0.2611 - 40ms/epoch - 40ms/step\n",
            "Epoch 79/100\n",
            "1/1 - 0s - loss: 0.3284 - val_loss: 0.2611 - 39ms/epoch - 39ms/step\n",
            "Epoch 80/100\n",
            "1/1 - 0s - loss: 0.3282 - val_loss: 0.2610 - 41ms/epoch - 41ms/step\n",
            "Epoch 81/100\n",
            "1/1 - 0s - loss: 0.3280 - val_loss: 0.2609 - 39ms/epoch - 39ms/step\n",
            "Epoch 82/100\n",
            "1/1 - 0s - loss: 0.3279 - val_loss: 0.2609 - 44ms/epoch - 44ms/step\n",
            "Epoch 83/100\n",
            "1/1 - 0s - loss: 0.3277 - val_loss: 0.2608 - 44ms/epoch - 44ms/step\n",
            "Epoch 84/100\n",
            "1/1 - 0s - loss: 0.3276 - val_loss: 0.2607 - 40ms/epoch - 40ms/step\n",
            "Epoch 85/100\n",
            "1/1 - 0s - loss: 0.3274 - val_loss: 0.2607 - 40ms/epoch - 40ms/step\n",
            "Epoch 86/100\n",
            "1/1 - 0s - loss: 0.3273 - val_loss: 0.2606 - 38ms/epoch - 38ms/step\n",
            "Epoch 87/100\n",
            "1/1 - 0s - loss: 0.3271 - val_loss: 0.2605 - 47ms/epoch - 47ms/step\n",
            "Epoch 88/100\n",
            "1/1 - 0s - loss: 0.3270 - val_loss: 0.2605 - 41ms/epoch - 41ms/step\n",
            "Epoch 89/100\n",
            "1/1 - 0s - loss: 0.3268 - val_loss: 0.2604 - 40ms/epoch - 40ms/step\n",
            "Epoch 90/100\n",
            "1/1 - 0s - loss: 0.3267 - val_loss: 0.2603 - 60ms/epoch - 60ms/step\n",
            "Epoch 91/100\n",
            "1/1 - 0s - loss: 0.3265 - val_loss: 0.2603 - 41ms/epoch - 41ms/step\n",
            "Epoch 92/100\n",
            "1/1 - 0s - loss: 0.3264 - val_loss: 0.2602 - 70ms/epoch - 70ms/step\n",
            "Epoch 93/100\n",
            "1/1 - 0s - loss: 0.3263 - val_loss: 0.2601 - 57ms/epoch - 57ms/step\n",
            "Epoch 94/100\n",
            "1/1 - 0s - loss: 0.3261 - val_loss: 0.2601 - 58ms/epoch - 58ms/step\n",
            "Epoch 95/100\n",
            "1/1 - 0s - loss: 0.3260 - val_loss: 0.2600 - 60ms/epoch - 60ms/step\n",
            "Epoch 96/100\n",
            "1/1 - 0s - loss: 0.3258 - val_loss: 0.2600 - 62ms/epoch - 62ms/step\n",
            "Epoch 97/100\n",
            "1/1 - 0s - loss: 0.3257 - val_loss: 0.2599 - 75ms/epoch - 75ms/step\n",
            "Epoch 98/100\n",
            "1/1 - 0s - loss: 0.3256 - val_loss: 0.2598 - 72ms/epoch - 72ms/step\n",
            "Epoch 99/100\n",
            "1/1 - 0s - loss: 0.3255 - val_loss: 0.2598 - 79ms/epoch - 79ms/step\n",
            "Epoch 100/100\n",
            "1/1 - 0s - loss: 0.3253 - val_loss: 0.2597 - 67ms/epoch - 67ms/step\n",
            "1/1 [==============================] - 0s 56ms/step - loss: 0.3053\n",
            "Test Loss and Accuracy -> 0.30532389879226685\n"
          ]
        },
        {
          "output_type": "display_data",
          "data": {
            "text/plain": [
              "<Figure size 640x480 with 1 Axes>"
            ],
            "image/png": "[encoded data removed]"
          },
          "metadata": {}
        }
      ]
    },
    {
      "cell_type": "code",
      "source": [],
      "metadata": {
        "id": "mDRjCRpvyuUU"
      },
      "execution_count": 571,
      "outputs": []
    }
  ]
}